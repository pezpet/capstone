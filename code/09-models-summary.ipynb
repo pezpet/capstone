{
 "cells": [
  {
   "cell_type": "code",
   "execution_count": 1,
   "metadata": {},
   "outputs": [],
   "source": [
    "import pandas as pd\n",
    "import numpy as np\n",
    "import matplotlib.pyplot as plt\n",
    "import seaborn as sns"
   ]
  },
  {
   "cell_type": "code",
   "execution_count": 6,
   "metadata": {},
   "outputs": [
    {
     "data": {
      "text/html": [
       "<div>\n",
       "<style scoped>\n",
       "    .dataframe tbody tr th:only-of-type {\n",
       "        vertical-align: middle;\n",
       "    }\n",
       "\n",
       "    .dataframe tbody tr th {\n",
       "        vertical-align: top;\n",
       "    }\n",
       "\n",
       "    .dataframe thead th {\n",
       "        text-align: right;\n",
       "    }\n",
       "</style>\n",
       "<table border=\"1\" class=\"dataframe\">\n",
       "  <thead>\n",
       "    <tr style=\"text-align: right;\">\n",
       "      <th></th>\n",
       "      <th>Model Name</th>\n",
       "      <th>Train RMSE</th>\n",
       "      <th>Test RMSE</th>\n",
       "      <th>Observations</th>\n",
       "    </tr>\n",
       "  </thead>\n",
       "  <tbody>\n",
       "    <tr>\n",
       "      <th>0</th>\n",
       "      <td>Neural Network</td>\n",
       "      <td>2.738301</td>\n",
       "      <td>3.046706</td>\n",
       "      <td>Single Dense Layer with 35 neurons</td>\n",
       "    </tr>\n",
       "    <tr>\n",
       "      <th>1</th>\n",
       "      <td>Neural Network with GS</td>\n",
       "      <td>2.850132</td>\n",
       "      <td>3.086159</td>\n",
       "      <td>{'callbacks': &lt;keras.callbacks.EarlyStopping o...</td>\n",
       "    </tr>\n",
       "    <tr>\n",
       "      <th>2</th>\n",
       "      <td>Neural Network with GS</td>\n",
       "      <td>2.930498</td>\n",
       "      <td>3.137320</td>\n",
       "      <td>{'callbacks': &lt;keras.callbacks.EarlyStopping o...</td>\n",
       "    </tr>\n",
       "  </tbody>\n",
       "</table>\n",
       "</div>"
      ],
      "text/plain": [
       "               Model Name  Train RMSE  Test RMSE  \\\n",
       "0          Neural Network    2.738301   3.046706   \n",
       "1  Neural Network with GS    2.850132   3.086159   \n",
       "2  Neural Network with GS    2.930498   3.137320   \n",
       "\n",
       "                                        Observations  \n",
       "0                 Single Dense Layer with 35 neurons  \n",
       "1  {'callbacks': <keras.callbacks.EarlyStopping o...  \n",
       "2  {'callbacks': <keras.callbacks.EarlyStopping o...  "
      ]
     },
     "execution_count": 6,
     "metadata": {},
     "output_type": "execute_result"
    }
   ],
   "source": [
    "linreg = pd.read_csv('../model-results/linreg.csv', index_col=0)\n",
    "xgboost = pd.read_csv('../model-results/xgboost.csv', index_col=0)\n",
    "neural = pd.read_csv('../model-results/neuralnetworks.csv', index_col=0)\n",
    "neural"
   ]
  },
  {
   "cell_type": "code",
   "execution_count": 8,
   "metadata": {},
   "outputs": [
    {
     "data": {
      "text/html": [
       "<div>\n",
       "<style scoped>\n",
       "    .dataframe tbody tr th:only-of-type {\n",
       "        vertical-align: middle;\n",
       "    }\n",
       "\n",
       "    .dataframe tbody tr th {\n",
       "        vertical-align: top;\n",
       "    }\n",
       "\n",
       "    .dataframe thead th {\n",
       "        text-align: right;\n",
       "    }\n",
       "</style>\n",
       "<table border=\"1\" class=\"dataframe\">\n",
       "  <thead>\n",
       "    <tr style=\"text-align: right;\">\n",
       "      <th></th>\n",
       "      <th>Model Name</th>\n",
       "      <th>Train RMSE</th>\n",
       "      <th>Test RMSE</th>\n",
       "      <th>Observations</th>\n",
       "    </tr>\n",
       "  </thead>\n",
       "  <tbody>\n",
       "    <tr>\n",
       "      <th>0</th>\n",
       "      <td>Baseline (y_mean)</td>\n",
       "      <td>3.167511</td>\n",
       "      <td>3.167511</td>\n",
       "      <td>NaN</td>\n",
       "    </tr>\n",
       "    <tr>\n",
       "      <th>1</th>\n",
       "      <td>Linear Regression</td>\n",
       "      <td>2.837831</td>\n",
       "      <td>2.919533</td>\n",
       "      <td>NaN</td>\n",
       "    </tr>\n",
       "    <tr>\n",
       "      <th>2</th>\n",
       "      <td>Lasso Regression</td>\n",
       "      <td>2.923231</td>\n",
       "      <td>2.820082</td>\n",
       "      <td>{'alpha': 0.1}</td>\n",
       "    </tr>\n",
       "    <tr>\n",
       "      <th>3</th>\n",
       "      <td>Ridge Regression</td>\n",
       "      <td>2.953976</td>\n",
       "      <td>2.833252</td>\n",
       "      <td>{'alpha': 200}</td>\n",
       "    </tr>\n",
       "    <tr>\n",
       "      <th>0</th>\n",
       "      <td>XGBoost Regression</td>\n",
       "      <td>1.719407</td>\n",
       "      <td>2.871119</td>\n",
       "      <td>{'learning_rate': 0.001, 'max_depth': 3, 'n_es...</td>\n",
       "    </tr>\n",
       "    <tr>\n",
       "      <th>0</th>\n",
       "      <td>Neural Network</td>\n",
       "      <td>2.738301</td>\n",
       "      <td>3.046706</td>\n",
       "      <td>Single Dense Layer with 35 neurons</td>\n",
       "    </tr>\n",
       "    <tr>\n",
       "      <th>1</th>\n",
       "      <td>Neural Network with GS</td>\n",
       "      <td>2.850132</td>\n",
       "      <td>3.086159</td>\n",
       "      <td>{'callbacks': &lt;keras.callbacks.EarlyStopping o...</td>\n",
       "    </tr>\n",
       "    <tr>\n",
       "      <th>2</th>\n",
       "      <td>Neural Network with GS</td>\n",
       "      <td>2.930498</td>\n",
       "      <td>3.137320</td>\n",
       "      <td>{'callbacks': &lt;keras.callbacks.EarlyStopping o...</td>\n",
       "    </tr>\n",
       "  </tbody>\n",
       "</table>\n",
       "</div>"
      ],
      "text/plain": [
       "               Model Name  Train RMSE  Test RMSE  \\\n",
       "0       Baseline (y_mean)    3.167511   3.167511   \n",
       "1       Linear Regression    2.837831   2.919533   \n",
       "2        Lasso Regression    2.923231   2.820082   \n",
       "3        Ridge Regression    2.953976   2.833252   \n",
       "0      XGBoost Regression    1.719407   2.871119   \n",
       "0          Neural Network    2.738301   3.046706   \n",
       "1  Neural Network with GS    2.850132   3.086159   \n",
       "2  Neural Network with GS    2.930498   3.137320   \n",
       "\n",
       "                                        Observations  \n",
       "0                                                NaN  \n",
       "1                                                NaN  \n",
       "2                                     {'alpha': 0.1}  \n",
       "3                                     {'alpha': 200}  \n",
       "0  {'learning_rate': 0.001, 'max_depth': 3, 'n_es...  \n",
       "0                 Single Dense Layer with 35 neurons  \n",
       "1  {'callbacks': <keras.callbacks.EarlyStopping o...  \n",
       "2  {'callbacks': <keras.callbacks.EarlyStopping o...  "
      ]
     },
     "execution_count": 8,
     "metadata": {},
     "output_type": "execute_result"
    }
   ],
   "source": [
    "data = pd.concat([linreg, xgboost, neural])\n",
    "data"
   ]
  },
  {
   "cell_type": "code",
   "execution_count": 19,
   "metadata": {},
   "outputs": [
    {
     "data": {
      "image/png": "[encoded data removed]",
      "text/plain": [
       "<Figure size 432x288 with 1 Axes>"
      ]
     },
     "metadata": {
      "needs_background": "light"
     },
     "output_type": "display_data"
    }
   ],
   "source": [
    "sns.scatterplot(x=data['Model Name'], y=data['Test RMSE'])\n",
    "plt.xticks(rotation=45);"
   ]
  },
  {
   "cell_type": "code",
   "execution_count": 20,
   "metadata": {},
   "outputs": [
    {
     "data": {
      "image/png": "[encoded data removed]",
      "text/plain": [
       "<Figure size 432x288 with 1 Axes>"
      ]
     },
     "metadata": {
      "needs_background": "light"
     },
     "output_type": "display_data"
    }
   ],
   "source": [
    "sns.scatterplot(x=data['Train RMSE'], y=data['Test RMSE'], hue=data['Model Name'])\n",
    "plt.xticks(rotation=45);"
   ]
  },
  {
   "cell_type": "code",
   "execution_count": null,
   "metadata": {},
   "outputs": [],
   "source": []
  }
 ],
 "metadata": {
  "interpreter": {
   "hash": "f7a0f9bb49171c226bccce8a0987518af550515ba22b4949d7abe766c3680a51"
  },
  "kernelspec": {
   "display_name": "Python 3.9.7 ('base')",
   "language": "python",
   "name": "python3"
  },
  "language_info": {
   "codemirror_mode": {
    "name": "ipython",
    "version": 3
   },
   "file_extension": ".py",
   "mimetype": "text/x-python",
   "name": "python",
   "nbconvert_exporter": "python",
   "pygments_lexer": "ipython3",
   "version": "3.9.7"
  },
  "orig_nbformat": 4
 },
 "nbformat": 4,
 "nbformat_minor": 2
}
