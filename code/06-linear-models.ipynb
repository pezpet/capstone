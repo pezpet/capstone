{
 "cells": [
  {
   "cell_type": "markdown",
   "metadata": {},
   "source": [
    "# Linear Models\n",
    "\n",
    "Build a baseline a linear regression models to predict scores.\n",
    "\n",
    "RMSE is tha main metric for model evaluation."
   ]
  },
  {
   "cell_type": "markdown",
   "metadata": {},
   "source": [
    "## Imports"
   ]
  },
  {
   "cell_type": "code",
   "execution_count": 2,
   "metadata": {},
   "outputs": [],
   "source": [
    "import pandas as pd\n",
    "import numpy as np\n",
    "\n",
    "from sklearn.preprocessing import StandardScaler\n",
    "from sklearn.linear_model import LinearRegression, Lasso, Ridge\n",
    "from sklearn.model_selection import GridSearchCV, train_test_split\n",
    "from sklearn.metrics import mean_squared_error"
   ]
  },
  {
   "cell_type": "code",
   "execution_count": 3,
   "metadata": {},
   "outputs": [
    {
     "data": {
      "text/html": [
       "<div>\n",
       "<style scoped>\n",
       "    .dataframe tbody tr th:only-of-type {\n",
       "        vertical-align: middle;\n",
       "    }\n",
       "\n",
       "    .dataframe tbody tr th {\n",
       "        vertical-align: top;\n",
       "    }\n",
       "\n",
       "    .dataframe thead th {\n",
       "        text-align: right;\n",
       "    }\n",
       "</style>\n",
       "<table border=\"1\" class=\"dataframe\">\n",
       "  <thead>\n",
       "    <tr style=\"text-align: right;\">\n",
       "      <th></th>\n",
       "      <th>wave_height</th>\n",
       "      <th>dominant_period</th>\n",
       "      <th>avg_period</th>\n",
       "      <th>dominant_wave_direction_sin</th>\n",
       "      <th>dominant_wave_direction_cos</th>\n",
       "      <th>wave_height_1.0_h</th>\n",
       "      <th>dominant_period_1.0_h</th>\n",
       "      <th>avg_period_1.0_h</th>\n",
       "      <th>dominant_wave_direction_sin_1.0_h</th>\n",
       "      <th>dominant_wave_direction_cos_1.0_h</th>\n",
       "      <th>...</th>\n",
       "      <th>wave_height_9.0_h</th>\n",
       "      <th>dominant_period_9.0_h</th>\n",
       "      <th>avg_period_9.0_h</th>\n",
       "      <th>dominant_wave_direction_sin_9.0_h</th>\n",
       "      <th>dominant_wave_direction_cos_9.0_h</th>\n",
       "      <th>score</th>\n",
       "      <th>wind_speed</th>\n",
       "      <th>gust_speed</th>\n",
       "      <th>wind_direction_sin</th>\n",
       "      <th>wind_direction_cos</th>\n",
       "    </tr>\n",
       "  </thead>\n",
       "  <tbody>\n",
       "    <tr>\n",
       "      <th>0</th>\n",
       "      <td>2.56</td>\n",
       "      <td>11.76</td>\n",
       "      <td>9.82</td>\n",
       "      <td>-0.681998</td>\n",
       "      <td>0.731354</td>\n",
       "      <td>2.52</td>\n",
       "      <td>13.33</td>\n",
       "      <td>9.60</td>\n",
       "      <td>-0.669131</td>\n",
       "      <td>0.743145</td>\n",
       "      <td>...</td>\n",
       "      <td>2.94</td>\n",
       "      <td>13.33</td>\n",
       "      <td>10.56</td>\n",
       "      <td>-0.719340</td>\n",
       "      <td>0.694658</td>\n",
       "      <td>6.440000</td>\n",
       "      <td>0.60</td>\n",
       "      <td>1.05</td>\n",
       "      <td>0.410719</td>\n",
       "      <td>0.911762</td>\n",
       "    </tr>\n",
       "    <tr>\n",
       "      <th>1</th>\n",
       "      <td>2.46</td>\n",
       "      <td>13.33</td>\n",
       "      <td>9.98</td>\n",
       "      <td>-0.681998</td>\n",
       "      <td>0.731354</td>\n",
       "      <td>2.40</td>\n",
       "      <td>13.33</td>\n",
       "      <td>9.99</td>\n",
       "      <td>-0.669131</td>\n",
       "      <td>0.743145</td>\n",
       "      <td>...</td>\n",
       "      <td>2.80</td>\n",
       "      <td>14.29</td>\n",
       "      <td>10.01</td>\n",
       "      <td>-0.731354</td>\n",
       "      <td>0.681998</td>\n",
       "      <td>7.266667</td>\n",
       "      <td>0.28</td>\n",
       "      <td>0.82</td>\n",
       "      <td>0.671721</td>\n",
       "      <td>-0.740805</td>\n",
       "    </tr>\n",
       "    <tr>\n",
       "      <th>2</th>\n",
       "      <td>2.20</td>\n",
       "      <td>12.50</td>\n",
       "      <td>9.79</td>\n",
       "      <td>-0.681998</td>\n",
       "      <td>0.731354</td>\n",
       "      <td>2.56</td>\n",
       "      <td>11.76</td>\n",
       "      <td>9.82</td>\n",
       "      <td>-0.681998</td>\n",
       "      <td>0.731354</td>\n",
       "      <td>...</td>\n",
       "      <td>2.71</td>\n",
       "      <td>13.33</td>\n",
       "      <td>9.84</td>\n",
       "      <td>-0.681998</td>\n",
       "      <td>0.731354</td>\n",
       "      <td>7.223333</td>\n",
       "      <td>0.20</td>\n",
       "      <td>0.78</td>\n",
       "      <td>0.972776</td>\n",
       "      <td>-0.231748</td>\n",
       "    </tr>\n",
       "    <tr>\n",
       "      <th>3</th>\n",
       "      <td>2.33</td>\n",
       "      <td>11.76</td>\n",
       "      <td>9.75</td>\n",
       "      <td>-0.681998</td>\n",
       "      <td>0.731354</td>\n",
       "      <td>2.46</td>\n",
       "      <td>13.33</td>\n",
       "      <td>9.98</td>\n",
       "      <td>-0.681998</td>\n",
       "      <td>0.731354</td>\n",
       "      <td>...</td>\n",
       "      <td>2.67</td>\n",
       "      <td>13.33</td>\n",
       "      <td>9.67</td>\n",
       "      <td>-0.694658</td>\n",
       "      <td>0.719340</td>\n",
       "      <td>15.180000</td>\n",
       "      <td>0.28</td>\n",
       "      <td>0.70</td>\n",
       "      <td>0.829038</td>\n",
       "      <td>0.559193</td>\n",
       "    </tr>\n",
       "    <tr>\n",
       "      <th>4</th>\n",
       "      <td>2.48</td>\n",
       "      <td>11.76</td>\n",
       "      <td>10.13</td>\n",
       "      <td>-0.529919</td>\n",
       "      <td>0.848048</td>\n",
       "      <td>2.20</td>\n",
       "      <td>12.50</td>\n",
       "      <td>9.79</td>\n",
       "      <td>-0.681998</td>\n",
       "      <td>0.731354</td>\n",
       "      <td>...</td>\n",
       "      <td>2.65</td>\n",
       "      <td>14.29</td>\n",
       "      <td>9.92</td>\n",
       "      <td>-0.719340</td>\n",
       "      <td>0.694658</td>\n",
       "      <td>4.786667</td>\n",
       "      <td>0.52</td>\n",
       "      <td>0.90</td>\n",
       "      <td>-0.923210</td>\n",
       "      <td>0.384295</td>\n",
       "    </tr>\n",
       "    <tr>\n",
       "      <th>...</th>\n",
       "      <td>...</td>\n",
       "      <td>...</td>\n",
       "      <td>...</td>\n",
       "      <td>...</td>\n",
       "      <td>...</td>\n",
       "      <td>...</td>\n",
       "      <td>...</td>\n",
       "      <td>...</td>\n",
       "      <td>...</td>\n",
       "      <td>...</td>\n",
       "      <td>...</td>\n",
       "      <td>...</td>\n",
       "      <td>...</td>\n",
       "      <td>...</td>\n",
       "      <td>...</td>\n",
       "      <td>...</td>\n",
       "      <td>...</td>\n",
       "      <td>...</td>\n",
       "      <td>...</td>\n",
       "      <td>...</td>\n",
       "      <td>...</td>\n",
       "    </tr>\n",
       "    <tr>\n",
       "      <th>343</th>\n",
       "      <td>2.00</td>\n",
       "      <td>13.00</td>\n",
       "      <td>11.00</td>\n",
       "      <td>-0.681998</td>\n",
       "      <td>0.731354</td>\n",
       "      <td>1.90</td>\n",
       "      <td>13.00</td>\n",
       "      <td>11.00</td>\n",
       "      <td>-0.882948</td>\n",
       "      <td>0.469472</td>\n",
       "      <td>...</td>\n",
       "      <td>2.10</td>\n",
       "      <td>13.00</td>\n",
       "      <td>10.80</td>\n",
       "      <td>-0.669131</td>\n",
       "      <td>0.743145</td>\n",
       "      <td>17.300000</td>\n",
       "      <td>0.00</td>\n",
       "      <td>0.60</td>\n",
       "      <td>0.000000</td>\n",
       "      <td>1.000000</td>\n",
       "    </tr>\n",
       "    <tr>\n",
       "      <th>344</th>\n",
       "      <td>2.00</td>\n",
       "      <td>13.00</td>\n",
       "      <td>11.30</td>\n",
       "      <td>-0.819152</td>\n",
       "      <td>0.573576</td>\n",
       "      <td>1.90</td>\n",
       "      <td>13.00</td>\n",
       "      <td>10.60</td>\n",
       "      <td>-0.766044</td>\n",
       "      <td>0.642788</td>\n",
       "      <td>...</td>\n",
       "      <td>1.80</td>\n",
       "      <td>13.00</td>\n",
       "      <td>10.70</td>\n",
       "      <td>-0.719340</td>\n",
       "      <td>0.694658</td>\n",
       "      <td>6.700000</td>\n",
       "      <td>0.70</td>\n",
       "      <td>1.54</td>\n",
       "      <td>-0.961262</td>\n",
       "      <td>-0.275637</td>\n",
       "    </tr>\n",
       "    <tr>\n",
       "      <th>345</th>\n",
       "      <td>2.10</td>\n",
       "      <td>13.00</td>\n",
       "      <td>11.40</td>\n",
       "      <td>-0.819152</td>\n",
       "      <td>0.573576</td>\n",
       "      <td>2.00</td>\n",
       "      <td>13.00</td>\n",
       "      <td>11.00</td>\n",
       "      <td>-0.681998</td>\n",
       "      <td>0.731354</td>\n",
       "      <td>...</td>\n",
       "      <td>1.80</td>\n",
       "      <td>13.00</td>\n",
       "      <td>10.70</td>\n",
       "      <td>-0.587785</td>\n",
       "      <td>0.809017</td>\n",
       "      <td>9.630000</td>\n",
       "      <td>1.40</td>\n",
       "      <td>2.20</td>\n",
       "      <td>-0.743145</td>\n",
       "      <td>0.669131</td>\n",
       "    </tr>\n",
       "    <tr>\n",
       "      <th>346</th>\n",
       "      <td>2.10</td>\n",
       "      <td>13.00</td>\n",
       "      <td>11.20</td>\n",
       "      <td>-0.838671</td>\n",
       "      <td>0.544639</td>\n",
       "      <td>2.00</td>\n",
       "      <td>13.00</td>\n",
       "      <td>11.30</td>\n",
       "      <td>-0.819152</td>\n",
       "      <td>0.573576</td>\n",
       "      <td>...</td>\n",
       "      <td>1.90</td>\n",
       "      <td>13.00</td>\n",
       "      <td>10.80</td>\n",
       "      <td>-0.743145</td>\n",
       "      <td>0.669131</td>\n",
       "      <td>9.915000</td>\n",
       "      <td>2.18</td>\n",
       "      <td>2.70</td>\n",
       "      <td>-0.719340</td>\n",
       "      <td>0.694658</td>\n",
       "    </tr>\n",
       "    <tr>\n",
       "      <th>347</th>\n",
       "      <td>2.00</td>\n",
       "      <td>13.00</td>\n",
       "      <td>11.50</td>\n",
       "      <td>-0.788011</td>\n",
       "      <td>0.615661</td>\n",
       "      <td>2.10</td>\n",
       "      <td>13.00</td>\n",
       "      <td>11.40</td>\n",
       "      <td>-0.819152</td>\n",
       "      <td>0.573576</td>\n",
       "      <td>...</td>\n",
       "      <td>1.90</td>\n",
       "      <td>13.00</td>\n",
       "      <td>10.80</td>\n",
       "      <td>-0.656059</td>\n",
       "      <td>0.754710</td>\n",
       "      <td>15.650000</td>\n",
       "      <td>0.60</td>\n",
       "      <td>1.44</td>\n",
       "      <td>-0.829038</td>\n",
       "      <td>-0.559193</td>\n",
       "    </tr>\n",
       "  </tbody>\n",
       "</table>\n",
       "<p>348 rows × 35 columns</p>\n",
       "</div>"
      ],
      "text/plain": [
       "     wave_height  dominant_period  avg_period  dominant_wave_direction_sin  \\\n",
       "0           2.56            11.76        9.82                    -0.681998   \n",
       "1           2.46            13.33        9.98                    -0.681998   \n",
       "2           2.20            12.50        9.79                    -0.681998   \n",
       "3           2.33            11.76        9.75                    -0.681998   \n",
       "4           2.48            11.76       10.13                    -0.529919   \n",
       "..           ...              ...         ...                          ...   \n",
       "343         2.00            13.00       11.00                    -0.681998   \n",
       "344         2.00            13.00       11.30                    -0.819152   \n",
       "345         2.10            13.00       11.40                    -0.819152   \n",
       "346         2.10            13.00       11.20                    -0.838671   \n",
       "347         2.00            13.00       11.50                    -0.788011   \n",
       "\n",
       "     dominant_wave_direction_cos  wave_height_1.0_h  dominant_period_1.0_h  \\\n",
       "0                       0.731354               2.52                  13.33   \n",
       "1                       0.731354               2.40                  13.33   \n",
       "2                       0.731354               2.56                  11.76   \n",
       "3                       0.731354               2.46                  13.33   \n",
       "4                       0.848048               2.20                  12.50   \n",
       "..                           ...                ...                    ...   \n",
       "343                     0.731354               1.90                  13.00   \n",
       "344                     0.573576               1.90                  13.00   \n",
       "345                     0.573576               2.00                  13.00   \n",
       "346                     0.544639               2.00                  13.00   \n",
       "347                     0.615661               2.10                  13.00   \n",
       "\n",
       "     avg_period_1.0_h  dominant_wave_direction_sin_1.0_h  \\\n",
       "0                9.60                          -0.669131   \n",
       "1                9.99                          -0.669131   \n",
       "2                9.82                          -0.681998   \n",
       "3                9.98                          -0.681998   \n",
       "4                9.79                          -0.681998   \n",
       "..                ...                                ...   \n",
       "343             11.00                          -0.882948   \n",
       "344             10.60                          -0.766044   \n",
       "345             11.00                          -0.681998   \n",
       "346             11.30                          -0.819152   \n",
       "347             11.40                          -0.819152   \n",
       "\n",
       "     dominant_wave_direction_cos_1.0_h  ...  wave_height_9.0_h  \\\n",
       "0                             0.743145  ...               2.94   \n",
       "1                             0.743145  ...               2.80   \n",
       "2                             0.731354  ...               2.71   \n",
       "3                             0.731354  ...               2.67   \n",
       "4                             0.731354  ...               2.65   \n",
       "..                                 ...  ...                ...   \n",
       "343                           0.469472  ...               2.10   \n",
       "344                           0.642788  ...               1.80   \n",
       "345                           0.731354  ...               1.80   \n",
       "346                           0.573576  ...               1.90   \n",
       "347                           0.573576  ...               1.90   \n",
       "\n",
       "     dominant_period_9.0_h  avg_period_9.0_h  \\\n",
       "0                    13.33             10.56   \n",
       "1                    14.29             10.01   \n",
       "2                    13.33              9.84   \n",
       "3                    13.33              9.67   \n",
       "4                    14.29              9.92   \n",
       "..                     ...               ...   \n",
       "343                  13.00             10.80   \n",
       "344                  13.00             10.70   \n",
       "345                  13.00             10.70   \n",
       "346                  13.00             10.80   \n",
       "347                  13.00             10.80   \n",
       "\n",
       "     dominant_wave_direction_sin_9.0_h  dominant_wave_direction_cos_9.0_h  \\\n",
       "0                            -0.719340                           0.694658   \n",
       "1                            -0.731354                           0.681998   \n",
       "2                            -0.681998                           0.731354   \n",
       "3                            -0.694658                           0.719340   \n",
       "4                            -0.719340                           0.694658   \n",
       "..                                 ...                                ...   \n",
       "343                          -0.669131                           0.743145   \n",
       "344                          -0.719340                           0.694658   \n",
       "345                          -0.587785                           0.809017   \n",
       "346                          -0.743145                           0.669131   \n",
       "347                          -0.656059                           0.754710   \n",
       "\n",
       "         score  wind_speed  gust_speed  wind_direction_sin  wind_direction_cos  \n",
       "0     6.440000        0.60        1.05            0.410719            0.911762  \n",
       "1     7.266667        0.28        0.82            0.671721           -0.740805  \n",
       "2     7.223333        0.20        0.78            0.972776           -0.231748  \n",
       "3    15.180000        0.28        0.70            0.829038            0.559193  \n",
       "4     4.786667        0.52        0.90           -0.923210            0.384295  \n",
       "..         ...         ...         ...                 ...                 ...  \n",
       "343  17.300000        0.00        0.60            0.000000            1.000000  \n",
       "344   6.700000        0.70        1.54           -0.961262           -0.275637  \n",
       "345   9.630000        1.40        2.20           -0.743145            0.669131  \n",
       "346   9.915000        2.18        2.70           -0.719340            0.694658  \n",
       "347  15.650000        0.60        1.44           -0.829038           -0.559193  \n",
       "\n",
       "[348 rows x 35 columns]"
      ]
     },
     "execution_count": 3,
     "metadata": {},
     "output_type": "execute_result"
    }
   ],
   "source": [
    "data = pd.read_csv('../data/merged_data.csv')\n",
    "data.drop(columns='Unnamed: 0', inplace=True)\n",
    "data"
   ]
  },
  {
   "cell_type": "markdown",
   "metadata": {
    "id": "95BTpmyNSqUJ"
   },
   "source": [
    "## X, y"
   ]
  },
  {
   "cell_type": "code",
   "execution_count": 4,
   "metadata": {
    "executionInfo": {
     "elapsed": 14,
     "status": "ok",
     "timestamp": 1647192524587,
     "user": {
      "displayName": "Andrés Pérez",
      "photoUrl": "https://lh3.googleusercontent.com/a/default-user=s64",
      "userId": "02437951859850806317"
     },
     "user_tz": 420
    },
    "id": "_e0u8pgKPoE7"
   },
   "outputs": [],
   "source": [
    "# split data into input and output columns\n",
    "X = data.drop(columns=\"score\")\n",
    "y = data[\"score\"]"
   ]
  },
  {
   "cell_type": "code",
   "execution_count": 31,
   "metadata": {},
   "outputs": [
    {
     "data": {
      "text/plain": [
       "Index(['wave_height', 'dominant_period', 'avg_period',\n",
       "       'dominant_wave_direction_sin', 'dominant_wave_direction_cos',\n",
       "       'wave_height_1.0_h', 'dominant_period_1.0_h', 'avg_period_1.0_h',\n",
       "       'dominant_wave_direction_sin_1.0_h',\n",
       "       'dominant_wave_direction_cos_1.0_h', 'wave_height_1.5_h',\n",
       "       'dominant_period_1.5_h', 'avg_period_1.5_h',\n",
       "       'dominant_wave_direction_sin_1.5_h',\n",
       "       'dominant_wave_direction_cos_1.5_h', 'wave_height_3.0_h',\n",
       "       'dominant_period_3.0_h', 'avg_period_3.0_h',\n",
       "       'dominant_wave_direction_sin_3.0_h',\n",
       "       'dominant_wave_direction_cos_3.0_h', 'wave_height_6.0_h',\n",
       "       'dominant_period_6.0_h', 'avg_period_6.0_h',\n",
       "       'dominant_wave_direction_sin_6.0_h',\n",
       "       'dominant_wave_direction_cos_6.0_h', 'wave_height_9.0_h',\n",
       "       'dominant_period_9.0_h', 'avg_period_9.0_h',\n",
       "       'dominant_wave_direction_sin_9.0_h',\n",
       "       'dominant_wave_direction_cos_9.0_h', 'wind_speed', 'gust_speed',\n",
       "       'wind_direction_sin', 'wind_direction_cos'],\n",
       "      dtype='object')"
      ]
     },
     "execution_count": 31,
     "metadata": {},
     "output_type": "execute_result"
    }
   ],
   "source": [
    "X.columns"
   ]
  },
  {
   "cell_type": "markdown",
   "metadata": {
    "id": "LK17hz7RSwI6"
   },
   "source": [
    "## Standard Scaling"
   ]
  },
  {
   "cell_type": "code",
   "execution_count": 5,
   "metadata": {
    "executionInfo": {
     "elapsed": 14,
     "status": "ok",
     "timestamp": 1647192524588,
     "user": {
      "displayName": "Andrés Pérez",
      "photoUrl": "https://lh3.googleusercontent.com/a/default-user=s64",
      "userId": "02437951859850806317"
     },
     "user_tz": 420
    },
    "id": "cYGfLMwaSyGG"
   },
   "outputs": [],
   "source": [
    "ss = StandardScaler()\n",
    "X_sc = ss.fit_transform(X)"
   ]
  },
  {
   "cell_type": "markdown",
   "metadata": {
    "id": "NZlxdNcVS92v"
   },
   "source": [
    "## Train, test split"
   ]
  },
  {
   "cell_type": "code",
   "execution_count": 6,
   "metadata": {
    "executionInfo": {
     "elapsed": 14,
     "status": "ok",
     "timestamp": 1647192524588,
     "user": {
      "displayName": "Andrés Pérez",
      "photoUrl": "https://lh3.googleusercontent.com/a/default-user=s64",
      "userId": "02437951859850806317"
     },
     "user_tz": 420
    },
    "id": "51-C5EYoTAWD"
   },
   "outputs": [],
   "source": [
    "# train test split\n",
    "X_train, X_test, y_train, y_test = train_test_split(X_sc, y, random_state=1331)"
   ]
  },
  {
   "cell_type": "markdown",
   "metadata": {},
   "source": [
    "## Baseline"
   ]
  },
  {
   "cell_type": "code",
   "execution_count": 7,
   "metadata": {
    "colab": {
     "base_uri": "https://localhost:8080/"
    },
    "executionInfo": {
     "elapsed": 14,
     "status": "ok",
     "timestamp": 1647192524589,
     "user": {
      "displayName": "Andrés Pérez",
      "photoUrl": "https://lh3.googleusercontent.com/a/default-user=s64",
      "userId": "02437951859850806317"
     },
     "user_tz": 420
    },
    "id": "WiOLJGXPNG3g",
    "outputId": "6a67fdbb-67ae-4320-81ba-ca02bda060fa"
   },
   "outputs": [
    {
     "data": {
      "text/plain": [
       "3.1675113889842983"
      ]
     },
     "execution_count": 7,
     "metadata": {},
     "output_type": "execute_result"
    }
   ],
   "source": [
    "y_baseline_preds = np.full_like(y, y.mean()) \n",
    "baseline_rmse = mean_squared_error(y, y_baseline_preds, squared=False)\n",
    "baseline_rmse"
   ]
  },
  {
   "cell_type": "markdown",
   "metadata": {},
   "source": [
    "## Create list of dicts to save model results"
   ]
  },
  {
   "cell_type": "code",
   "execution_count": 8,
   "metadata": {},
   "outputs": [],
   "source": [
    "all_model_results = []\n"
   ]
  },
  {
   "cell_type": "markdown",
   "metadata": {},
   "source": [
    "### Add baseline score"
   ]
  },
  {
   "cell_type": "code",
   "execution_count": 9,
   "metadata": {},
   "outputs": [
    {
     "data": {
      "text/plain": [
       "[{'Model Name': 'Baseline (y_mean)',\n",
       "  'Score Type': 'Baseline RMSE',\n",
       "  'Score': 3.1675113889842983,\n",
       "  'Observations': ''}]"
      ]
     },
     "execution_count": 9,
     "metadata": {},
     "output_type": "execute_result"
    }
   ],
   "source": [
    "baseline_results = {\n",
    "    \"Model Name\": \"Baseline (y_mean)\",\n",
    "    \"Score Type\": 'Baseline RMSE',\n",
    "    \"Score\": baseline_rmse,\n",
    "    \"Observations\": \"\",\n",
    "}\n",
    "all_model_results.append(baseline_results)\n",
    "all_model_results"
   ]
  },
  {
   "cell_type": "markdown",
   "metadata": {},
   "source": [
    "## Linear Regression"
   ]
  },
  {
   "cell_type": "code",
   "execution_count": 10,
   "metadata": {},
   "outputs": [
    {
     "name": "stdout",
     "output_type": "stream",
     "text": [
      "R-squared score on train set: 0.22190748542397942\n",
      "R-squared score on test set: 0.049404168666461246\n"
     ]
    }
   ],
   "source": [
    "# Instantiate model\n",
    "linreg = LinearRegression()\n",
    "\n",
    "# Fit on training set\n",
    "linreg.fit(X_train, y_train)\n",
    "\n",
    "# Score on training and testing set\n",
    "print(f\"R-squared score on train set: {linreg.score(X_train, y_train)}\")\n",
    "print(f\"R-squared score on test set: {linreg.score(X_test, y_test)}\")"
   ]
  },
  {
   "cell_type": "code",
   "execution_count": 11,
   "metadata": {},
   "outputs": [
    {
     "data": {
      "text/html": [
       "<div>\n",
       "<style scoped>\n",
       "    .dataframe tbody tr th:only-of-type {\n",
       "        vertical-align: middle;\n",
       "    }\n",
       "\n",
       "    .dataframe tbody tr th {\n",
       "        vertical-align: top;\n",
       "    }\n",
       "\n",
       "    .dataframe thead th {\n",
       "        text-align: right;\n",
       "    }\n",
       "</style>\n",
       "<table border=\"1\" class=\"dataframe\">\n",
       "  <thead>\n",
       "    <tr style=\"text-align: right;\">\n",
       "      <th></th>\n",
       "      <th>0</th>\n",
       "    </tr>\n",
       "  </thead>\n",
       "  <tbody>\n",
       "    <tr>\n",
       "      <th>avg_period_1.0_h</th>\n",
       "      <td>1.450338</td>\n",
       "    </tr>\n",
       "    <tr>\n",
       "      <th>wave_height_1.5_h</th>\n",
       "      <td>0.842378</td>\n",
       "    </tr>\n",
       "    <tr>\n",
       "      <th>dominant_wave_direction_cos</th>\n",
       "      <td>0.783223</td>\n",
       "    </tr>\n",
       "    <tr>\n",
       "      <th>dominant_wave_direction_sin_6.0_h</th>\n",
       "      <td>0.707868</td>\n",
       "    </tr>\n",
       "    <tr>\n",
       "      <th>avg_period_9.0_h</th>\n",
       "      <td>0.697566</td>\n",
       "    </tr>\n",
       "  </tbody>\n",
       "</table>\n",
       "</div>"
      ],
      "text/plain": [
       "                                          0\n",
       "avg_period_1.0_h                   1.450338\n",
       "wave_height_1.5_h                  0.842378\n",
       "dominant_wave_direction_cos        0.783223\n",
       "dominant_wave_direction_sin_6.0_h  0.707868\n",
       "avg_period_9.0_h                   0.697566"
      ]
     },
     "execution_count": 11,
     "metadata": {},
     "output_type": "execute_result"
    }
   ],
   "source": [
    "# Review strongest coefficients\n",
    "pd.DataFrame(linreg.coef_, X.columns).sort_values(by=0, ascending=False).head()"
   ]
  },
  {
   "cell_type": "code",
   "execution_count": 12,
   "metadata": {},
   "outputs": [
    {
     "data": {
      "text/html": [
       "<div>\n",
       "<style scoped>\n",
       "    .dataframe tbody tr th:only-of-type {\n",
       "        vertical-align: middle;\n",
       "    }\n",
       "\n",
       "    .dataframe tbody tr th {\n",
       "        vertical-align: top;\n",
       "    }\n",
       "\n",
       "    .dataframe thead th {\n",
       "        text-align: right;\n",
       "    }\n",
       "</style>\n",
       "<table border=\"1\" class=\"dataframe\">\n",
       "  <thead>\n",
       "    <tr style=\"text-align: right;\">\n",
       "      <th></th>\n",
       "      <th>0</th>\n",
       "    </tr>\n",
       "  </thead>\n",
       "  <tbody>\n",
       "    <tr>\n",
       "      <th>dominant_wave_direction_cos_6.0_h</th>\n",
       "      <td>-0.644084</td>\n",
       "    </tr>\n",
       "    <tr>\n",
       "      <th>dominant_wave_direction_sin_3.0_h</th>\n",
       "      <td>-0.817508</td>\n",
       "    </tr>\n",
       "    <tr>\n",
       "      <th>wave_height_1.0_h</th>\n",
       "      <td>-1.011872</td>\n",
       "    </tr>\n",
       "    <tr>\n",
       "      <th>avg_period</th>\n",
       "      <td>-1.051983</td>\n",
       "    </tr>\n",
       "    <tr>\n",
       "      <th>wave_height_3.0_h</th>\n",
       "      <td>-1.228831</td>\n",
       "    </tr>\n",
       "  </tbody>\n",
       "</table>\n",
       "</div>"
      ],
      "text/plain": [
       "                                          0\n",
       "dominant_wave_direction_cos_6.0_h -0.644084\n",
       "dominant_wave_direction_sin_3.0_h -0.817508\n",
       "wave_height_1.0_h                 -1.011872\n",
       "avg_period                        -1.051983\n",
       "wave_height_3.0_h                 -1.228831"
      ]
     },
     "execution_count": 12,
     "metadata": {},
     "output_type": "execute_result"
    }
   ],
   "source": [
    "# Review strongest coefficients\n",
    "pd.DataFrame(linreg.coef_, X.columns).sort_values(by=0, ascending=False).tail()"
   ]
  },
  {
   "cell_type": "markdown",
   "metadata": {},
   "source": [
    "### Linear Regression RMSE"
   ]
  },
  {
   "cell_type": "code",
   "execution_count": 13,
   "metadata": {},
   "outputs": [
    {
     "data": {
      "text/plain": [
       "2.8378314204310477"
      ]
     },
     "execution_count": 13,
     "metadata": {},
     "output_type": "execute_result"
    }
   ],
   "source": [
    "linreg_train_rmse = mean_squared_error(y_train, linreg.predict(X_train), squared=False)\n",
    "linreg_train_rmse"
   ]
  },
  {
   "cell_type": "code",
   "execution_count": 14,
   "metadata": {},
   "outputs": [
    {
     "data": {
      "text/plain": [
       "2.9195332929845854"
      ]
     },
     "execution_count": 14,
     "metadata": {},
     "output_type": "execute_result"
    }
   ],
   "source": [
    "linreg_test_rmse = mean_squared_error(y_test, linreg.predict(X_test), squared=False)\n",
    "linreg_test_rmse"
   ]
  },
  {
   "cell_type": "markdown",
   "metadata": {},
   "source": [
    "### Save model result for final comparisson"
   ]
  },
  {
   "cell_type": "code",
   "execution_count": 15,
   "metadata": {},
   "outputs": [],
   "source": [
    "linreg_results = [\n",
    "    {\n",
    "        \"Model Name\": \"Linear Regression\",\n",
    "        \"Score Type\": \"Train RMSE\",\n",
    "        \"Score\": linreg_train_rmse,\n",
    "        \"Observations\": \"\",\n",
    "    },\n",
    "    {\n",
    "        \"Model Name\": \"Linear Regression\",\n",
    "        \"Score Type\": \"Test RMSE\",\n",
    "        \"Score\": linreg_test_rmse,\n",
    "        \"Observations\": \"\",\n",
    "    },\n",
    "]\n",
    "\n",
    "for result in linreg_results:\n",
    "    all_model_results.append(result)\n"
   ]
  },
  {
   "cell_type": "markdown",
   "metadata": {},
   "source": [
    "## Lasso Regression with Grid Search CV"
   ]
  },
  {
   "cell_type": "code",
   "execution_count": 16,
   "metadata": {},
   "outputs": [
    {
     "name": "stdout",
     "output_type": "stream",
     "text": [
      "R-squared score on train set: 0.17437225944521462\n",
      "R-squared score on test set: 0.11306336319152299\n"
     ]
    }
   ],
   "source": [
    "# Empty dict for results\n",
    "lasso_results = {}\n",
    "\n",
    "# Instantiate model\n",
    "lasso = Lasso()\n",
    "\n",
    "# Define GS params\n",
    "lasso_params = {\"alpha\": [0.01, 0.1, 1, 10, 100]}\n",
    "\n",
    "# Instantiate GridSearch\n",
    "lasso_gs = GridSearchCV(lasso, lasso_params)\n",
    "\n",
    "# Fit on training set\n",
    "lasso_gs.fit(X_train, y_train)\n",
    "\n",
    "# Score on training and testing set\n",
    "print(f\"R-squared score on train set: {lasso_gs.score(X_train, y_train)}\")\n",
    "print(f\"R-squared score on test set: {lasso_gs.score(X_test, y_test)}\")\n"
   ]
  },
  {
   "cell_type": "code",
   "execution_count": 17,
   "metadata": {},
   "outputs": [
    {
     "data": {
      "text/plain": [
       "{'alpha': 0.1}"
      ]
     },
     "execution_count": 17,
     "metadata": {},
     "output_type": "execute_result"
    }
   ],
   "source": [
    "# Get Lasso best alpha\n",
    "lasso_alpha = lasso_gs.best_params_\n",
    "lasso_alpha"
   ]
  },
  {
   "cell_type": "code",
   "execution_count": 18,
   "metadata": {},
   "outputs": [
    {
     "data": {
      "text/html": [
       "<div>\n",
       "<style scoped>\n",
       "    .dataframe tbody tr th:only-of-type {\n",
       "        vertical-align: middle;\n",
       "    }\n",
       "\n",
       "    .dataframe tbody tr th {\n",
       "        vertical-align: top;\n",
       "    }\n",
       "\n",
       "    .dataframe thead th {\n",
       "        text-align: right;\n",
       "    }\n",
       "</style>\n",
       "<table border=\"1\" class=\"dataframe\">\n",
       "  <thead>\n",
       "    <tr style=\"text-align: right;\">\n",
       "      <th></th>\n",
       "      <th>0</th>\n",
       "    </tr>\n",
       "  </thead>\n",
       "  <tbody>\n",
       "    <tr>\n",
       "      <th>avg_period_9.0_h</th>\n",
       "      <td>0.453460</td>\n",
       "    </tr>\n",
       "    <tr>\n",
       "      <th>avg_period_6.0_h</th>\n",
       "      <td>0.284672</td>\n",
       "    </tr>\n",
       "    <tr>\n",
       "      <th>wind_direction_cos</th>\n",
       "      <td>0.261481</td>\n",
       "    </tr>\n",
       "    <tr>\n",
       "      <th>dominant_wave_direction_cos</th>\n",
       "      <td>0.260206</td>\n",
       "    </tr>\n",
       "    <tr>\n",
       "      <th>wind_direction_sin</th>\n",
       "      <td>0.080331</td>\n",
       "    </tr>\n",
       "    <tr>\n",
       "      <th>avg_period_1.0_h</th>\n",
       "      <td>0.026621</td>\n",
       "    </tr>\n",
       "    <tr>\n",
       "      <th>wind_speed</th>\n",
       "      <td>-0.013706</td>\n",
       "    </tr>\n",
       "    <tr>\n",
       "      <th>dominant_wave_direction_cos_6.0_h</th>\n",
       "      <td>-0.219899</td>\n",
       "    </tr>\n",
       "    <tr>\n",
       "      <th>dominant_period_1.5_h</th>\n",
       "      <td>-0.392921</td>\n",
       "    </tr>\n",
       "    <tr>\n",
       "      <th>dominant_period_6.0_h</th>\n",
       "      <td>-0.452037</td>\n",
       "    </tr>\n",
       "    <tr>\n",
       "      <th>wave_height_3.0_h</th>\n",
       "      <td>-0.641780</td>\n",
       "    </tr>\n",
       "  </tbody>\n",
       "</table>\n",
       "</div>"
      ],
      "text/plain": [
       "                                          0\n",
       "avg_period_9.0_h                   0.453460\n",
       "avg_period_6.0_h                   0.284672\n",
       "wind_direction_cos                 0.261481\n",
       "dominant_wave_direction_cos        0.260206\n",
       "wind_direction_sin                 0.080331\n",
       "avg_period_1.0_h                   0.026621\n",
       "wind_speed                        -0.013706\n",
       "dominant_wave_direction_cos_6.0_h -0.219899\n",
       "dominant_period_1.5_h             -0.392921\n",
       "dominant_period_6.0_h             -0.452037\n",
       "wave_height_3.0_h                 -0.641780"
      ]
     },
     "execution_count": 18,
     "metadata": {},
     "output_type": "execute_result"
    }
   ],
   "source": [
    "# Review coefficients\n",
    "lasso_coef = pd.DataFrame(lasso_gs.best_estimator_.coef_, X.columns).sort_values(by=0, ascending=False)\n",
    "lasso_coef = lasso_coef[lasso_coef[0] != 0]\n",
    "lasso_coef"
   ]
  },
  {
   "cell_type": "markdown",
   "metadata": {},
   "source": [
    "### Lasso Regression RMSE"
   ]
  },
  {
   "cell_type": "code",
   "execution_count": 19,
   "metadata": {},
   "outputs": [
    {
     "data": {
      "text/plain": [
       "2.9232308445850683"
      ]
     },
     "execution_count": 19,
     "metadata": {},
     "output_type": "execute_result"
    }
   ],
   "source": [
    "lasso_train_rmse = mean_squared_error(y_train, lasso_gs.best_estimator_.predict(X_train), squared=False)\n",
    "lasso_train_rmse"
   ]
  },
  {
   "cell_type": "code",
   "execution_count": 20,
   "metadata": {},
   "outputs": [
    {
     "data": {
      "text/plain": [
       "2.8200822609798704"
      ]
     },
     "execution_count": 20,
     "metadata": {},
     "output_type": "execute_result"
    }
   ],
   "source": [
    "lasso_test_rmse = mean_squared_error(y_test, lasso_gs.best_estimator_.predict(X_test), squared=False)\n",
    "lasso_test_rmse"
   ]
  },
  {
   "cell_type": "markdown",
   "metadata": {},
   "source": [
    "### Save model result for final comparisson"
   ]
  },
  {
   "cell_type": "code",
   "execution_count": 21,
   "metadata": {},
   "outputs": [],
   "source": [
    "lasso_results = [\n",
    "    {\n",
    "        \"Model Name\": \"Lasso Regression\",\n",
    "        \"Score Type\": \"Train RMSE\",\n",
    "        \"Score\": lasso_train_rmse,\n",
    "        \"Observations\": lasso_alpha,\n",
    "    },\n",
    "    {\n",
    "        \"Model Name\": \"Lasso Regression\",\n",
    "        \"Score Type\": \"Test RMSE\",\n",
    "        \"Score\": lasso_test_rmse,\n",
    "        \"Observations\": lasso_alpha,\n",
    "    },\n",
    "]\n",
    "\n",
    "for result in lasso_results:\n",
    "    all_model_results.append(result)\n"
   ]
  },
  {
   "cell_type": "markdown",
   "metadata": {},
   "source": [
    "### Save model pkl for streamlit"
   ]
  },
  {
   "cell_type": "code",
   "execution_count": 22,
   "metadata": {},
   "outputs": [],
   "source": [
    "# With help from 6.07 lesson\n",
    "import pickle\n",
    "with open(\"../saved-models/saved-lasso.pkl\", \"wb\") as file:\n",
    "    pickle.dump(lasso_gs.best_estimator_, file)"
   ]
  },
  {
   "cell_type": "markdown",
   "metadata": {},
   "source": [
    "## Ridge Regression with Grid Search CV"
   ]
  },
  {
   "cell_type": "code",
   "execution_count": 23,
   "metadata": {},
   "outputs": [
    {
     "name": "stdout",
     "output_type": "stream",
     "text": [
      "R-squared score on train set: 0.15691405240848066\n",
      "R-squared score on test set: 0.10476007102332119\n"
     ]
    }
   ],
   "source": [
    "# Empty dict for results\n",
    "ridge_results = {}\n",
    "\n",
    "# Instantiate model\n",
    "ridge = Ridge()\n",
    "\n",
    "# Define GS params\n",
    "ridge_params = {'alpha': [100, 200, 500, 1_000]}\n",
    "\n",
    "# Instantiate GridSearch\n",
    "ridge_gs = GridSearchCV(ridge, ridge_params)\n",
    "\n",
    "# Fit on training set\n",
    "ridge_gs.fit(X_train, y_train)\n",
    "\n",
    "# Score on training and testing set\n",
    "print(f\"R-squared score on train set: {ridge_gs.score(X_train, y_train)}\")\n",
    "print(f\"R-squared score on test set: {ridge_gs.score(X_test, y_test)}\")\n",
    "\n",
    "\n"
   ]
  },
  {
   "cell_type": "code",
   "execution_count": 24,
   "metadata": {},
   "outputs": [
    {
     "data": {
      "text/plain": [
       "{'alpha': 200}"
      ]
     },
     "execution_count": 24,
     "metadata": {},
     "output_type": "execute_result"
    }
   ],
   "source": [
    "# Get Ridge best alpha\n",
    "ridge_alpha = ridge_gs.best_params_\n",
    "ridge_alpha"
   ]
  },
  {
   "cell_type": "code",
   "execution_count": 25,
   "metadata": {},
   "outputs": [
    {
     "data": {
      "text/html": [
       "<div>\n",
       "<style scoped>\n",
       "    .dataframe tbody tr th:only-of-type {\n",
       "        vertical-align: middle;\n",
       "    }\n",
       "\n",
       "    .dataframe tbody tr th {\n",
       "        vertical-align: top;\n",
       "    }\n",
       "\n",
       "    .dataframe thead th {\n",
       "        text-align: right;\n",
       "    }\n",
       "</style>\n",
       "<table border=\"1\" class=\"dataframe\">\n",
       "  <thead>\n",
       "    <tr style=\"text-align: right;\">\n",
       "      <th></th>\n",
       "      <th>0</th>\n",
       "    </tr>\n",
       "  </thead>\n",
       "  <tbody>\n",
       "    <tr>\n",
       "      <th>avg_period_9.0_h</th>\n",
       "      <td>0.250481</td>\n",
       "    </tr>\n",
       "    <tr>\n",
       "      <th>avg_period_6.0_h</th>\n",
       "      <td>0.191522</td>\n",
       "    </tr>\n",
       "    <tr>\n",
       "      <th>wind_direction_cos</th>\n",
       "      <td>0.166979</td>\n",
       "    </tr>\n",
       "    <tr>\n",
       "      <th>dominant_wave_direction_cos</th>\n",
       "      <td>0.153214</td>\n",
       "    </tr>\n",
       "    <tr>\n",
       "      <th>avg_period_1.0_h</th>\n",
       "      <td>0.121140</td>\n",
       "    </tr>\n",
       "    <tr>\n",
       "      <th>wind_direction_sin</th>\n",
       "      <td>0.104503</td>\n",
       "    </tr>\n",
       "    <tr>\n",
       "      <th>avg_period_1.5_h</th>\n",
       "      <td>0.098757</td>\n",
       "    </tr>\n",
       "    <tr>\n",
       "      <th>dominant_wave_direction_sin</th>\n",
       "      <td>0.083246</td>\n",
       "    </tr>\n",
       "    <tr>\n",
       "      <th>dominant_wave_direction_sin_6.0_h</th>\n",
       "      <td>0.035414</td>\n",
       "    </tr>\n",
       "    <tr>\n",
       "      <th>dominant_wave_direction_cos_3.0_h</th>\n",
       "      <td>0.013261</td>\n",
       "    </tr>\n",
       "    <tr>\n",
       "      <th>dominant_wave_direction_sin_1.5_h</th>\n",
       "      <td>0.010517</td>\n",
       "    </tr>\n",
       "    <tr>\n",
       "      <th>wave_height_6.0_h</th>\n",
       "      <td>0.007996</td>\n",
       "    </tr>\n",
       "    <tr>\n",
       "      <th>avg_period</th>\n",
       "      <td>0.007901</td>\n",
       "    </tr>\n",
       "    <tr>\n",
       "      <th>dominant_wave_direction_sin_9.0_h</th>\n",
       "      <td>0.007263</td>\n",
       "    </tr>\n",
       "    <tr>\n",
       "      <th>dominant_wave_direction_cos_9.0_h</th>\n",
       "      <td>0.004368</td>\n",
       "    </tr>\n",
       "    <tr>\n",
       "      <th>avg_period_3.0_h</th>\n",
       "      <td>0.000964</td>\n",
       "    </tr>\n",
       "    <tr>\n",
       "      <th>gust_speed</th>\n",
       "      <td>-0.006305</td>\n",
       "    </tr>\n",
       "    <tr>\n",
       "      <th>dominant_wave_direction_cos_1.5_h</th>\n",
       "      <td>-0.008184</td>\n",
       "    </tr>\n",
       "    <tr>\n",
       "      <th>wave_height_9.0_h</th>\n",
       "      <td>-0.012908</td>\n",
       "    </tr>\n",
       "    <tr>\n",
       "      <th>dominant_wave_direction_sin_1.0_h</th>\n",
       "      <td>-0.028155</td>\n",
       "    </tr>\n",
       "    <tr>\n",
       "      <th>wave_height_1.5_h</th>\n",
       "      <td>-0.042822</td>\n",
       "    </tr>\n",
       "    <tr>\n",
       "      <th>wind_speed</th>\n",
       "      <td>-0.052741</td>\n",
       "    </tr>\n",
       "    <tr>\n",
       "      <th>dominant_period_9.0_h</th>\n",
       "      <td>-0.061273</td>\n",
       "    </tr>\n",
       "    <tr>\n",
       "      <th>dominant_period_1.0_h</th>\n",
       "      <td>-0.076044</td>\n",
       "    </tr>\n",
       "    <tr>\n",
       "      <th>dominant_wave_direction_cos_1.0_h</th>\n",
       "      <td>-0.086638</td>\n",
       "    </tr>\n",
       "    <tr>\n",
       "      <th>dominant_wave_direction_sin_3.0_h</th>\n",
       "      <td>-0.100932</td>\n",
       "    </tr>\n",
       "    <tr>\n",
       "      <th>dominant_period</th>\n",
       "      <td>-0.109336</td>\n",
       "    </tr>\n",
       "    <tr>\n",
       "      <th>wave_height_1.0_h</th>\n",
       "      <td>-0.123182</td>\n",
       "    </tr>\n",
       "    <tr>\n",
       "      <th>wave_height</th>\n",
       "      <td>-0.124267</td>\n",
       "    </tr>\n",
       "    <tr>\n",
       "      <th>dominant_period_3.0_h</th>\n",
       "      <td>-0.127000</td>\n",
       "    </tr>\n",
       "    <tr>\n",
       "      <th>dominant_wave_direction_cos_6.0_h</th>\n",
       "      <td>-0.140056</td>\n",
       "    </tr>\n",
       "    <tr>\n",
       "      <th>dominant_period_1.5_h</th>\n",
       "      <td>-0.218522</td>\n",
       "    </tr>\n",
       "    <tr>\n",
       "      <th>wave_height_3.0_h</th>\n",
       "      <td>-0.231962</td>\n",
       "    </tr>\n",
       "    <tr>\n",
       "      <th>dominant_period_6.0_h</th>\n",
       "      <td>-0.249228</td>\n",
       "    </tr>\n",
       "  </tbody>\n",
       "</table>\n",
       "</div>"
      ],
      "text/plain": [
       "                                          0\n",
       "avg_period_9.0_h                   0.250481\n",
       "avg_period_6.0_h                   0.191522\n",
       "wind_direction_cos                 0.166979\n",
       "dominant_wave_direction_cos        0.153214\n",
       "avg_period_1.0_h                   0.121140\n",
       "wind_direction_sin                 0.104503\n",
       "avg_period_1.5_h                   0.098757\n",
       "dominant_wave_direction_sin        0.083246\n",
       "dominant_wave_direction_sin_6.0_h  0.035414\n",
       "dominant_wave_direction_cos_3.0_h  0.013261\n",
       "dominant_wave_direction_sin_1.5_h  0.010517\n",
       "wave_height_6.0_h                  0.007996\n",
       "avg_period                         0.007901\n",
       "dominant_wave_direction_sin_9.0_h  0.007263\n",
       "dominant_wave_direction_cos_9.0_h  0.004368\n",
       "avg_period_3.0_h                   0.000964\n",
       "gust_speed                        -0.006305\n",
       "dominant_wave_direction_cos_1.5_h -0.008184\n",
       "wave_height_9.0_h                 -0.012908\n",
       "dominant_wave_direction_sin_1.0_h -0.028155\n",
       "wave_height_1.5_h                 -0.042822\n",
       "wind_speed                        -0.052741\n",
       "dominant_period_9.0_h             -0.061273\n",
       "dominant_period_1.0_h             -0.076044\n",
       "dominant_wave_direction_cos_1.0_h -0.086638\n",
       "dominant_wave_direction_sin_3.0_h -0.100932\n",
       "dominant_period                   -0.109336\n",
       "wave_height_1.0_h                 -0.123182\n",
       "wave_height                       -0.124267\n",
       "dominant_period_3.0_h             -0.127000\n",
       "dominant_wave_direction_cos_6.0_h -0.140056\n",
       "dominant_period_1.5_h             -0.218522\n",
       "wave_height_3.0_h                 -0.231962\n",
       "dominant_period_6.0_h             -0.249228"
      ]
     },
     "execution_count": 25,
     "metadata": {},
     "output_type": "execute_result"
    }
   ],
   "source": [
    "# Review coefficients\n",
    "ridge_coef = pd.DataFrame(ridge_gs.best_estimator_.coef_, X.columns).sort_values(by=0, ascending=False)\n",
    "ridge_coef = ridge_coef[ridge_coef[0] != 0]\n",
    "ridge_coef"
   ]
  },
  {
   "cell_type": "markdown",
   "metadata": {},
   "source": [
    "### Ridge Regression RMSE"
   ]
  },
  {
   "cell_type": "code",
   "execution_count": 26,
   "metadata": {},
   "outputs": [
    {
     "data": {
      "text/plain": [
       "2.953975571786676"
      ]
     },
     "execution_count": 26,
     "metadata": {},
     "output_type": "execute_result"
    }
   ],
   "source": [
    "ridge_train_rmse = mean_squared_error(y_train, ridge_gs.best_estimator_.predict(X_train), squared=False)\n",
    "ridge_train_rmse"
   ]
  },
  {
   "cell_type": "code",
   "execution_count": 27,
   "metadata": {},
   "outputs": [
    {
     "data": {
      "text/plain": [
       "2.833251983216231"
      ]
     },
     "execution_count": 27,
     "metadata": {},
     "output_type": "execute_result"
    }
   ],
   "source": [
    "ridge_test_rmse = mean_squared_error(y_test, ridge_gs.best_estimator_.predict(X_test), squared=False)\n",
    "ridge_test_rmse"
   ]
  },
  {
   "cell_type": "markdown",
   "metadata": {},
   "source": [
    "### Save model result for final comparisson"
   ]
  },
  {
   "cell_type": "code",
   "execution_count": 28,
   "metadata": {},
   "outputs": [
    {
     "data": {
      "text/plain": [
       "[{'Model Name': 'Baseline (y_mean)',\n",
       "  'Score Type': 'Baseline RMSE',\n",
       "  'Score': 3.1675113889842983,\n",
       "  'Observations': ''},\n",
       " {'Model Name': 'Linear Regression',\n",
       "  'Score Type': 'Train RMSE',\n",
       "  'Score': 2.8378314204310477,\n",
       "  'Observations': ''},\n",
       " {'Model Name': 'Linear Regression',\n",
       "  'Score Type': 'Test RMSE',\n",
       "  'Score': 2.9195332929845854,\n",
       "  'Observations': ''},\n",
       " {'Model Name': 'Lasso Regression',\n",
       "  'Score Type': 'Train RMSE',\n",
       "  'Score': 2.9232308445850683,\n",
       "  'Observations': {'alpha': 0.1}},\n",
       " {'Model Name': 'Lasso Regression',\n",
       "  'Score Type': 'Test RMSE',\n",
       "  'Score': 2.8200822609798704,\n",
       "  'Observations': {'alpha': 0.1}},\n",
       " {'Model Name': 'Ridge Regression',\n",
       "  'Score Type': 'Train RMSE',\n",
       "  'Score': 2.953975571786676,\n",
       "  'Observations': {'alpha': 200}},\n",
       " {'Model Name': 'Ridge Regression',\n",
       "  'Score Type': 'Test RMSE',\n",
       "  'Score': 2.833251983216231,\n",
       "  'Observations': {'alpha': 200}}]"
      ]
     },
     "execution_count": 28,
     "metadata": {},
     "output_type": "execute_result"
    }
   ],
   "source": [
    "ridge_results = [\n",
    "    {\n",
    "        \"Model Name\": \"Ridge Regression\",\n",
    "        \"Score Type\": \"Train RMSE\",\n",
    "        \"Score\": ridge_train_rmse,\n",
    "        \"Observations\": ridge_alpha,\n",
    "    },\n",
    "    {\n",
    "        \"Model Name\": \"Ridge Regression\",\n",
    "        \"Score Type\": \"Test RMSE\",\n",
    "        \"Score\": ridge_test_rmse,\n",
    "        \"Observations\": ridge_alpha,\n",
    "    },\n",
    "]\n",
    "\n",
    "for result in ridge_results:\n",
    "    all_model_results.append(result)\n",
    "all_model_results"
   ]
  },
  {
   "cell_type": "markdown",
   "metadata": {},
   "source": [
    "# Linear Regression Results"
   ]
  },
  {
   "cell_type": "code",
   "execution_count": 29,
   "metadata": {},
   "outputs": [
    {
     "data": {
      "text/html": [
       "<div>\n",
       "<style scoped>\n",
       "    .dataframe tbody tr th:only-of-type {\n",
       "        vertical-align: middle;\n",
       "    }\n",
       "\n",
       "    .dataframe tbody tr th {\n",
       "        vertical-align: top;\n",
       "    }\n",
       "\n",
       "    .dataframe thead th {\n",
       "        text-align: right;\n",
       "    }\n",
       "</style>\n",
       "<table border=\"1\" class=\"dataframe\">\n",
       "  <thead>\n",
       "    <tr style=\"text-align: right;\">\n",
       "      <th></th>\n",
       "      <th>Model Name</th>\n",
       "      <th>Score Type</th>\n",
       "      <th>Score</th>\n",
       "      <th>Observations</th>\n",
       "    </tr>\n",
       "  </thead>\n",
       "  <tbody>\n",
       "    <tr>\n",
       "      <th>0</th>\n",
       "      <td>Baseline (y_mean)</td>\n",
       "      <td>Baseline RMSE</td>\n",
       "      <td>3.167511</td>\n",
       "      <td></td>\n",
       "    </tr>\n",
       "    <tr>\n",
       "      <th>1</th>\n",
       "      <td>Linear Regression</td>\n",
       "      <td>Train RMSE</td>\n",
       "      <td>2.837831</td>\n",
       "      <td></td>\n",
       "    </tr>\n",
       "    <tr>\n",
       "      <th>2</th>\n",
       "      <td>Linear Regression</td>\n",
       "      <td>Test RMSE</td>\n",
       "      <td>2.919533</td>\n",
       "      <td></td>\n",
       "    </tr>\n",
       "    <tr>\n",
       "      <th>3</th>\n",
       "      <td>Lasso Regression</td>\n",
       "      <td>Train RMSE</td>\n",
       "      <td>2.923231</td>\n",
       "      <td>{'alpha': 0.1}</td>\n",
       "    </tr>\n",
       "    <tr>\n",
       "      <th>4</th>\n",
       "      <td>Lasso Regression</td>\n",
       "      <td>Test RMSE</td>\n",
       "      <td>2.820082</td>\n",
       "      <td>{'alpha': 0.1}</td>\n",
       "    </tr>\n",
       "    <tr>\n",
       "      <th>5</th>\n",
       "      <td>Ridge Regression</td>\n",
       "      <td>Train RMSE</td>\n",
       "      <td>2.953976</td>\n",
       "      <td>{'alpha': 200}</td>\n",
       "    </tr>\n",
       "    <tr>\n",
       "      <th>6</th>\n",
       "      <td>Ridge Regression</td>\n",
       "      <td>Test RMSE</td>\n",
       "      <td>2.833252</td>\n",
       "      <td>{'alpha': 200}</td>\n",
       "    </tr>\n",
       "  </tbody>\n",
       "</table>\n",
       "</div>"
      ],
      "text/plain": [
       "          Model Name     Score Type     Score    Observations\n",
       "0  Baseline (y_mean)  Baseline RMSE  3.167511                \n",
       "1  Linear Regression     Train RMSE  2.837831                \n",
       "2  Linear Regression      Test RMSE  2.919533                \n",
       "3   Lasso Regression     Train RMSE  2.923231  {'alpha': 0.1}\n",
       "4   Lasso Regression      Test RMSE  2.820082  {'alpha': 0.1}\n",
       "5   Ridge Regression     Train RMSE  2.953976  {'alpha': 200}\n",
       "6   Ridge Regression      Test RMSE  2.833252  {'alpha': 200}"
      ]
     },
     "execution_count": 29,
     "metadata": {},
     "output_type": "execute_result"
    }
   ],
   "source": [
    "pd.DataFrame(all_model_results)"
   ]
  },
  {
   "cell_type": "markdown",
   "metadata": {},
   "source": [
    "## Save results to csv"
   ]
  },
  {
   "cell_type": "code",
   "execution_count": 30,
   "metadata": {},
   "outputs": [],
   "source": [
    "pd.DataFrame(all_model_results).to_csv('../model-results/linreg.csv')"
   ]
  },
  {
   "cell_type": "code",
   "execution_count": null,
   "metadata": {},
   "outputs": [],
   "source": []
  }
 ],
 "metadata": {
  "interpreter": {
   "hash": "f7a0f9bb49171c226bccce8a0987518af550515ba22b4949d7abe766c3680a51"
  },
  "kernelspec": {
   "display_name": "Python 3.9.7 ('base')",
   "language": "python",
   "name": "python3"
  },
  "language_info": {
   "codemirror_mode": {
    "name": "ipython",
    "version": 3
   },
   "file_extension": ".py",
   "mimetype": "text/x-python",
   "name": "python",
   "nbconvert_exporter": "python",
   "pygments_lexer": "ipython3",
   "version": "3.9.7"
  },
  "orig_nbformat": 4
 },
 "nbformat": 4,
 "nbformat_minor": 2
}
