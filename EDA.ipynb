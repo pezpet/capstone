{
 "cells": [
  {
   "cell_type": "markdown",
   "metadata": {},
   "source": [
    "# EDA"
   ]
  },
  {
   "cell_type": "code",
   "execution_count": 2,
   "metadata": {},
   "outputs": [],
   "source": [
    "import pandas as pd\n",
    "import numpy as np\n",
    "import seaborn as sns\n",
    "import matplotlib.pyplot as plt"
   ]
  },
  {
   "cell_type": "code",
   "execution_count": 3,
   "metadata": {},
   "outputs": [
    {
     "data": {
      "text/html": [
       "<div>\n",
       "<style scoped>\n",
       "    .dataframe tbody tr th:only-of-type {\n",
       "        vertical-align: middle;\n",
       "    }\n",
       "\n",
       "    .dataframe tbody tr th {\n",
       "        vertical-align: top;\n",
       "    }\n",
       "\n",
       "    .dataframe thead th {\n",
       "        text-align: right;\n",
       "    }\n",
       "</style>\n",
       "<table border=\"1\" class=\"dataframe\">\n",
       "  <thead>\n",
       "    <tr style=\"text-align: right;\">\n",
       "      <th></th>\n",
       "      <th>year</th>\n",
       "      <th>event</th>\n",
       "      <th>round</th>\n",
       "      <th>heat</th>\n",
       "      <th>name</th>\n",
       "      <th>top_two_waves_total</th>\n",
       "    </tr>\n",
       "  </thead>\n",
       "  <tbody>\n",
       "    <tr>\n",
       "      <th>0</th>\n",
       "      <td>2008</td>\n",
       "      <td>Quiksilver Pro Gold Coast</td>\n",
       "      <td>Round 2</td>\n",
       "      <td>Heat 1</td>\n",
       "      <td>Andy Irons</td>\n",
       "      <td>16.37</td>\n",
       "    </tr>\n",
       "    <tr>\n",
       "      <th>1</th>\n",
       "      <td>2008</td>\n",
       "      <td>Quiksilver Pro Gold Coast</td>\n",
       "      <td>Round 2</td>\n",
       "      <td>Heat 1</td>\n",
       "      <td>Tamaroa McComb</td>\n",
       "      <td>5.90</td>\n",
       "    </tr>\n",
       "    <tr>\n",
       "      <th>2</th>\n",
       "      <td>2008</td>\n",
       "      <td>Quiksilver Pro Gold Coast</td>\n",
       "      <td>Round 2</td>\n",
       "      <td>Heat 2</td>\n",
       "      <td>Julian Wilson</td>\n",
       "      <td>14.00</td>\n",
       "    </tr>\n",
       "    <tr>\n",
       "      <th>3</th>\n",
       "      <td>2008</td>\n",
       "      <td>Quiksilver Pro Gold Coast</td>\n",
       "      <td>Round 2</td>\n",
       "      <td>Heat 2</td>\n",
       "      <td>Pancho Sullivan</td>\n",
       "      <td>13.23</td>\n",
       "    </tr>\n",
       "    <tr>\n",
       "      <th>4</th>\n",
       "      <td>2008</td>\n",
       "      <td>Quiksilver Pro Gold Coast</td>\n",
       "      <td>Round 2</td>\n",
       "      <td>Heat 3</td>\n",
       "      <td>Jeremy Flores</td>\n",
       "      <td>10.83</td>\n",
       "    </tr>\n",
       "  </tbody>\n",
       "</table>\n",
       "</div>"
      ],
      "text/plain": [
       "   year                      event    round     heat             name  \\\n",
       "0  2008  Quiksilver Pro Gold Coast  Round 2  Heat 1        Andy Irons   \n",
       "1  2008  Quiksilver Pro Gold Coast  Round 2  Heat 1    Tamaroa McComb   \n",
       "2  2008  Quiksilver Pro Gold Coast  Round 2  Heat 2     Julian Wilson   \n",
       "3  2008  Quiksilver Pro Gold Coast  Round 2  Heat 2   Pancho Sullivan   \n",
       "4  2008  Quiksilver Pro Gold Coast  Round 2  Heat 3     Jeremy Flores   \n",
       "\n",
       "   top_two_waves_total  \n",
       "0                16.37  \n",
       "1                 5.90  \n",
       "2                14.00  \n",
       "3                13.23  \n",
       "4                10.83  "
      ]
     },
     "execution_count": 3,
     "metadata": {},
     "output_type": "execute_result"
    }
   ],
   "source": [
    "df = pd.read_csv('./data/wsl/avg_scores_all_years.csv', index_col=0)\n",
    "df.head()"
   ]
  },
  {
   "cell_type": "code",
   "execution_count": 4,
   "metadata": {},
   "outputs": [
    {
     "data": {
      "text/plain": [
       "array(['Quiksilver Pro Gold Coast', 'Rip Curl Pro Bells Beach',\n",
       "       'Billabong Pro Teahupoo', 'Globe Pro Fiji', 'Billabong Pro J-Bay',\n",
       "       'Rip Curl Pro Search Bali', 'Boost Mobile Pro',\n",
       "       'Quiksilver Pro France', 'Billabong Pro Mundaka',\n",
       "       'Hang Loose Santa Catarina Pro', 'Billabong Pipeline Masters',\n",
       "       'Hurley Pro Trestles', 'Rip Curl Search', 'Santa Catarina Pro',\n",
       "       'Rip Curl Pro Portugal', 'Billabong Pipe Masters',\n",
       "       'Billabong Rio Pro', 'Quiksilver Pro New York', 'Volcom Fiji Pro',\n",
       "       \"O'Neill Coldwater Classic Santa Cruz\", 'Oakley Pro Bali',\n",
       "       'Drug Aware Margaret River Pro', 'Fiji Pro', 'J-Bay Open',\n",
       "       'Billabong Pro Tahiti', 'Hurley Pro at Trestles',\n",
       "       'Moche Rip Curl Pro Portugal', 'Oi Rio Pro',\n",
       "       'MEO Rip Curl Pro Portugal', 'Outerknown Fiji Pro',\n",
       "       'Corona Open J-Bay', 'Corona Bali Protected',\n",
       "       'Uluwatu CT Margaret River Pro', \"Tahiti Pro Teahupo'o\",\n",
       "       'Margaret River Pro',\n",
       "       'Billabong Pipe Masters presented by Hydro Flask',\n",
       "       'Rip Curl Newcastle Cup presented by Corona',\n",
       "       'Rip Curl Narrabeen Classic presented by Corona',\n",
       "       'Boost Mobile Margaret River Pro presented by Corona',\n",
       "       'Rip Curl Rottnest Search presented by Corona',\n",
       "       'Corona Open Mexico presented by Quiksilver',\n",
       "       'Billabong Pro Pipeline', 'Hurley Pro Sunset Beach',\n",
       "       'MEO Pro Portugal'], dtype=object)"
      ]
     },
     "execution_count": 4,
     "metadata": {},
     "output_type": "execute_result"
    }
   ],
   "source": [
    "df['event'].unique()"
   ]
  },
  {
   "cell_type": "code",
   "execution_count": 5,
   "metadata": {},
   "outputs": [
    {
     "data": {
      "text/plain": [
       "(1649, 6)"
      ]
     },
     "execution_count": 5,
     "metadata": {},
     "output_type": "execute_result"
    }
   ],
   "source": [
    "pipe = [\n",
    "    \"Billabong Pipe Masters presented by Hydro Flask\",\n",
    "    \"Billabong Pro Pipeline\",\n",
    "    \"Billabong Pipe Masters presented by Hydro Flask\",\n",
    "    \"Billabong Pipe Masters\",\n",
    "    \"Billabong Pipeline Masters\"\n",
    "]\n",
    "\n",
    "df.loc[df['event'].isin(pipe)].shape"
   ]
  },
  {
   "cell_type": "code",
   "execution_count": 6,
   "metadata": {},
   "outputs": [],
   "source": [
    "df_pipe = df.loc[df['event'].isin(pipe)].reindex()\n"
   ]
  },
  {
   "cell_type": "code",
   "execution_count": 7,
   "metadata": {},
   "outputs": [
    {
     "data": {
      "text/plain": [
       "1473"
      ]
     },
     "execution_count": 7,
     "metadata": {},
     "output_type": "execute_result"
    }
   ],
   "source": [
    "df['event'].value_counts()[0]"
   ]
  },
  {
   "cell_type": "code",
   "execution_count": 8,
   "metadata": {},
   "outputs": [
    {
     "name": "stdout",
     "output_type": "stream",
     "text": [
      "<class 'pandas.core.frame.DataFrame'>\n",
      "Int64Index: 16035 entries, 0 to 109\n",
      "Data columns (total 6 columns):\n",
      " #   Column               Non-Null Count  Dtype  \n",
      "---  ------               --------------  -----  \n",
      " 0   year                 16035 non-null  int64  \n",
      " 1   event                16035 non-null  object \n",
      " 2   round                16035 non-null  object \n",
      " 3   heat                 16035 non-null  object \n",
      " 4   name                 16035 non-null  object \n",
      " 5   top_two_waves_total  16035 non-null  float64\n",
      "dtypes: float64(1), int64(1), object(4)\n",
      "memory usage: 876.9+ KB\n"
     ]
    }
   ],
   "source": [
    "df.info()"
   ]
  },
  {
   "cell_type": "code",
   "execution_count": 9,
   "metadata": {},
   "outputs": [],
   "source": [
    "df['year'] = df['year'].astype(str)"
   ]
  },
  {
   "cell_type": "code",
   "execution_count": 10,
   "metadata": {},
   "outputs": [
    {
     "data": {
      "text/html": [
       "<div>\n",
       "<style scoped>\n",
       "    .dataframe tbody tr th:only-of-type {\n",
       "        vertical-align: middle;\n",
       "    }\n",
       "\n",
       "    .dataframe tbody tr th {\n",
       "        vertical-align: top;\n",
       "    }\n",
       "\n",
       "    .dataframe thead th {\n",
       "        text-align: right;\n",
       "    }\n",
       "</style>\n",
       "<table border=\"1\" class=\"dataframe\">\n",
       "  <thead>\n",
       "    <tr style=\"text-align: right;\">\n",
       "      <th></th>\n",
       "      <th></th>\n",
       "      <th></th>\n",
       "      <th>top_two_waves_total</th>\n",
       "    </tr>\n",
       "    <tr>\n",
       "      <th>event</th>\n",
       "      <th>round</th>\n",
       "      <th>heat</th>\n",
       "      <th></th>\n",
       "    </tr>\n",
       "  </thead>\n",
       "  <tbody>\n",
       "    <tr>\n",
       "      <th rowspan=\"5\" valign=\"top\">Billabong Pipe Masters</th>\n",
       "      <th rowspan=\"4\" valign=\"top\">Elimination Round</th>\n",
       "      <th>Heat 1 Watch replay</th>\n",
       "      <td>8.286667</td>\n",
       "    </tr>\n",
       "    <tr>\n",
       "      <th>Heat 2 Watch replay</th>\n",
       "      <td>7.596667</td>\n",
       "    </tr>\n",
       "    <tr>\n",
       "      <th>Heat 3 Watch replay</th>\n",
       "      <td>7.146667</td>\n",
       "    </tr>\n",
       "    <tr>\n",
       "      <th>Heat 4 Watch replay</th>\n",
       "      <td>10.013333</td>\n",
       "    </tr>\n",
       "    <tr>\n",
       "      <th>Final</th>\n",
       "      <th>Heat 1</th>\n",
       "      <td>12.912000</td>\n",
       "    </tr>\n",
       "    <tr>\n",
       "      <th>...</th>\n",
       "      <th>...</th>\n",
       "      <th>...</th>\n",
       "      <td>...</td>\n",
       "    </tr>\n",
       "    <tr>\n",
       "      <th rowspan=\"5\" valign=\"top\">Volcom Fiji Pro</th>\n",
       "      <th rowspan=\"3\" valign=\"top\">Round 5</th>\n",
       "      <th>Heat 2</th>\n",
       "      <td>15.057500</td>\n",
       "    </tr>\n",
       "    <tr>\n",
       "      <th>Heat 3</th>\n",
       "      <td>13.355000</td>\n",
       "    </tr>\n",
       "    <tr>\n",
       "      <th>Heat 4</th>\n",
       "      <td>14.235000</td>\n",
       "    </tr>\n",
       "    <tr>\n",
       "      <th rowspan=\"2\" valign=\"top\">Semifinal</th>\n",
       "      <th>Heat 1</th>\n",
       "      <td>13.167500</td>\n",
       "    </tr>\n",
       "    <tr>\n",
       "      <th>Heat 2</th>\n",
       "      <td>16.692500</td>\n",
       "    </tr>\n",
       "  </tbody>\n",
       "</table>\n",
       "<p>3284 rows × 1 columns</p>\n",
       "</div>"
      ],
      "text/plain": [
       "                                                              top_two_waves_total\n",
       "event                  round             heat                                    \n",
       "Billabong Pipe Masters Elimination Round Heat 1 Watch replay             8.286667\n",
       "                                         Heat 2 Watch replay             7.596667\n",
       "                                         Heat 3 Watch replay             7.146667\n",
       "                                         Heat 4 Watch replay            10.013333\n",
       "                       Final             Heat 1                         12.912000\n",
       "...                                                                           ...\n",
       "Volcom Fiji Pro        Round 5           Heat 2                         15.057500\n",
       "                                         Heat 3                         13.355000\n",
       "                                         Heat 4                         14.235000\n",
       "                       Semifinal         Heat 1                         13.167500\n",
       "                                         Heat 2                         16.692500\n",
       "\n",
       "[3284 rows x 1 columns]"
      ]
     },
     "execution_count": 10,
     "metadata": {},
     "output_type": "execute_result"
    }
   ],
   "source": [
    "df.groupby(by=['event', 'round', 'heat']).mean()"
   ]
  },
  {
   "cell_type": "code",
   "execution_count": 11,
   "metadata": {},
   "outputs": [
    {
     "data": {
      "text/plain": [
       "array(['Round 2', 'Round 1', 'Round 3', 'Round 4', 'Quarterfinal',\n",
       "       'Semifinal', 'Final', 'Round 5', 'Quarterfinals', 'Semifinals',\n",
       "       'Trials Quarterfinals', 'Trials Round 1', 'Trials Semifinals',\n",
       "       'Trials Final', 'Elimination Round', 'Seeding Round',\n",
       "       'Round of 32', 'Round of 16', 'Opening Round'], dtype=object)"
      ]
     },
     "execution_count": 11,
     "metadata": {},
     "output_type": "execute_result"
    }
   ],
   "source": [
    "df['round'].unique()"
   ]
  },
  {
   "cell_type": "code",
   "execution_count": 12,
   "metadata": {},
   "outputs": [],
   "source": [
    "df[\"round\"] = df[\"round\"].map(\n",
    "    {\n",
    "        \"Seeding Round\": \"Round 1\",\n",
    "        \"Round of 32\": \"Round 3\",\n",
    "        \"Quarterfinal\": \"Quarterfinals\",\n",
    "        \"Round of 16\": \"Round 4\",\n",
    "        \"Elimination Round\": \"Round 2\",\n",
    "        \"Opening Round\": \"Round 1\",\n",
    "        \"Round 1\": \"Round 1\",\n",
    "        \"Round 2\": \"Round 2\",\n",
    "        \"Round 3\": \"Round 3\",\n",
    "        \"Round 4\": \"Round 4\",\n",
    "        \"Round 5\": \"Round 5\",\n",
    "        \"Quarterfinals\": \"Quarterfinals\",\n",
    "        \"Final\": \"Final\",\n",
    "        \"Semifinal\": \"Semifinals\",\n",
    "        \"Semifinals\": \"Semifinals\",\n",
    "        \"Trials Quarterfinals\": \"Trials Quarterfinals\",\n",
    "        \"Trials Round 1\": \"Trials Round 1\",\n",
    "        \"Trials Semifinals\": \"Trials Semifinals\",\n",
    "        \"Trials Final\": \"Trials Final\",\n",
    "    }\n",
    ")\n"
   ]
  },
  {
   "cell_type": "code",
   "execution_count": 13,
   "metadata": {},
   "outputs": [
    {
     "data": {
      "text/html": [
       "<div>\n",
       "<style scoped>\n",
       "    .dataframe tbody tr th:only-of-type {\n",
       "        vertical-align: middle;\n",
       "    }\n",
       "\n",
       "    .dataframe tbody tr th {\n",
       "        vertical-align: top;\n",
       "    }\n",
       "\n",
       "    .dataframe thead th {\n",
       "        text-align: right;\n",
       "    }\n",
       "</style>\n",
       "<table border=\"1\" class=\"dataframe\">\n",
       "  <thead>\n",
       "    <tr style=\"text-align: right;\">\n",
       "      <th></th>\n",
       "      <th></th>\n",
       "      <th></th>\n",
       "      <th>top_two_waves_total</th>\n",
       "    </tr>\n",
       "    <tr>\n",
       "      <th>event</th>\n",
       "      <th>round</th>\n",
       "      <th>heat</th>\n",
       "      <th></th>\n",
       "    </tr>\n",
       "  </thead>\n",
       "  <tbody>\n",
       "    <tr>\n",
       "      <th rowspan=\"5\" valign=\"top\">Billabong Pipe Masters</th>\n",
       "      <th rowspan=\"2\" valign=\"top\">Final</th>\n",
       "      <th>Heat 1</th>\n",
       "      <td>12.912</td>\n",
       "    </tr>\n",
       "    <tr>\n",
       "      <th>Heat 1 Watch replay</th>\n",
       "      <td>11.723</td>\n",
       "    </tr>\n",
       "    <tr>\n",
       "      <th rowspan=\"3\" valign=\"top\">Quarterfinals</th>\n",
       "      <th>Heat 1</th>\n",
       "      <td>10.336</td>\n",
       "    </tr>\n",
       "    <tr>\n",
       "      <th>Heat 1 Watch replay</th>\n",
       "      <td>10.117</td>\n",
       "    </tr>\n",
       "    <tr>\n",
       "      <th>Heat 2</th>\n",
       "      <td>11.254</td>\n",
       "    </tr>\n",
       "  </tbody>\n",
       "</table>\n",
       "</div>"
      ],
      "text/plain": [
       "                                                          top_two_waves_total\n",
       "event                  round         heat                                    \n",
       "Billabong Pipe Masters Final         Heat 1                            12.912\n",
       "                                     Heat 1 Watch replay               11.723\n",
       "                       Quarterfinals Heat 1                            10.336\n",
       "                                     Heat 1 Watch replay               10.117\n",
       "                                     Heat 2                            11.254"
      ]
     },
     "execution_count": 13,
     "metadata": {},
     "output_type": "execute_result"
    }
   ],
   "source": [
    "df.groupby(by=['event', 'round', 'heat']).mean().head()"
   ]
  },
  {
   "cell_type": "code",
   "execution_count": 14,
   "metadata": {},
   "outputs": [
    {
     "data": {
      "text/plain": [
       "array(['Heat 1 ', 'Heat 2 ', 'Heat 3 ', 'Heat 4 ', 'Heat 5 ', 'Heat 6 ',\n",
       "       'Heat 7 ', 'Heat 8 ', 'Heat 9 ', 'Heat 10 ', 'Heat 11 ',\n",
       "       'Heat 12 ', 'Heat 13 ', 'Heat 14 ', 'Heat 15 ', 'Heat 16 ',\n",
       "       'Heat 8 Watch replay', 'Heat 6 Watch replay',\n",
       "       'Heat 2 Watch replay', 'Heat 1 Watch replay',\n",
       "       'Heat 4 Watch replay', 'Heat 10 Watch replay',\n",
       "       'Heat 11 Watch replay', 'Heat 12 Watch replay',\n",
       "       'Heat 3 Watch replay', 'Heat 5 Watch replay',\n",
       "       'Heat 7 Watch replay', 'Heat 9 Watch replay',\n",
       "       'Heat 13 Watch replay', 'Heat 14 Watch replay',\n",
       "       'Heat 15 Watch replay', 'Heat 16 Watch replay'], dtype=object)"
      ]
     },
     "execution_count": 14,
     "metadata": {},
     "output_type": "execute_result"
    }
   ],
   "source": [
    "df['heat'].unique()"
   ]
  },
  {
   "cell_type": "code",
   "execution_count": 15,
   "metadata": {},
   "outputs": [],
   "source": [
    "df[\"heat\"] = df[\"heat\"].map(\n",
    "    {\n",
    "        \"Heat 1 \": \"Heat 1\",\n",
    "        \"Heat 2 \": \"Heat 2\",\n",
    "        \"Heat 3 \": \"Heat 3\",\n",
    "        \"Heat 4 \": \"Heat 4\",\n",
    "        \"Heat 5 \": \"Heat 5\",\n",
    "        \"Heat 6 \": \"Heat 6\",\n",
    "        \"Heat 7 \": \"Heat 7\",\n",
    "        \"Heat 8 \": \"Heat 8\",\n",
    "        \"Heat 9 \": \"Heat 9\",\n",
    "        \"Heat 10 \": \"Heat 10\",\n",
    "        \"Heat 11 \": \"Heat 11\",\n",
    "        \"Heat 12 \": \"Heat 12\",\n",
    "        \"Heat 13 \": \"Heat 13\",\n",
    "        \"Heat 14 \": \"Heat 14\",\n",
    "        \"Heat 15 \": \"Heat 15\",\n",
    "        \"Heat 16 \": \"Heat 16\",\n",
    "        \"Heat 8 Watch replay\": \"Heat 8\",\n",
    "        \"Heat 6 Watch replay\": \"Heat 6\",\n",
    "        \"Heat 2 Watch replay\": \"Heat 2\",\n",
    "        \"Heat 1 Watch replay\": \"Heat 1\",\n",
    "        \"Heat 4 Watch replay\": \"Heat 4\",\n",
    "        \"Heat 10 Watch replay\": \"Heat 10\",\n",
    "        \"Heat 11 Watch replay\": \"Heat 11\",\n",
    "        \"Heat 12 Watch replay\": \"Heat 12\",\n",
    "        \"Heat 3 Watch replay\": \"Heat 3\",\n",
    "        \"Heat 5 Watch replay\": \"Heat 5\",\n",
    "        \"Heat 7 Watch replay\": \"Heat 7\",\n",
    "        \"Heat 9 Watch replay\": \"Heat 9\",\n",
    "        \"Heat 13 Watch replay\": \"Heat 13\",\n",
    "        \"Heat 14 Watch replay\": \"Heat 14\",\n",
    "        \"Heat 15 Watch replay\": \"Heat 15\",\n",
    "        \"Heat 16 Watch replay\": \"Heat 16\",\n",
    "    }\n",
    ")\n"
   ]
  },
  {
   "cell_type": "code",
   "execution_count": 16,
   "metadata": {},
   "outputs": [
    {
     "data": {
      "text/plain": [
       "11.593201746180238"
      ]
     },
     "execution_count": 16,
     "metadata": {},
     "output_type": "execute_result"
    }
   ],
   "source": [
    "df['top_two_waves_total'].mean()"
   ]
  },
  {
   "cell_type": "code",
   "execution_count": 17,
   "metadata": {},
   "outputs": [
    {
     "data": {
      "text/plain": [
       "<AxesSubplot:xlabel='year,event,round,heat'>"
      ]
     },
     "execution_count": 17,
     "metadata": {},
     "output_type": "execute_result"
    },
    {
     "data": {
      "image/png": "[encoded data removed]",
      "text/plain": [
       "<Figure size 432x288 with 1 Axes>"
      ]
     },
     "metadata": {
      "needs_background": "light"
     },
     "output_type": "display_data"
    }
   ],
   "source": [
    "df.groupby(by=['year', 'event', 'round', 'heat']).mean().plot()"
   ]
  },
  {
   "cell_type": "code",
   "execution_count": 18,
   "metadata": {},
   "outputs": [
    {
     "data": {
      "text/html": [
       "<div>\n",
       "<style scoped>\n",
       "    .dataframe tbody tr th:only-of-type {\n",
       "        vertical-align: middle;\n",
       "    }\n",
       "\n",
       "    .dataframe tbody tr th {\n",
       "        vertical-align: top;\n",
       "    }\n",
       "\n",
       "    .dataframe thead th {\n",
       "        text-align: right;\n",
       "    }\n",
       "</style>\n",
       "<table border=\"1\" class=\"dataframe\">\n",
       "  <thead>\n",
       "    <tr style=\"text-align: right;\">\n",
       "      <th></th>\n",
       "      <th>top_two_waves_total</th>\n",
       "    </tr>\n",
       "  </thead>\n",
       "  <tbody>\n",
       "    <tr>\n",
       "      <th>count</th>\n",
       "      <td>16035.000000</td>\n",
       "    </tr>\n",
       "    <tr>\n",
       "      <th>mean</th>\n",
       "      <td>11.593202</td>\n",
       "    </tr>\n",
       "    <tr>\n",
       "      <th>std</th>\n",
       "      <td>3.710494</td>\n",
       "    </tr>\n",
       "    <tr>\n",
       "      <th>min</th>\n",
       "      <td>0.000000</td>\n",
       "    </tr>\n",
       "    <tr>\n",
       "      <th>25%</th>\n",
       "      <td>9.370000</td>\n",
       "    </tr>\n",
       "    <tr>\n",
       "      <th>50%</th>\n",
       "      <td>12.000000</td>\n",
       "    </tr>\n",
       "    <tr>\n",
       "      <th>75%</th>\n",
       "      <td>14.230000</td>\n",
       "    </tr>\n",
       "    <tr>\n",
       "      <th>max</th>\n",
       "      <td>20.000000</td>\n",
       "    </tr>\n",
       "  </tbody>\n",
       "</table>\n",
       "</div>"
      ],
      "text/plain": [
       "       top_two_waves_total\n",
       "count         16035.000000\n",
       "mean             11.593202\n",
       "std               3.710494\n",
       "min               0.000000\n",
       "25%               9.370000\n",
       "50%              12.000000\n",
       "75%              14.230000\n",
       "max              20.000000"
      ]
     },
     "execution_count": 18,
     "metadata": {},
     "output_type": "execute_result"
    }
   ],
   "source": [
    "df.describe()"
   ]
  },
  {
   "cell_type": "code",
   "execution_count": null,
   "metadata": {},
   "outputs": [],
   "source": []
  }
 ],
 "metadata": {
  "interpreter": {
   "hash": "f7a0f9bb49171c226bccce8a0987518af550515ba22b4949d7abe766c3680a51"
  },
  "kernelspec": {
   "display_name": "Python 3.9.7 ('base')",
   "language": "python",
   "name": "python3"
  },
  "language_info": {
   "codemirror_mode": {
    "name": "ipython",
    "version": 3
   },
   "file_extension": ".py",
   "mimetype": "text/x-python",
   "name": "python",
   "nbconvert_exporter": "python",
   "pygments_lexer": "ipython3",
   "version": "3.9.7"
  },
  "orig_nbformat": 4
 },
 "nbformat": 4,
 "nbformat_minor": 2
}
