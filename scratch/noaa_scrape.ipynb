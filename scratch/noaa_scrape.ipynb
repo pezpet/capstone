{
 "cells": [
  {
   "cell_type": "code",
   "execution_count": 50,
   "metadata": {},
   "outputs": [],
   "source": [
    "import pandas as pd\n",
    "import numpy as np\n",
    "from requests import get\n",
    "from bs4 import BeautifulSoup"
   ]
  },
  {
   "cell_type": "code",
   "execution_count": 74,
   "metadata": {},
   "outputs": [],
   "source": [
    "directions = {\n",
    "    \"N\": 0,\n",
    "    \"NNE\": 23,\n",
    "    \"NE\": 45,\n",
    "    \"NEE\": 68,\n",
    "    \"E\":90,\n",
    "    \"SEE\": 113,\n",
    "    \"SE\": 135,\n",
    "    \"SSE\": 158,\n",
    "    \"S\": 180,\n",
    "    \"SSW\": 203,\n",
    "    \"SW\": 225,\n",
    "    \"SWW\": 248,\n",
    "    \"W\": 270,\n",
    "    \"NWW\": 293,\n",
    "    \"NW\": 315,\n",
    "    \"NNW\": 338\n",
    "}\n"
   ]
  },
  {
   "cell_type": "code",
   "execution_count": 51,
   "metadata": {},
   "outputs": [
    {
     "data": {
      "text/plain": [
       "6.6"
      ]
     },
     "execution_count": 51,
     "metadata": {},
     "output_type": "execute_result"
    }
   ],
   "source": [
    "url = \"https://www.ndbc.noaa.gov/station_page.php?station=51201\"\n",
    "res = get(url)\n",
    "soup = BeautifulSoup(res.content)"
   ]
  },
  {
   "cell_type": "code",
   "execution_count": 52,
   "metadata": {},
   "outputs": [
    {
     "data": {
      "text/plain": [
       "6.2"
      ]
     },
     "execution_count": 52,
     "metadata": {},
     "output_type": "execute_result"
    }
   ],
   "source": [
    "float(soup.find('div', id='data').find_all('tr')[1].find_all('td')[2].text.strip().split()[0])"
   ]
  },
  {
   "cell_type": "code",
   "execution_count": 62,
   "metadata": {},
   "outputs": [
    {
     "data": {
      "text/plain": [
       "10.7"
      ]
     },
     "execution_count": 62,
     "metadata": {},
     "output_type": "execute_result"
    }
   ],
   "source": [
    "avg_period_9_h = float(soup.find('table', class_='dataTable').find_all('tr')[19].find_all('td')[8].text)\n",
    "avg_period_9_h"
   ]
  },
  {
   "cell_type": "code",
   "execution_count": 63,
   "metadata": {},
   "outputs": [
    {
     "data": {
      "text/plain": [
       "10.7"
      ]
     },
     "execution_count": 63,
     "metadata": {},
     "output_type": "execute_result"
    }
   ],
   "source": [
    "avg_period_6_h = float(soup.find('table', class_='dataTable').find_all('tr')[13].find_all('td')[8].text)\n",
    "avg_period_6_h"
   ]
  },
  {
   "cell_type": "code",
   "execution_count": 64,
   "metadata": {},
   "outputs": [
    {
     "data": {
      "text/plain": [
       "315"
      ]
     },
     "execution_count": 64,
     "metadata": {},
     "output_type": "execute_result"
    }
   ],
   "source": [
    "dominant_wave_direction = int(soup.find(\"div\", id=\"data\").find_all(\"tr\")[4].find_all(\"td\")[2].text.strip().split()[2])\n",
    "\n",
    "dominant_wave_direction"
   ]
  },
  {
   "cell_type": "code",
   "execution_count": 75,
   "metadata": {},
   "outputs": [
    {
     "data": {
      "text/plain": [
       "338"
      ]
     },
     "execution_count": 75,
     "metadata": {},
     "output_type": "execute_result"
    }
   ],
   "source": [
    "dominant_wave_direction_6_h = directions[soup.find('table', class_='dataTable').find_all('tr')[13].find_all('td')[9].text]\n",
    "dominant_wave_direction_6_h"
   ]
  },
  {
   "cell_type": "code",
   "execution_count": 69,
   "metadata": {},
   "outputs": [
    {
     "data": {
      "text/plain": [
       "8.8"
      ]
     },
     "execution_count": 69,
     "metadata": {},
     "output_type": "execute_result"
    }
   ],
   "source": [
    "avg_period_1_h = float(soup.find('table', class_='dataTable').find_all('tr')[3].find_all('td')[8].text)\n",
    "avg_period_1_h"
   ]
  },
  {
   "cell_type": "code",
   "execution_count": 70,
   "metadata": {},
   "outputs": [
    {
     "data": {
      "text/plain": [
       "13.0"
      ]
     },
     "execution_count": 70,
     "metadata": {},
     "output_type": "execute_result"
    }
   ],
   "source": [
    "dominant_period_1_5_h = float(soup.find('table', class_='dataTable').find_all('tr')[4].find_all('td')[7].text)\n",
    "dominant_period_1_5_h"
   ]
  },
  {
   "cell_type": "code",
   "execution_count": 71,
   "metadata": {},
   "outputs": [
    {
     "data": {
      "text/plain": [
       "13.0"
      ]
     },
     "execution_count": 71,
     "metadata": {},
     "output_type": "execute_result"
    }
   ],
   "source": [
    "dominant_period_6_h = float(soup.find('table', class_='dataTable').find_all('tr')[13].find_all('td')[7].text)\n",
    "dominant_period_6_h"
   ]
  },
  {
   "cell_type": "code",
   "execution_count": 72,
   "metadata": {},
   "outputs": [
    {
     "data": {
      "text/plain": [
       "6.2"
      ]
     },
     "execution_count": 72,
     "metadata": {},
     "output_type": "execute_result"
    }
   ],
   "source": [
    "wave_height_3_h = float(soup.find('table', class_='dataTable').find_all('tr')[7].find_all('td')[6].text)\n",
    "wave_height_3_h"
   ]
  },
  {
   "cell_type": "code",
   "execution_count": 77,
   "metadata": {},
   "outputs": [],
   "source": [
    "url = \"https://www.ndbc.noaa.gov/station_page.php?station=oouh1\"\n",
    "res = get(url)\n",
    "soup2 = BeautifulSoup(res.content)"
   ]
  },
  {
   "cell_type": "code",
   "execution_count": 86,
   "metadata": {},
   "outputs": [
    {
     "data": {
      "text/plain": [
       "200"
      ]
     },
     "execution_count": 86,
     "metadata": {},
     "output_type": "execute_result"
    }
   ],
   "source": [
    "wind_direction = int(soup2.find(\"div\", id=\"data\").find_all(\"tr\")[1].find_all('td')[2].text.split()[2])\n",
    "wind_direction"
   ]
  },
  {
   "cell_type": "code",
   "execution_count": 92,
   "metadata": {},
   "outputs": [
    {
     "data": {
      "text/plain": [
       "8.0"
      ]
     },
     "execution_count": 92,
     "metadata": {},
     "output_type": "execute_result"
    }
   ],
   "source": [
    "wind_speed = float(soup2.find(\"div\", id=\"data\").find_all(\"tr\")[2].find_all('td')[2].text.split()[0])\n",
    "wind_speed"
   ]
  },
  {
   "cell_type": "code",
   "execution_count": null,
   "metadata": {},
   "outputs": [],
   "source": []
  }
 ],
 "metadata": {
  "interpreter": {
   "hash": "f7a0f9bb49171c226bccce8a0987518af550515ba22b4949d7abe766c3680a51"
  },
  "kernelspec": {
   "display_name": "Python 3.9.7 ('base')",
   "language": "python",
   "name": "python3"
  },
  "language_info": {
   "codemirror_mode": {
    "name": "ipython",
    "version": 3
   },
   "file_extension": ".py",
   "mimetype": "text/x-python",
   "name": "python",
   "nbconvert_exporter": "python",
   "pygments_lexer": "ipython3",
   "version": "3.9.7"
  },
  "orig_nbformat": 4
 },
 "nbformat": 4,
 "nbformat_minor": 2
}
