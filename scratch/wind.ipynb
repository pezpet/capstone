{
 "cells": [
  {
   "cell_type": "markdown",
   "metadata": {},
   "source": [
    "# NOAA Honolulu Wind Data\n",
    "\n",
    "This file cleans and concatenates wind data from a Honolulu weather station.\n",
    "\n",
    "Each year of data has its own file, and missing values are expressed differently for each column.\n",
    "\n",
    "Dates are separated into year, month, day, hour and minute columns.\n",
    "\n",
    "**Dates are in UTC, must be changed to Hawaii time for consistency with scores data.**"
   ]
  },
  {
   "cell_type": "markdown",
   "metadata": {},
   "source": [
    "## Imports"
   ]
  },
  {
   "cell_type": "code",
   "execution_count": 1,
   "metadata": {},
   "outputs": [],
   "source": [
    "import pandas as pd\n",
    "import numpy as np"
   ]
  },
  {
   "cell_type": "markdown",
   "metadata": {},
   "source": [
    "## NOAA raw wind data\n",
    "\n",
    "Get one file first to clean and then repeat process."
   ]
  },
  {
   "cell_type": "markdown",
   "metadata": {},
   "source": [
    "### First file 2008"
   ]
  },
  {
   "cell_type": "code",
   "execution_count": 2,
   "metadata": {},
   "outputs": [],
   "source": [
    "# Read in csv, skip second row, has units\n",
    "wind2008 = pd.read_csv(\"./data/wind/oouh1h2008.csv\", skiprows=[1])\n"
   ]
  },
  {
   "cell_type": "code",
   "execution_count": 3,
   "metadata": {},
   "outputs": [
    {
     "data": {
      "text/html": [
       "<div>\n",
       "<style scoped>\n",
       "    .dataframe tbody tr th:only-of-type {\n",
       "        vertical-align: middle;\n",
       "    }\n",
       "\n",
       "    .dataframe tbody tr th {\n",
       "        vertical-align: top;\n",
       "    }\n",
       "\n",
       "    .dataframe thead th {\n",
       "        text-align: right;\n",
       "    }\n",
       "</style>\n",
       "<table border=\"1\" class=\"dataframe\">\n",
       "  <thead>\n",
       "    <tr style=\"text-align: right;\">\n",
       "      <th></th>\n",
       "      <th>#YY</th>\n",
       "      <th>MM</th>\n",
       "      <th>DD</th>\n",
       "      <th>hh</th>\n",
       "      <th>mm</th>\n",
       "      <th>WDI</th>\n",
       "      <th>R WSP</th>\n",
       "      <th>D GST</th>\n",
       "      <th>WVHT</th>\n",
       "      <th>DPD</th>\n",
       "      <th>APD</th>\n",
       "      <th>MWD</th>\n",
       "      <th>PRES</th>\n",
       "      <th>ATMP</th>\n",
       "      <th>WTMP</th>\n",
       "      <th>DEWP</th>\n",
       "      <th>VIS</th>\n",
       "      <th>TIDE</th>\n",
       "    </tr>\n",
       "  </thead>\n",
       "  <tbody>\n",
       "    <tr>\n",
       "      <th>0</th>\n",
       "      <td>2008</td>\n",
       "      <td>1</td>\n",
       "      <td>1</td>\n",
       "      <td>0</td>\n",
       "      <td>0</td>\n",
       "      <td>999</td>\n",
       "      <td>99.0</td>\n",
       "      <td>99.0</td>\n",
       "      <td>99</td>\n",
       "      <td>99</td>\n",
       "      <td>99</td>\n",
       "      <td>999</td>\n",
       "      <td>1013.9</td>\n",
       "      <td>999.0</td>\n",
       "      <td>25.7</td>\n",
       "      <td>999</td>\n",
       "      <td>99</td>\n",
       "      <td>99</td>\n",
       "    </tr>\n",
       "    <tr>\n",
       "      <th>1</th>\n",
       "      <td>2008</td>\n",
       "      <td>1</td>\n",
       "      <td>1</td>\n",
       "      <td>0</td>\n",
       "      <td>6</td>\n",
       "      <td>999</td>\n",
       "      <td>99.0</td>\n",
       "      <td>99.0</td>\n",
       "      <td>99</td>\n",
       "      <td>99</td>\n",
       "      <td>99</td>\n",
       "      <td>999</td>\n",
       "      <td>1014.0</td>\n",
       "      <td>999.0</td>\n",
       "      <td>25.7</td>\n",
       "      <td>999</td>\n",
       "      <td>99</td>\n",
       "      <td>99</td>\n",
       "    </tr>\n",
       "    <tr>\n",
       "      <th>2</th>\n",
       "      <td>2008</td>\n",
       "      <td>1</td>\n",
       "      <td>1</td>\n",
       "      <td>0</td>\n",
       "      <td>12</td>\n",
       "      <td>999</td>\n",
       "      <td>99.0</td>\n",
       "      <td>99.0</td>\n",
       "      <td>99</td>\n",
       "      <td>99</td>\n",
       "      <td>99</td>\n",
       "      <td>999</td>\n",
       "      <td>1014.0</td>\n",
       "      <td>999.0</td>\n",
       "      <td>25.7</td>\n",
       "      <td>999</td>\n",
       "      <td>99</td>\n",
       "      <td>99</td>\n",
       "    </tr>\n",
       "    <tr>\n",
       "      <th>3</th>\n",
       "      <td>2008</td>\n",
       "      <td>1</td>\n",
       "      <td>1</td>\n",
       "      <td>0</td>\n",
       "      <td>18</td>\n",
       "      <td>999</td>\n",
       "      <td>99.0</td>\n",
       "      <td>99.0</td>\n",
       "      <td>99</td>\n",
       "      <td>99</td>\n",
       "      <td>99</td>\n",
       "      <td>999</td>\n",
       "      <td>1014.1</td>\n",
       "      <td>999.0</td>\n",
       "      <td>25.7</td>\n",
       "      <td>999</td>\n",
       "      <td>99</td>\n",
       "      <td>99</td>\n",
       "    </tr>\n",
       "    <tr>\n",
       "      <th>4</th>\n",
       "      <td>2008</td>\n",
       "      <td>1</td>\n",
       "      <td>1</td>\n",
       "      <td>0</td>\n",
       "      <td>24</td>\n",
       "      <td>999</td>\n",
       "      <td>99.0</td>\n",
       "      <td>99.0</td>\n",
       "      <td>99</td>\n",
       "      <td>99</td>\n",
       "      <td>99</td>\n",
       "      <td>999</td>\n",
       "      <td>1014.1</td>\n",
       "      <td>999.0</td>\n",
       "      <td>25.7</td>\n",
       "      <td>999</td>\n",
       "      <td>99</td>\n",
       "      <td>99</td>\n",
       "    </tr>\n",
       "  </tbody>\n",
       "</table>\n",
       "</div>"
      ],
      "text/plain": [
       "    #YY  MM  DD  hh  mm  WDI  R WSP  D GST  WVHT  DPD  APD  MWD    PRES  \\\n",
       "0  2008   1   1   0   0  999   99.0   99.0    99   99   99  999  1013.9   \n",
       "1  2008   1   1   0   6  999   99.0   99.0    99   99   99  999  1014.0   \n",
       "2  2008   1   1   0  12  999   99.0   99.0    99   99   99  999  1014.0   \n",
       "3  2008   1   1   0  18  999   99.0   99.0    99   99   99  999  1014.1   \n",
       "4  2008   1   1   0  24  999   99.0   99.0    99   99   99  999  1014.1   \n",
       "\n",
       "    ATMP  WTMP  DEWP  VIS  TIDE  \n",
       "0  999.0  25.7   999   99    99  \n",
       "1  999.0  25.7   999   99    99  \n",
       "2  999.0  25.7   999   99    99  \n",
       "3  999.0  25.7   999   99    99  \n",
       "4  999.0  25.7   999   99    99  "
      ]
     },
     "execution_count": 3,
     "metadata": {},
     "output_type": "execute_result"
    }
   ],
   "source": [
    "# 999, 99, 9999  etc are missing values\n",
    "wind2008.head()"
   ]
  },
  {
   "cell_type": "code",
   "execution_count": 8,
   "metadata": {},
   "outputs": [
    {
     "data": {
      "text/plain": [
       "['WVHT', 'DPD', 'APD', 'MWD', 'DEWP', 'VIS', 'TIDE']"
      ]
     },
     "execution_count": 8,
     "metadata": {},
     "output_type": "execute_result"
    }
   ],
   "source": [
    "# Columns of missing data have only one value: 99, 9999, etc. Add column names to list to drop them\n",
    "nan_cols = []\n",
    "for col in wind2008.columns:\n",
    "    if len(wind2008[col].value_counts()) == 1 and col != '#YY':\n",
    "        nan_cols.append(col)\n",
    "\n",
    "nan_cols"
   ]
  },
  {
   "cell_type": "code",
   "execution_count": 9,
   "metadata": {},
   "outputs": [
    {
     "data": {
      "text/html": [
       "<div>\n",
       "<style scoped>\n",
       "    .dataframe tbody tr th:only-of-type {\n",
       "        vertical-align: middle;\n",
       "    }\n",
       "\n",
       "    .dataframe tbody tr th {\n",
       "        vertical-align: top;\n",
       "    }\n",
       "\n",
       "    .dataframe thead th {\n",
       "        text-align: right;\n",
       "    }\n",
       "</style>\n",
       "<table border=\"1\" class=\"dataframe\">\n",
       "  <thead>\n",
       "    <tr style=\"text-align: right;\">\n",
       "      <th></th>\n",
       "      <th>#YY</th>\n",
       "      <th>MM</th>\n",
       "      <th>DD</th>\n",
       "      <th>hh</th>\n",
       "      <th>mm</th>\n",
       "      <th>WDI</th>\n",
       "      <th>R WSP</th>\n",
       "      <th>D GST</th>\n",
       "      <th>PRES</th>\n",
       "      <th>ATMP</th>\n",
       "      <th>WTMP</th>\n",
       "    </tr>\n",
       "  </thead>\n",
       "  <tbody>\n",
       "    <tr>\n",
       "      <th>0</th>\n",
       "      <td>2008</td>\n",
       "      <td>1</td>\n",
       "      <td>1</td>\n",
       "      <td>0</td>\n",
       "      <td>0</td>\n",
       "      <td>999</td>\n",
       "      <td>99.0</td>\n",
       "      <td>99.0</td>\n",
       "      <td>1013.9</td>\n",
       "      <td>999.0</td>\n",
       "      <td>25.7</td>\n",
       "    </tr>\n",
       "    <tr>\n",
       "      <th>1</th>\n",
       "      <td>2008</td>\n",
       "      <td>1</td>\n",
       "      <td>1</td>\n",
       "      <td>0</td>\n",
       "      <td>6</td>\n",
       "      <td>999</td>\n",
       "      <td>99.0</td>\n",
       "      <td>99.0</td>\n",
       "      <td>1014.0</td>\n",
       "      <td>999.0</td>\n",
       "      <td>25.7</td>\n",
       "    </tr>\n",
       "    <tr>\n",
       "      <th>2</th>\n",
       "      <td>2008</td>\n",
       "      <td>1</td>\n",
       "      <td>1</td>\n",
       "      <td>0</td>\n",
       "      <td>12</td>\n",
       "      <td>999</td>\n",
       "      <td>99.0</td>\n",
       "      <td>99.0</td>\n",
       "      <td>1014.0</td>\n",
       "      <td>999.0</td>\n",
       "      <td>25.7</td>\n",
       "    </tr>\n",
       "    <tr>\n",
       "      <th>3</th>\n",
       "      <td>2008</td>\n",
       "      <td>1</td>\n",
       "      <td>1</td>\n",
       "      <td>0</td>\n",
       "      <td>18</td>\n",
       "      <td>999</td>\n",
       "      <td>99.0</td>\n",
       "      <td>99.0</td>\n",
       "      <td>1014.1</td>\n",
       "      <td>999.0</td>\n",
       "      <td>25.7</td>\n",
       "    </tr>\n",
       "    <tr>\n",
       "      <th>4</th>\n",
       "      <td>2008</td>\n",
       "      <td>1</td>\n",
       "      <td>1</td>\n",
       "      <td>0</td>\n",
       "      <td>24</td>\n",
       "      <td>999</td>\n",
       "      <td>99.0</td>\n",
       "      <td>99.0</td>\n",
       "      <td>1014.1</td>\n",
       "      <td>999.0</td>\n",
       "      <td>25.7</td>\n",
       "    </tr>\n",
       "    <tr>\n",
       "      <th>...</th>\n",
       "      <td>...</td>\n",
       "      <td>...</td>\n",
       "      <td>...</td>\n",
       "      <td>...</td>\n",
       "      <td>...</td>\n",
       "      <td>...</td>\n",
       "      <td>...</td>\n",
       "      <td>...</td>\n",
       "      <td>...</td>\n",
       "      <td>...</td>\n",
       "      <td>...</td>\n",
       "    </tr>\n",
       "    <tr>\n",
       "      <th>86103</th>\n",
       "      <td>2008</td>\n",
       "      <td>12</td>\n",
       "      <td>31</td>\n",
       "      <td>23</td>\n",
       "      <td>30</td>\n",
       "      <td>276</td>\n",
       "      <td>0.6</td>\n",
       "      <td>1.0</td>\n",
       "      <td>1011.6</td>\n",
       "      <td>24.3</td>\n",
       "      <td>26.4</td>\n",
       "    </tr>\n",
       "    <tr>\n",
       "      <th>86104</th>\n",
       "      <td>2008</td>\n",
       "      <td>12</td>\n",
       "      <td>31</td>\n",
       "      <td>23</td>\n",
       "      <td>36</td>\n",
       "      <td>356</td>\n",
       "      <td>0.4</td>\n",
       "      <td>1.1</td>\n",
       "      <td>1011.6</td>\n",
       "      <td>24.2</td>\n",
       "      <td>26.4</td>\n",
       "    </tr>\n",
       "    <tr>\n",
       "      <th>86105</th>\n",
       "      <td>2008</td>\n",
       "      <td>12</td>\n",
       "      <td>31</td>\n",
       "      <td>23</td>\n",
       "      <td>42</td>\n",
       "      <td>181</td>\n",
       "      <td>1.4</td>\n",
       "      <td>2.5</td>\n",
       "      <td>1011.5</td>\n",
       "      <td>24.5</td>\n",
       "      <td>26.4</td>\n",
       "    </tr>\n",
       "    <tr>\n",
       "      <th>86106</th>\n",
       "      <td>2008</td>\n",
       "      <td>12</td>\n",
       "      <td>31</td>\n",
       "      <td>23</td>\n",
       "      <td>48</td>\n",
       "      <td>182</td>\n",
       "      <td>1.5</td>\n",
       "      <td>3.1</td>\n",
       "      <td>1011.5</td>\n",
       "      <td>24.5</td>\n",
       "      <td>26.4</td>\n",
       "    </tr>\n",
       "    <tr>\n",
       "      <th>86107</th>\n",
       "      <td>2008</td>\n",
       "      <td>12</td>\n",
       "      <td>31</td>\n",
       "      <td>23</td>\n",
       "      <td>54</td>\n",
       "      <td>133</td>\n",
       "      <td>1.4</td>\n",
       "      <td>2.2</td>\n",
       "      <td>1011.4</td>\n",
       "      <td>24.7</td>\n",
       "      <td>26.4</td>\n",
       "    </tr>\n",
       "  </tbody>\n",
       "</table>\n",
       "<p>86108 rows × 11 columns</p>\n",
       "</div>"
      ],
      "text/plain": [
       "        #YY  MM  DD  hh  mm  WDI  R WSP  D GST    PRES   ATMP  WTMP\n",
       "0      2008   1   1   0   0  999   99.0   99.0  1013.9  999.0  25.7\n",
       "1      2008   1   1   0   6  999   99.0   99.0  1014.0  999.0  25.7\n",
       "2      2008   1   1   0  12  999   99.0   99.0  1014.0  999.0  25.7\n",
       "3      2008   1   1   0  18  999   99.0   99.0  1014.1  999.0  25.7\n",
       "4      2008   1   1   0  24  999   99.0   99.0  1014.1  999.0  25.7\n",
       "...     ...  ..  ..  ..  ..  ...    ...    ...     ...    ...   ...\n",
       "86103  2008  12  31  23  30  276    0.6    1.0  1011.6   24.3  26.4\n",
       "86104  2008  12  31  23  36  356    0.4    1.1  1011.6   24.2  26.4\n",
       "86105  2008  12  31  23  42  181    1.4    2.5  1011.5   24.5  26.4\n",
       "86106  2008  12  31  23  48  182    1.5    3.1  1011.5   24.5  26.4\n",
       "86107  2008  12  31  23  54  133    1.4    2.2  1011.4   24.7  26.4\n",
       "\n",
       "[86108 rows x 11 columns]"
      ]
     },
     "execution_count": 9,
     "metadata": {},
     "output_type": "execute_result"
    }
   ],
   "source": [
    "wind2008.drop(columns=nan_cols)"
   ]
  },
  {
   "cell_type": "markdown",
   "metadata": {},
   "source": [
    "### Repeat for all files"
   ]
  },
  {
   "cell_type": "code",
   "execution_count": 37,
   "metadata": {},
   "outputs": [],
   "source": [
    "# Repeat process for yearly data files\n",
    "df_list = []\n",
    "for year in range(2008, 2023):\n",
    "    if year == 2020:\n",
    "        continue\n",
    "    df = pd.read_csv(f\"./data/wind/oouh1h{year}.csv\", skiprows=[1])\n",
    "    nan_cols = []\n",
    "    for col in df.columns:\n",
    "        if len(df[col].value_counts()) == 1 and col != '#YY':\n",
    "            nan_cols.append(col)\n",
    "    df.drop(columns=nan_cols, inplace=True)\n",
    "    df_list.append(df)\n",
    "\n",
    "wind = pd.concat(df_list)"
   ]
  },
  {
   "cell_type": "code",
   "execution_count": 38,
   "metadata": {},
   "outputs": [
    {
     "data": {
      "text/html": [
       "<div>\n",
       "<style scoped>\n",
       "    .dataframe tbody tr th:only-of-type {\n",
       "        vertical-align: middle;\n",
       "    }\n",
       "\n",
       "    .dataframe tbody tr th {\n",
       "        vertical-align: top;\n",
       "    }\n",
       "\n",
       "    .dataframe thead th {\n",
       "        text-align: right;\n",
       "    }\n",
       "</style>\n",
       "<table border=\"1\" class=\"dataframe\">\n",
       "  <thead>\n",
       "    <tr style=\"text-align: right;\">\n",
       "      <th></th>\n",
       "      <th>#YY</th>\n",
       "      <th>MM</th>\n",
       "      <th>DD</th>\n",
       "      <th>hh</th>\n",
       "      <th>mm</th>\n",
       "      <th>WDIR</th>\n",
       "      <th>R WSP</th>\n",
       "      <th>D GST</th>\n",
       "    </tr>\n",
       "  </thead>\n",
       "  <tbody>\n",
       "    <tr>\n",
       "      <th>0</th>\n",
       "      <td>2008</td>\n",
       "      <td>1</td>\n",
       "      <td>1</td>\n",
       "      <td>0</td>\n",
       "      <td>0</td>\n",
       "      <td>999</td>\n",
       "      <td>99.0</td>\n",
       "      <td>99.0</td>\n",
       "    </tr>\n",
       "    <tr>\n",
       "      <th>1</th>\n",
       "      <td>2008</td>\n",
       "      <td>1</td>\n",
       "      <td>1</td>\n",
       "      <td>0</td>\n",
       "      <td>6</td>\n",
       "      <td>999</td>\n",
       "      <td>99.0</td>\n",
       "      <td>99.0</td>\n",
       "    </tr>\n",
       "    <tr>\n",
       "      <th>2</th>\n",
       "      <td>2008</td>\n",
       "      <td>1</td>\n",
       "      <td>1</td>\n",
       "      <td>0</td>\n",
       "      <td>12</td>\n",
       "      <td>999</td>\n",
       "      <td>99.0</td>\n",
       "      <td>99.0</td>\n",
       "    </tr>\n",
       "    <tr>\n",
       "      <th>3</th>\n",
       "      <td>2008</td>\n",
       "      <td>1</td>\n",
       "      <td>1</td>\n",
       "      <td>0</td>\n",
       "      <td>18</td>\n",
       "      <td>999</td>\n",
       "      <td>99.0</td>\n",
       "      <td>99.0</td>\n",
       "    </tr>\n",
       "    <tr>\n",
       "      <th>4</th>\n",
       "      <td>2008</td>\n",
       "      <td>1</td>\n",
       "      <td>1</td>\n",
       "      <td>0</td>\n",
       "      <td>24</td>\n",
       "      <td>999</td>\n",
       "      <td>99.0</td>\n",
       "      <td>99.0</td>\n",
       "    </tr>\n",
       "    <tr>\n",
       "      <th>...</th>\n",
       "      <td>...</td>\n",
       "      <td>...</td>\n",
       "      <td>...</td>\n",
       "      <td>...</td>\n",
       "      <td>...</td>\n",
       "      <td>...</td>\n",
       "      <td>...</td>\n",
       "      <td>...</td>\n",
       "    </tr>\n",
       "    <tr>\n",
       "      <th>10908</th>\n",
       "      <td>2022</td>\n",
       "      <td>1</td>\n",
       "      <td>24</td>\n",
       "      <td>0</td>\n",
       "      <td>24</td>\n",
       "      <td>50</td>\n",
       "      <td>3.6</td>\n",
       "      <td>6.7</td>\n",
       "    </tr>\n",
       "    <tr>\n",
       "      <th>10909</th>\n",
       "      <td>2022</td>\n",
       "      <td>1</td>\n",
       "      <td>24</td>\n",
       "      <td>0</td>\n",
       "      <td>18</td>\n",
       "      <td>10</td>\n",
       "      <td>2.1</td>\n",
       "      <td>4.6</td>\n",
       "    </tr>\n",
       "    <tr>\n",
       "      <th>10910</th>\n",
       "      <td>2022</td>\n",
       "      <td>1</td>\n",
       "      <td>24</td>\n",
       "      <td>0</td>\n",
       "      <td>12</td>\n",
       "      <td>360</td>\n",
       "      <td>2.1</td>\n",
       "      <td>4.6</td>\n",
       "    </tr>\n",
       "    <tr>\n",
       "      <th>10911</th>\n",
       "      <td>2022</td>\n",
       "      <td>1</td>\n",
       "      <td>24</td>\n",
       "      <td>0</td>\n",
       "      <td>6</td>\n",
       "      <td>60</td>\n",
       "      <td>3.1</td>\n",
       "      <td>5.1</td>\n",
       "    </tr>\n",
       "    <tr>\n",
       "      <th>10912</th>\n",
       "      <td>2022</td>\n",
       "      <td>1</td>\n",
       "      <td>24</td>\n",
       "      <td>0</td>\n",
       "      <td>0</td>\n",
       "      <td>100</td>\n",
       "      <td>1</td>\n",
       "      <td>3.1</td>\n",
       "    </tr>\n",
       "  </tbody>\n",
       "</table>\n",
       "<p>1129194 rows × 8 columns</p>\n",
       "</div>"
      ],
      "text/plain": [
       "        #YY  MM  DD  hh  mm WDIR R WSP D GST\n",
       "0      2008   1   1   0   0  999  99.0  99.0\n",
       "1      2008   1   1   0   6  999  99.0  99.0\n",
       "2      2008   1   1   0  12  999  99.0  99.0\n",
       "3      2008   1   1   0  18  999  99.0  99.0\n",
       "4      2008   1   1   0  24  999  99.0  99.0\n",
       "...     ...  ..  ..  ..  ..  ...   ...   ...\n",
       "10908  2022   1  24   0  24   50   3.6   6.7\n",
       "10909  2022   1  24   0  18   10   2.1   4.6\n",
       "10910  2022   1  24   0  12  360   2.1   4.6\n",
       "10911  2022   1  24   0   6   60   3.1   5.1\n",
       "10912  2022   1  24   0   0  100     1   3.1\n",
       "\n",
       "[1129194 rows x 8 columns]"
      ]
     },
     "execution_count": 38,
     "metadata": {},
     "output_type": "execute_result"
    }
   ],
   "source": [
    "wind.drop(columns=['WTMP', 'PTDY', 'PRES', 'ATMP'], inplace=True)\n",
    "wind"
   ]
  },
  {
   "cell_type": "markdown",
   "metadata": {},
   "source": [
    "### Missing values"
   ]
  },
  {
   "cell_type": "code",
   "execution_count": 31,
   "metadata": {},
   "outputs": [
    {
     "name": "stdout",
     "output_type": "stream",
     "text": [
      "#YY [2008 2009 2010 2011 2012 2013 2014 2015 2016 2017 2018 2019 2021 2022]\n",
      "MM [ 1  2  3  4  5  6  7  8  9 10 11 12]\n",
      "DD [ 1  2  3  4  5  6  7  8  9 10 11 12 13 14 15 16 17 18 19 20 21 22 23 24\n",
      " 25 26 27 28 29 30 31]\n",
      "hh [ 0  1  2  3  4  5  6  7  8  9 10 11 12 13 14 15 16 17 18 19 20 21 22 23]\n",
      "mm [ 0  6 12 18 24 30 36 42 48 54 52]\n",
      "WDIR [999 60 57 ... '280 1' '317 1' 'MM']\n",
      "R WSP [99.0 3.0 2.7 1.9 0.6 2.6 3.8 2.5 3.1 1.7 4.0 3.3 2.1 4.5 3.5 3.4 1.0 2.4\n",
      " 1.6 4.9 3.6 2.8 5.2 4.4 4.2 4.1 2.2 4.3 4.7 2.9 3.7 4.8 4.6 3.2 2.0 5.3\n",
      " 5.0 1.8 2.3 0.5 1.5 0.9 1.2 1.3 1.4 0.3 1.1 0.7 0.8 0.1 0.4 3.9 5.1 6.7\n",
      " 5.5 5.4 5.6 0.2 5.8 6.0 6.5 7.0 5.9 7.4 7.8 6.1 6.4 5.7 6.3 6.2 8.0 7.6\n",
      " 7.7 6.6 8.2 6.9 7.5 7.2 7.1 7.3 8.3 8.1 10.8 9.4 8.8 6.8 8.9 9.3 9.0 7.9\n",
      " 9.1 9.6 9.2 8.7 8.4 8.6 8.5 9.7 0.0 9.5 12.7 '3.8' '3.2' '2.9' '2.2'\n",
      " '2.1' '3' '2.8' '3.5' '2.3' '2.6' '1' '1.2' '1.9' '1.6' '1.8' '2' '1.7'\n",
      " '1.4' '0.6' '0.7' '2.5' '0.8' '0.3' '99' '0.9' '2.4' '0.5' '1.1' '1.5'\n",
      " '1.3' '0.4' '0.1' '0.2' '3.1' '3.4' '2.7' '4.3' '3.7' '3.6' '4.1' '3.3'\n",
      " '3.9' '4' '4.5' '4.7' '5.2' '4.2' '4.4' '5.3' '5' '4.8' '4.6' '5.8' '4.9'\n",
      " '5.9' '5.1' '3.8 1' '3.6 1' '99.0 9' '5.4' '6.1' '5.6' '7' '5.5' '6'\n",
      " '5.7' '6.4' '6.7' '8.5 1' '6.9 1' '6.8' '8.4 1' '6.8 1' '6.9' '7.2' '6.5'\n",
      " '9.0 1' '9.4 1' '8.7 1' '7.8' '6.2' '5.7 1' '7.6 1' '7.8 1' '7.1 1'\n",
      " '3.1 1' '6.1 1' '5.0 1' '2.9 1' '6.0 1' '8.2 1' '7.3 1' '7.7' '7.9 1'\n",
      " '7.1' '99.0 1' '10.7 1' '9.5 1' '8.9 1' '9.3 1' '4.8 1' '5.5 1' '6.3 1'\n",
      " '6.6' '8.0 1' '6.6 1' '7.7 1' '9.6 1' '11.0 1' '11.6 1' '9.1 1' '6.3' '8'\n",
      " '5.8 1' '5.1 1' '5.3 1' '3.2 1' '4.0 1' '4.6 1' '3.0 1' '3.3 1' '4.2 1'\n",
      " '2.6 1' '5.6 1' '5.4 1' '5.9 1' '4.4 1' '3.9 1' '3.5 1' '4.1 1' '4.7 1'\n",
      " '5.2 1' '2.2 1' '3.7 1' '3.4 1' '4.3 1' '6.5 1' '4.5 1' '4.9 1' '2.7 1'\n",
      " '6.4 1' '6.2 1' '2.8 1' '2.4 1' '7.5 1' '2.5 1' '1.5 1' '2.1 1' '7.0 1'\n",
      " '1.9 1' '2.3 1' '1.7 1' '7.2 1' '1.8 1' '7.4 1' '1.1 1' '6.7 1' '9'\n",
      " '2.0 1' '1.2 1' '9.0 9' '7.4' '7.3' '7.5' '7.9' '7.6' '0.7 1' '0' '8.6 1'\n",
      " '0.7 9' '9.2 1' '8.3 1' '0.5 1' '9.7 1' '8.1 1' '8.1' '0.0 1' '0.6 1'\n",
      " '0.2 1' '0.1 1' '0.9 1' '1.6 1' '9.8 1' '0.8 1' '1.0 1' '8.2' '8.4'\n",
      " '1.3 1' '1.4 1' '8.6' 9.8 9.9 'MM']\n",
      "D GST [99.0 4.8 5.0 3.3 2.4 5.2 4.9 4.7 7.7 6.0 3.7 7.8 6.1 6.4 9.2 3.5 6.7 7.6\n",
      " 4.6 7.0 8.4 5.3 7.9 5.8 7.5 9.5 4.3 6.8 7.3 6.3 5.9 6.9 6.2 4.4 6.6 5.5\n",
      " 5.1 8.0 5.6 3.9 5.7 7.1 8.6 4.1 3.8 5.4 2.8 2.7 1.4 2.2 3.6 3.1 3.4 1.8\n",
      " 3.0 2.0 2.6 1.7 3.2 4.0 2.3 1.9 2.5 0.7 1.6 1.1 2.1 0.6 0.5 0.9 1.3 1.5\n",
      " 2.9 1.2 4.5 6.5 7.2 7.4 10.5 10.2 9.0 8.3 8.1 8.5 8.2 8.7 9.1 0.8 1.0 0.4\n",
      " 4.2 0.3 8.8 10.7 9.3 10.3 9.6 10.9 11.0 0.1 0.2 11.2 10.1 9.7 9.9 9.8 8.9\n",
      " 10.0 9.4 11.8 10.4 12.6 11.9 10.8 12.5 11.1 11.4 10.6 12.0 11.3 11.6 13.3\n",
      " 12.4 14.3 12.2 15.9 16.0 12.1 11.5 13.2 15.4 15.0 13.4 11.7 14.9 13.9\n",
      " 12.9 13.0 13.1 15.3 16.8 14.5 15.7 13.5 12.7 15.6 13.8 14.2 13.7 12.8\n",
      " 12.3 14.1 15.2 13.6 14.8 14.4 16.3 19.0 14.7 14.0 17.2 0.0 14.6 17.9 15.1\n",
      " 16.2 16.9 15.5 16.5 15.8 17.4 16.6 20.9 17.3 16.7 17.5 18.3 17.6 17.7\n",
      " 20.2 17.1 18.6 16.1 16.4 17.0 '1' '0.5' '0' 'MM' '1.5' '2.6' '2.1' '3.1'\n",
      " '5.1' '4.1' '4.6' '3.6' '5.7' '6.2' '6.7' '7.7' '7.2' '8.2' '9.8' '9.3'\n",
      " '0.3' '8.8']\n"
     ]
    }
   ],
   "source": [
    "# Visually inspect for missing values, expecting 99., 999, 9999, etc\n",
    "for col in wind.columns:\n",
    "    print(col, wind[col].unique())"
   ]
  },
  {
   "cell_type": "markdown",
   "metadata": {},
   "source": [
    "#### From output text file, these are problem values:\n",
    "- 'WDIR' -> 999, '...', '280 1', 'MM'\n",
    "- 'R WSP' -> 99., '99.0 9', 'MM'\n",
    "- 'D GST' -> 99., '5.6', 'MM' **strings**\n"
   ]
  },
  {
   "cell_type": "markdown",
   "metadata": {},
   "source": [
    "### Replace missing values"
   ]
  },
  {
   "cell_type": "code",
   "execution_count": 39,
   "metadata": {},
   "outputs": [],
   "source": [
    "wind['WDIR'].replace(to_replace=[999, '999', '...', 'MM'], value=0, inplace=True)\n",
    "wind['R WSP'].replace(to_replace=[99.0, '99.0', '...', 'MM'], value=0, inplace=True)\n",
    "wind['D GST'].replace(to_replace=[99.0, '99.0', '...', 'MM'], value=0, inplace=True)"
   ]
  },
  {
   "cell_type": "markdown",
   "metadata": {},
   "source": [
    "### Fix dtypes"
   ]
  },
  {
   "cell_type": "code",
   "execution_count": 44,
   "metadata": {},
   "outputs": [],
   "source": [
    "wind[\"WDIR\"] = wind[\"WDIR\"].map(lambda x: str(x.split()[0]) if type(x) == str else x)\n",
    "wind[\"WDIR\"] = wind[\"WDIR\"].astype(int)\n",
    "wind[\"R WSP\"] = wind[\"R WSP\"].map(lambda x: str(x.split()[0]) if type(x) == str else x)\n",
    "wind[\"R WSP\"] = wind[\"R WSP\"].astype(float)\n",
    "wind[\"D GST\"] = wind[\"D GST\"].map(lambda x: str(x.split()[0]) if type(x) == str else x)\n",
    "wind[\"D GST\"] = wind[\"D GST\"].astype(float)\n"
   ]
  },
  {
   "cell_type": "code",
   "execution_count": 45,
   "metadata": {},
   "outputs": [
    {
     "name": "stdout",
     "output_type": "stream",
     "text": [
      "<class 'pandas.core.frame.DataFrame'>\n",
      "Int64Index: 1129194 entries, 0 to 10912\n",
      "Data columns (total 8 columns):\n",
      " #   Column  Non-Null Count    Dtype  \n",
      "---  ------  --------------    -----  \n",
      " 0   #YY     1129194 non-null  int64  \n",
      " 1   MM      1129194 non-null  int64  \n",
      " 2   DD      1129194 non-null  int64  \n",
      " 3   hh      1129194 non-null  int64  \n",
      " 4   mm      1129194 non-null  int64  \n",
      " 5   WDIR    1129194 non-null  int64  \n",
      " 6   R WSP   1129194 non-null  float64\n",
      " 7   D GST   1129194 non-null  float64\n",
      "dtypes: float64(2), int64(6)\n",
      "memory usage: 77.5 MB\n"
     ]
    }
   ],
   "source": [
    "# Sanity check\n",
    "wind.info()"
   ]
  },
  {
   "cell_type": "markdown",
   "metadata": {},
   "source": [
    "### Human readable columns"
   ]
  },
  {
   "cell_type": "code",
   "execution_count": 46,
   "metadata": {},
   "outputs": [],
   "source": [
    "# Rename columns for ease of use.\n",
    "wind.rename(\n",
    "    columns={\n",
    "        \"WDIR\": \"wind_direction\",\n",
    "        \"R WSP\": \"wind_speed\",\n",
    "        \"D GST\": \"gust_speed\",\n",
    "    },\n",
    "    inplace=True,\n",
    ")\n"
   ]
  },
  {
   "cell_type": "markdown",
   "metadata": {},
   "source": [
    "### Date conversions\n",
    "\n",
    "Convert date columns to strings and add '0' where necessary."
   ]
  },
  {
   "cell_type": "code",
   "execution_count": 47,
   "metadata": {},
   "outputs": [
    {
     "data": {
      "text/plain": [
       "array([ 1,  2,  3,  4,  5,  6,  7,  8,  9, 10, 11, 12])"
      ]
     },
     "execution_count": 47,
     "metadata": {},
     "output_type": "execute_result"
    }
   ],
   "source": [
    "wind['MM'].unique()"
   ]
  },
  {
   "cell_type": "code",
   "execution_count": 48,
   "metadata": {},
   "outputs": [
    {
     "data": {
      "text/plain": [
       "array(['01', '02', '03', '04', '05', '06', '07', '08', '09', '10', '11',\n",
       "       '12'], dtype=object)"
      ]
     },
     "execution_count": 48,
     "metadata": {},
     "output_type": "execute_result"
    }
   ],
   "source": [
    "wind[\"MM\"] = wind[\"MM\"].map(lambda x: \"0\" + str(x) if len(str(x)) == 1 else str(x))\n",
    "wind[\"MM\"].unique()\n"
   ]
  },
  {
   "cell_type": "code",
   "execution_count": 49,
   "metadata": {},
   "outputs": [
    {
     "data": {
      "text/plain": [
       "array(['01', '02', '03', '04', '05', '06', '07', '08', '09', '10', '11',\n",
       "       '12', '13', '14', '15', '16', '17', '18', '19', '20', '21', '22',\n",
       "       '23', '24', '25', '26', '27', '28', '29', '30', '31'], dtype=object)"
      ]
     },
     "execution_count": 49,
     "metadata": {},
     "output_type": "execute_result"
    }
   ],
   "source": [
    "wind[\"DD\"] = wind[\"DD\"].map(lambda x: \"0\" + str(x) if len(str(x)) == 1 else str(x))\n",
    "wind['DD'].unique()"
   ]
  },
  {
   "cell_type": "code",
   "execution_count": 50,
   "metadata": {},
   "outputs": [
    {
     "data": {
      "text/plain": [
       "array(['00', '01', '02', '03', '04', '05', '06', '07', '08', '09', '10',\n",
       "       '11', '12', '13', '14', '15', '16', '17', '18', '19', '20', '21',\n",
       "       '22', '23'], dtype=object)"
      ]
     },
     "execution_count": 50,
     "metadata": {},
     "output_type": "execute_result"
    }
   ],
   "source": [
    "wind[\"hh\"] = wind[\"hh\"].map(lambda x: \"0\" + str(x) if len(str(x)) == 1 else str(x))\n",
    "wind['hh'].unique()"
   ]
  },
  {
   "cell_type": "code",
   "execution_count": 51,
   "metadata": {},
   "outputs": [
    {
     "data": {
      "text/plain": [
       "array(['00', '06', '12', '18', '24', '30', '36', '42', '48', '54', '52'],\n",
       "      dtype=object)"
      ]
     },
     "execution_count": 51,
     "metadata": {},
     "output_type": "execute_result"
    }
   ],
   "source": [
    "wind[\"mm\"] = wind[\"mm\"].map(lambda x: \"0\" + str(x) if len(str(x)) == 1 else str(x))\n",
    "wind['mm'].unique()"
   ]
  },
  {
   "cell_type": "markdown",
   "metadata": {},
   "source": [
    "### Create a date column with correct format from other cols."
   ]
  },
  {
   "cell_type": "code",
   "execution_count": 52,
   "metadata": {},
   "outputs": [],
   "source": [
    "# Create a date column with the format '2018-10-26 12:00'\n",
    "wind[\"date\"] = (\n",
    "    \"'\"\n",
    "    + wind[\"#YY\"].astype(str)\n",
    "    + '-'\n",
    "    + wind[\"MM\"].astype(str)\n",
    "    + '-'\n",
    "    + wind[\"DD\"].astype(str)\n",
    "    + ' '\n",
    "    + wind[\"hh\"].astype(str)\n",
    "    + ':'\n",
    "    + wind[\"mm\"].astype(str)\n",
    "    + \"'\"\n",
    ")\n"
   ]
  },
  {
   "cell_type": "code",
   "execution_count": 53,
   "metadata": {},
   "outputs": [
    {
     "data": {
      "text/html": [
       "<div>\n",
       "<style scoped>\n",
       "    .dataframe tbody tr th:only-of-type {\n",
       "        vertical-align: middle;\n",
       "    }\n",
       "\n",
       "    .dataframe tbody tr th {\n",
       "        vertical-align: top;\n",
       "    }\n",
       "\n",
       "    .dataframe thead th {\n",
       "        text-align: right;\n",
       "    }\n",
       "</style>\n",
       "<table border=\"1\" class=\"dataframe\">\n",
       "  <thead>\n",
       "    <tr style=\"text-align: right;\">\n",
       "      <th></th>\n",
       "      <th>#YY</th>\n",
       "      <th>MM</th>\n",
       "      <th>DD</th>\n",
       "      <th>hh</th>\n",
       "      <th>mm</th>\n",
       "      <th>wind_direction</th>\n",
       "      <th>wind_speed</th>\n",
       "      <th>gust_speed</th>\n",
       "      <th>date</th>\n",
       "    </tr>\n",
       "  </thead>\n",
       "  <tbody>\n",
       "    <tr>\n",
       "      <th>0</th>\n",
       "      <td>2008</td>\n",
       "      <td>01</td>\n",
       "      <td>01</td>\n",
       "      <td>00</td>\n",
       "      <td>00</td>\n",
       "      <td>0</td>\n",
       "      <td>0.0</td>\n",
       "      <td>0.0</td>\n",
       "      <td>'2008-01-01 00:00'</td>\n",
       "    </tr>\n",
       "    <tr>\n",
       "      <th>1</th>\n",
       "      <td>2008</td>\n",
       "      <td>01</td>\n",
       "      <td>01</td>\n",
       "      <td>00</td>\n",
       "      <td>06</td>\n",
       "      <td>0</td>\n",
       "      <td>0.0</td>\n",
       "      <td>0.0</td>\n",
       "      <td>'2008-01-01 00:06'</td>\n",
       "    </tr>\n",
       "    <tr>\n",
       "      <th>2</th>\n",
       "      <td>2008</td>\n",
       "      <td>01</td>\n",
       "      <td>01</td>\n",
       "      <td>00</td>\n",
       "      <td>12</td>\n",
       "      <td>0</td>\n",
       "      <td>0.0</td>\n",
       "      <td>0.0</td>\n",
       "      <td>'2008-01-01 00:12'</td>\n",
       "    </tr>\n",
       "    <tr>\n",
       "      <th>3</th>\n",
       "      <td>2008</td>\n",
       "      <td>01</td>\n",
       "      <td>01</td>\n",
       "      <td>00</td>\n",
       "      <td>18</td>\n",
       "      <td>0</td>\n",
       "      <td>0.0</td>\n",
       "      <td>0.0</td>\n",
       "      <td>'2008-01-01 00:18'</td>\n",
       "    </tr>\n",
       "    <tr>\n",
       "      <th>4</th>\n",
       "      <td>2008</td>\n",
       "      <td>01</td>\n",
       "      <td>01</td>\n",
       "      <td>00</td>\n",
       "      <td>24</td>\n",
       "      <td>0</td>\n",
       "      <td>0.0</td>\n",
       "      <td>0.0</td>\n",
       "      <td>'2008-01-01 00:24'</td>\n",
       "    </tr>\n",
       "  </tbody>\n",
       "</table>\n",
       "</div>"
      ],
      "text/plain": [
       "    #YY  MM  DD  hh  mm  wind_direction  wind_speed  gust_speed  \\\n",
       "0  2008  01  01  00  00               0         0.0         0.0   \n",
       "1  2008  01  01  00  06               0         0.0         0.0   \n",
       "2  2008  01  01  00  12               0         0.0         0.0   \n",
       "3  2008  01  01  00  18               0         0.0         0.0   \n",
       "4  2008  01  01  00  24               0         0.0         0.0   \n",
       "\n",
       "                 date  \n",
       "0  '2008-01-01 00:00'  \n",
       "1  '2008-01-01 00:06'  \n",
       "2  '2008-01-01 00:12'  \n",
       "3  '2008-01-01 00:18'  \n",
       "4  '2008-01-01 00:24'  "
      ]
     },
     "execution_count": 53,
     "metadata": {},
     "output_type": "execute_result"
    }
   ],
   "source": [
    "wind.head()"
   ]
  },
  {
   "cell_type": "markdown",
   "metadata": {},
   "source": [
    "### Convert date column to datetime format"
   ]
  },
  {
   "cell_type": "code",
   "execution_count": 56,
   "metadata": {},
   "outputs": [
    {
     "data": {
      "text/html": [
       "<div>\n",
       "<style scoped>\n",
       "    .dataframe tbody tr th:only-of-type {\n",
       "        vertical-align: middle;\n",
       "    }\n",
       "\n",
       "    .dataframe tbody tr th {\n",
       "        vertical-align: top;\n",
       "    }\n",
       "\n",
       "    .dataframe thead th {\n",
       "        text-align: right;\n",
       "    }\n",
       "</style>\n",
       "<table border=\"1\" class=\"dataframe\">\n",
       "  <thead>\n",
       "    <tr style=\"text-align: right;\">\n",
       "      <th></th>\n",
       "      <th>wind_direction</th>\n",
       "      <th>wind_speed</th>\n",
       "      <th>gust_speed</th>\n",
       "      <th>date</th>\n",
       "    </tr>\n",
       "  </thead>\n",
       "  <tbody>\n",
       "    <tr>\n",
       "      <th>0</th>\n",
       "      <td>0</td>\n",
       "      <td>0.0</td>\n",
       "      <td>0.0</td>\n",
       "      <td>2007-12-31 14:00:00</td>\n",
       "    </tr>\n",
       "    <tr>\n",
       "      <th>1</th>\n",
       "      <td>0</td>\n",
       "      <td>0.0</td>\n",
       "      <td>0.0</td>\n",
       "      <td>2007-12-31 14:06:00</td>\n",
       "    </tr>\n",
       "    <tr>\n",
       "      <th>2</th>\n",
       "      <td>0</td>\n",
       "      <td>0.0</td>\n",
       "      <td>0.0</td>\n",
       "      <td>2007-12-31 14:12:00</td>\n",
       "    </tr>\n",
       "    <tr>\n",
       "      <th>3</th>\n",
       "      <td>0</td>\n",
       "      <td>0.0</td>\n",
       "      <td>0.0</td>\n",
       "      <td>2007-12-31 14:18:00</td>\n",
       "    </tr>\n",
       "    <tr>\n",
       "      <th>4</th>\n",
       "      <td>0</td>\n",
       "      <td>0.0</td>\n",
       "      <td>0.0</td>\n",
       "      <td>2007-12-31 14:24:00</td>\n",
       "    </tr>\n",
       "  </tbody>\n",
       "</table>\n",
       "</div>"
      ],
      "text/plain": [
       "   wind_direction  wind_speed  gust_speed                date\n",
       "0               0         0.0         0.0 2007-12-31 14:00:00\n",
       "1               0         0.0         0.0 2007-12-31 14:06:00\n",
       "2               0         0.0         0.0 2007-12-31 14:12:00\n",
       "3               0         0.0         0.0 2007-12-31 14:18:00\n",
       "4               0         0.0         0.0 2007-12-31 14:24:00"
      ]
     },
     "execution_count": 56,
     "metadata": {},
     "output_type": "execute_result"
    }
   ],
   "source": [
    "# With help from https://stackoverflow.com/questions/32344533/how-do-i-round-datetime-column-to-nearest-quarter-hour\n",
    "# Round to nearest half hour\n",
    "# Subtract 10 hours to convert from UTC to Hawaii time\n",
    "\n",
    "wind[\"date\"] = pd.to_datetime(wind[\"date\"]) - pd.DateOffset(hours=10)  \n",
    "wind.drop(columns=[\"#YY\", \"MM\", \"DD\", \"hh\", \"mm\"], inplace=True)\n",
    "wind.head()\n"
   ]
  },
  {
   "cell_type": "markdown",
   "metadata": {},
   "source": [
    "### Sort by date and move to index"
   ]
  },
  {
   "cell_type": "code",
   "execution_count": 57,
   "metadata": {},
   "outputs": [],
   "source": [
    "wind.sort_values(by='date', inplace=True)"
   ]
  },
  {
   "cell_type": "code",
   "execution_count": 58,
   "metadata": {},
   "outputs": [],
   "source": [
    "wind.set_index('date', inplace=True)"
   ]
  },
  {
   "cell_type": "markdown",
   "metadata": {},
   "source": [
    "### Resample to 30 minute periods and take the mean"
   ]
  },
  {
   "cell_type": "code",
   "execution_count": 59,
   "metadata": {},
   "outputs": [
    {
     "data": {
      "text/html": [
       "<div>\n",
       "<style scoped>\n",
       "    .dataframe tbody tr th:only-of-type {\n",
       "        vertical-align: middle;\n",
       "    }\n",
       "\n",
       "    .dataframe tbody tr th {\n",
       "        vertical-align: top;\n",
       "    }\n",
       "\n",
       "    .dataframe thead th {\n",
       "        text-align: right;\n",
       "    }\n",
       "</style>\n",
       "<table border=\"1\" class=\"dataframe\">\n",
       "  <thead>\n",
       "    <tr style=\"text-align: right;\">\n",
       "      <th></th>\n",
       "      <th>wind_direction</th>\n",
       "      <th>wind_speed</th>\n",
       "      <th>gust_speed</th>\n",
       "    </tr>\n",
       "    <tr>\n",
       "      <th>date</th>\n",
       "      <th></th>\n",
       "      <th></th>\n",
       "      <th></th>\n",
       "    </tr>\n",
       "  </thead>\n",
       "  <tbody>\n",
       "    <tr>\n",
       "      <th>2007-12-31 14:00:00</th>\n",
       "      <td>0.0</td>\n",
       "      <td>0.0</td>\n",
       "      <td>0.0</td>\n",
       "    </tr>\n",
       "    <tr>\n",
       "      <th>2007-12-31 14:30:00</th>\n",
       "      <td>0.0</td>\n",
       "      <td>0.0</td>\n",
       "      <td>0.0</td>\n",
       "    </tr>\n",
       "    <tr>\n",
       "      <th>2007-12-31 15:00:00</th>\n",
       "      <td>0.0</td>\n",
       "      <td>0.0</td>\n",
       "      <td>0.0</td>\n",
       "    </tr>\n",
       "    <tr>\n",
       "      <th>2007-12-31 15:30:00</th>\n",
       "      <td>0.0</td>\n",
       "      <td>0.0</td>\n",
       "      <td>0.0</td>\n",
       "    </tr>\n",
       "    <tr>\n",
       "      <th>2007-12-31 16:00:00</th>\n",
       "      <td>0.0</td>\n",
       "      <td>0.0</td>\n",
       "      <td>0.0</td>\n",
       "    </tr>\n",
       "  </tbody>\n",
       "</table>\n",
       "</div>"
      ],
      "text/plain": [
       "                     wind_direction  wind_speed  gust_speed\n",
       "date                                                       \n",
       "2007-12-31 14:00:00             0.0         0.0         0.0\n",
       "2007-12-31 14:30:00             0.0         0.0         0.0\n",
       "2007-12-31 15:00:00             0.0         0.0         0.0\n",
       "2007-12-31 15:30:00             0.0         0.0         0.0\n",
       "2007-12-31 16:00:00             0.0         0.0         0.0"
      ]
     },
     "execution_count": 59,
     "metadata": {},
     "output_type": "execute_result"
    }
   ],
   "source": [
    "wind = wind.resample('30min').mean()\n",
    "wind.tail()"
   ]
  },
  {
   "cell_type": "markdown",
   "metadata": {},
   "source": [
    "### Since we only have competition dates from 2014 on, keep those dates only. This also fixes the sampling frequency to ~30 min"
   ]
  },
  {
   "cell_type": "code",
   "execution_count": 61,
   "metadata": {},
   "outputs": [],
   "source": [
    "wind = wind[wind.index.year > 2013]"
   ]
  },
  {
   "cell_type": "markdown",
   "metadata": {},
   "source": [
    "### Visual check\n",
    "\n",
    "There are some gaps with no station data."
   ]
  },
  {
   "cell_type": "code",
   "execution_count": 62,
   "metadata": {},
   "outputs": [
    {
     "data": {
      "text/plain": [
       "<AxesSubplot:xlabel='date'>"
      ]
     },
     "execution_count": 62,
     "metadata": {},
     "output_type": "execute_result"
    },
    {
     "data": {
      "image/png": "[encoded data removed]",
      "text/plain": [
       "<Figure size 432x288 with 1 Axes>"
      ]
     },
     "metadata": {
      "needs_background": "light"
     },
     "output_type": "display_data"
    }
   ],
   "source": [
    "wind['wind_speed'].plot()"
   ]
  },
  {
   "cell_type": "code",
   "execution_count": 63,
   "metadata": {},
   "outputs": [
    {
     "name": "stdout",
     "output_type": "stream",
     "text": [
      "<class 'pandas.core.frame.DataFrame'>\n",
      "DatetimeIndex: 143536 entries, 2014-01-01 00:00:00 to 2022-03-10 07:30:00\n",
      "Freq: 30T\n",
      "Data columns (total 3 columns):\n",
      " #   Column          Non-Null Count   Dtype  \n",
      "---  ------          --------------   -----  \n",
      " 0   wind_direction  123127 non-null  float64\n",
      " 1   wind_speed      123127 non-null  float64\n",
      " 2   gust_speed      123127 non-null  float64\n",
      "dtypes: float64(3)\n",
      "memory usage: 4.4 MB\n"
     ]
    }
   ],
   "source": [
    "wind.info()"
   ]
  },
  {
   "cell_type": "markdown",
   "metadata": {},
   "source": [
    "### Replace wind direction with sin and cos columns for modeling"
   ]
  },
  {
   "cell_type": "code",
   "execution_count": 64,
   "metadata": {},
   "outputs": [],
   "source": [
    "# With help from\n",
    "# https://dax-nb-preview-prod.s3.us.cloud-object-storage.appdomain.cloud/jfk-weather-data/Part%201%20-%20Data%20Cleaning.html#2.6-Feature-encoding\n",
    "\n",
    "wind['wind_direction_sin'] = np.sin(wind['wind_direction']*(2.*np.pi/360))\n",
    "wind['wind_direction_cos'] = np.cos(wind['wind_direction']*(2.*np.pi/360))\n",
    "\n",
    "# Drop original wave direction column\n",
    "wind.drop(columns='wind_direction', inplace=True)"
   ]
  },
  {
   "cell_type": "markdown",
   "metadata": {},
   "source": [
    "## Save clean and merged mind data to merge with scores for modeling"
   ]
  },
  {
   "cell_type": "code",
   "execution_count": 65,
   "metadata": {},
   "outputs": [
    {
     "data": {
      "text/html": [
       "<div>\n",
       "<style scoped>\n",
       "    .dataframe tbody tr th:only-of-type {\n",
       "        vertical-align: middle;\n",
       "    }\n",
       "\n",
       "    .dataframe tbody tr th {\n",
       "        vertical-align: top;\n",
       "    }\n",
       "\n",
       "    .dataframe thead th {\n",
       "        text-align: right;\n",
       "    }\n",
       "</style>\n",
       "<table border=\"1\" class=\"dataframe\">\n",
       "  <thead>\n",
       "    <tr style=\"text-align: right;\">\n",
       "      <th></th>\n",
       "      <th>wind_speed</th>\n",
       "      <th>gust_speed</th>\n",
       "      <th>wind_direction_sin</th>\n",
       "      <th>wind_direction_cos</th>\n",
       "    </tr>\n",
       "    <tr>\n",
       "      <th>date</th>\n",
       "      <th></th>\n",
       "      <th></th>\n",
       "      <th></th>\n",
       "      <th></th>\n",
       "    </tr>\n",
       "  </thead>\n",
       "  <tbody>\n",
       "    <tr>\n",
       "      <th>2014-01-01 00:00:00</th>\n",
       "      <td>0.28</td>\n",
       "      <td>0.78</td>\n",
       "      <td>0.907777</td>\n",
       "      <td>-0.419452</td>\n",
       "    </tr>\n",
       "    <tr>\n",
       "      <th>2014-01-01 00:30:00</th>\n",
       "      <td>0.18</td>\n",
       "      <td>0.44</td>\n",
       "      <td>0.866025</td>\n",
       "      <td>-0.500000</td>\n",
       "    </tr>\n",
       "    <tr>\n",
       "      <th>2014-01-01 01:00:00</th>\n",
       "      <td>0.26</td>\n",
       "      <td>0.58</td>\n",
       "      <td>0.866025</td>\n",
       "      <td>-0.500000</td>\n",
       "    </tr>\n",
       "    <tr>\n",
       "      <th>2014-01-01 01:30:00</th>\n",
       "      <td>0.06</td>\n",
       "      <td>0.34</td>\n",
       "      <td>0.999701</td>\n",
       "      <td>-0.024432</td>\n",
       "    </tr>\n",
       "    <tr>\n",
       "      <th>2014-01-01 02:00:00</th>\n",
       "      <td>0.28</td>\n",
       "      <td>0.54</td>\n",
       "      <td>0.819152</td>\n",
       "      <td>0.573576</td>\n",
       "    </tr>\n",
       "    <tr>\n",
       "      <th>...</th>\n",
       "      <td>...</td>\n",
       "      <td>...</td>\n",
       "      <td>...</td>\n",
       "      <td>...</td>\n",
       "    </tr>\n",
       "    <tr>\n",
       "      <th>2022-03-10 05:30:00</th>\n",
       "      <td>0.30</td>\n",
       "      <td>0.30</td>\n",
       "      <td>0.615661</td>\n",
       "      <td>0.788011</td>\n",
       "    </tr>\n",
       "    <tr>\n",
       "      <th>2022-03-10 06:00:00</th>\n",
       "      <td>0.10</td>\n",
       "      <td>0.70</td>\n",
       "      <td>0.104528</td>\n",
       "      <td>0.994522</td>\n",
       "    </tr>\n",
       "    <tr>\n",
       "      <th>2022-03-10 06:30:00</th>\n",
       "      <td>0.20</td>\n",
       "      <td>0.60</td>\n",
       "      <td>0.994522</td>\n",
       "      <td>0.104528</td>\n",
       "    </tr>\n",
       "    <tr>\n",
       "      <th>2022-03-10 07:00:00</th>\n",
       "      <td>0.40</td>\n",
       "      <td>0.90</td>\n",
       "      <td>0.529919</td>\n",
       "      <td>-0.848048</td>\n",
       "    </tr>\n",
       "    <tr>\n",
       "      <th>2022-03-10 07:30:00</th>\n",
       "      <td>0.50</td>\n",
       "      <td>1.00</td>\n",
       "      <td>-0.500000</td>\n",
       "      <td>0.866025</td>\n",
       "    </tr>\n",
       "  </tbody>\n",
       "</table>\n",
       "<p>143536 rows × 4 columns</p>\n",
       "</div>"
      ],
      "text/plain": [
       "                     wind_speed  gust_speed  wind_direction_sin  \\\n",
       "date                                                              \n",
       "2014-01-01 00:00:00        0.28        0.78            0.907777   \n",
       "2014-01-01 00:30:00        0.18        0.44            0.866025   \n",
       "2014-01-01 01:00:00        0.26        0.58            0.866025   \n",
       "2014-01-01 01:30:00        0.06        0.34            0.999701   \n",
       "2014-01-01 02:00:00        0.28        0.54            0.819152   \n",
       "...                         ...         ...                 ...   \n",
       "2022-03-10 05:30:00        0.30        0.30            0.615661   \n",
       "2022-03-10 06:00:00        0.10        0.70            0.104528   \n",
       "2022-03-10 06:30:00        0.20        0.60            0.994522   \n",
       "2022-03-10 07:00:00        0.40        0.90            0.529919   \n",
       "2022-03-10 07:30:00        0.50        1.00           -0.500000   \n",
       "\n",
       "                     wind_direction_cos  \n",
       "date                                     \n",
       "2014-01-01 00:00:00           -0.419452  \n",
       "2014-01-01 00:30:00           -0.500000  \n",
       "2014-01-01 01:00:00           -0.500000  \n",
       "2014-01-01 01:30:00           -0.024432  \n",
       "2014-01-01 02:00:00            0.573576  \n",
       "...                                 ...  \n",
       "2022-03-10 05:30:00            0.788011  \n",
       "2022-03-10 06:00:00            0.994522  \n",
       "2022-03-10 06:30:00            0.104528  \n",
       "2022-03-10 07:00:00           -0.848048  \n",
       "2022-03-10 07:30:00            0.866025  \n",
       "\n",
       "[143536 rows x 4 columns]"
      ]
     },
     "execution_count": 65,
     "metadata": {},
     "output_type": "execute_result"
    }
   ],
   "source": [
    "wind"
   ]
  },
  {
   "cell_type": "code",
   "execution_count": 66,
   "metadata": {},
   "outputs": [],
   "source": [
    "wind.to_csv('./data/wind/oahu_wind.csv')"
   ]
  },
  {
   "cell_type": "code",
   "execution_count": null,
   "metadata": {},
   "outputs": [],
   "source": []
  }
 ],
 "metadata": {
  "interpreter": {
   "hash": "f7a0f9bb49171c226bccce8a0987518af550515ba22b4949d7abe766c3680a51"
  },
  "kernelspec": {
   "display_name": "Python 3.9.7 ('base')",
   "language": "python",
   "name": "python3"
  },
  "language_info": {
   "codemirror_mode": {
    "name": "ipython",
    "version": 3
   },
   "file_extension": ".py",
   "mimetype": "text/x-python",
   "name": "python",
   "nbconvert_exporter": "python",
   "pygments_lexer": "ipython3",
   "version": "3.9.7"
  },
  "orig_nbformat": 4
 },
 "nbformat": 4,
 "nbformat_minor": 2
}
