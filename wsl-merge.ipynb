{
 "cells": [
  {
   "cell_type": "markdown",
   "metadata": {},
   "source": [
    "# EDA"
   ]
  },
  {
   "cell_type": "code",
   "execution_count": 1,
   "metadata": {},
   "outputs": [],
   "source": [
    "import pandas as pd\n",
    "import numpy as np\n",
    "import seaborn as sns\n",
    "import matplotlib.pyplot as plt"
   ]
  },
  {
   "cell_type": "code",
   "execution_count": 9,
   "metadata": {},
   "outputs": [
    {
     "data": {
      "text/html": [
       "<div>\n",
       "<style scoped>\n",
       "    .dataframe tbody tr th:only-of-type {\n",
       "        vertical-align: middle;\n",
       "    }\n",
       "\n",
       "    .dataframe tbody tr th {\n",
       "        vertical-align: top;\n",
       "    }\n",
       "\n",
       "    .dataframe thead th {\n",
       "        text-align: right;\n",
       "    }\n",
       "</style>\n",
       "<table border=\"1\" class=\"dataframe\">\n",
       "  <thead>\n",
       "    <tr style=\"text-align: right;\">\n",
       "      <th></th>\n",
       "      <th>year</th>\n",
       "      <th>event</th>\n",
       "      <th>round</th>\n",
       "      <th>heat</th>\n",
       "      <th>name</th>\n",
       "      <th>top_two_waves_total</th>\n",
       "    </tr>\n",
       "  </thead>\n",
       "  <tbody>\n",
       "    <tr>\n",
       "      <th>0</th>\n",
       "      <td>2008</td>\n",
       "      <td>Quiksilver Pro Gold Coast</td>\n",
       "      <td>Round 2</td>\n",
       "      <td>Heat 1</td>\n",
       "      <td>Andy Irons</td>\n",
       "      <td>16.37</td>\n",
       "    </tr>\n",
       "    <tr>\n",
       "      <th>1</th>\n",
       "      <td>2008</td>\n",
       "      <td>Quiksilver Pro Gold Coast</td>\n",
       "      <td>Round 2</td>\n",
       "      <td>Heat 1</td>\n",
       "      <td>Tamaroa McComb</td>\n",
       "      <td>5.90</td>\n",
       "    </tr>\n",
       "    <tr>\n",
       "      <th>2</th>\n",
       "      <td>2008</td>\n",
       "      <td>Quiksilver Pro Gold Coast</td>\n",
       "      <td>Round 2</td>\n",
       "      <td>Heat 2</td>\n",
       "      <td>Julian Wilson</td>\n",
       "      <td>14.00</td>\n",
       "    </tr>\n",
       "    <tr>\n",
       "      <th>3</th>\n",
       "      <td>2008</td>\n",
       "      <td>Quiksilver Pro Gold Coast</td>\n",
       "      <td>Round 2</td>\n",
       "      <td>Heat 2</td>\n",
       "      <td>Pancho Sullivan</td>\n",
       "      <td>13.23</td>\n",
       "    </tr>\n",
       "    <tr>\n",
       "      <th>4</th>\n",
       "      <td>2008</td>\n",
       "      <td>Quiksilver Pro Gold Coast</td>\n",
       "      <td>Round 2</td>\n",
       "      <td>Heat 3</td>\n",
       "      <td>Jeremy Flores</td>\n",
       "      <td>10.83</td>\n",
       "    </tr>\n",
       "  </tbody>\n",
       "</table>\n",
       "</div>"
      ],
      "text/plain": [
       "   year                      event    round     heat             name  \\\n",
       "0  2008  Quiksilver Pro Gold Coast  Round 2  Heat 1        Andy Irons   \n",
       "1  2008  Quiksilver Pro Gold Coast  Round 2  Heat 1    Tamaroa McComb   \n",
       "2  2008  Quiksilver Pro Gold Coast  Round 2  Heat 2     Julian Wilson   \n",
       "3  2008  Quiksilver Pro Gold Coast  Round 2  Heat 2   Pancho Sullivan   \n",
       "4  2008  Quiksilver Pro Gold Coast  Round 2  Heat 3     Jeremy Flores   \n",
       "\n",
       "   top_two_waves_total  \n",
       "0                16.37  \n",
       "1                 5.90  \n",
       "2                14.00  \n",
       "3                13.23  \n",
       "4                10.83  "
      ]
     },
     "execution_count": 9,
     "metadata": {},
     "output_type": "execute_result"
    }
   ],
   "source": [
    "df = pd.read_csv('./data/wsl/avg_scores_all_years.csv', index_col=0)\n",
    "df.head()"
   ]
  },
  {
   "cell_type": "code",
   "execution_count": 10,
   "metadata": {},
   "outputs": [
    {
     "data": {
      "text/plain": [
       "array(['Quiksilver Pro Gold Coast', 'Rip Curl Pro Bells Beach',\n",
       "       'Billabong Pro Teahupoo', 'Globe Pro Fiji', 'Billabong Pro J-Bay',\n",
       "       'Rip Curl Pro Search Bali', 'Boost Mobile Pro',\n",
       "       'Quiksilver Pro France', 'Billabong Pro Mundaka',\n",
       "       'Hang Loose Santa Catarina Pro', 'Billabong Pipeline Masters',\n",
       "       'Hurley Pro Trestles', 'Rip Curl Search', 'Santa Catarina Pro',\n",
       "       'Rip Curl Pro Portugal', 'Billabong Pipe Masters',\n",
       "       'Billabong Rio Pro', 'Quiksilver Pro New York', 'Volcom Fiji Pro',\n",
       "       \"O'Neill Coldwater Classic Santa Cruz\", 'Oakley Pro Bali',\n",
       "       'Drug Aware Margaret River Pro', 'Fiji Pro', 'J-Bay Open',\n",
       "       'Billabong Pro Tahiti', 'Hurley Pro at Trestles',\n",
       "       'Moche Rip Curl Pro Portugal', 'Oi Rio Pro',\n",
       "       'MEO Rip Curl Pro Portugal', 'Outerknown Fiji Pro',\n",
       "       'Corona Open J-Bay', 'Corona Bali Protected',\n",
       "       'Uluwatu CT Margaret River Pro', \"Tahiti Pro Teahupo'o\",\n",
       "       'Margaret River Pro',\n",
       "       'Billabong Pipe Masters presented by Hydro Flask',\n",
       "       'Rip Curl Newcastle Cup presented by Corona',\n",
       "       'Rip Curl Narrabeen Classic presented by Corona',\n",
       "       'Boost Mobile Margaret River Pro presented by Corona',\n",
       "       'Rip Curl Rottnest Search presented by Corona',\n",
       "       'Corona Open Mexico presented by Quiksilver',\n",
       "       'Billabong Pro Pipeline', 'Hurley Pro Sunset Beach',\n",
       "       'MEO Pro Portugal'], dtype=object)"
      ]
     },
     "execution_count": 10,
     "metadata": {},
     "output_type": "execute_result"
    }
   ],
   "source": [
    "df['event'].unique()"
   ]
  },
  {
   "cell_type": "code",
   "execution_count": 11,
   "metadata": {},
   "outputs": [
    {
     "data": {
      "text/plain": [
       "(1649, 6)"
      ]
     },
     "execution_count": 11,
     "metadata": {},
     "output_type": "execute_result"
    }
   ],
   "source": [
    "pipe = [\n",
    "    \"Billabong Pipe Masters presented by Hydro Flask\",\n",
    "    \"Billabong Pro Pipeline\",\n",
    "    \"Billabong Pipe Masters presented by Hydro Flask\",\n",
    "    \"Billabong Pipe Masters\",\n",
    "    \"Billabong Pipeline Masters\"\n",
    "]\n",
    "\n",
    "df.loc[df['event'].isin(pipe)].shape"
   ]
  },
  {
   "cell_type": "code",
   "execution_count": 13,
   "metadata": {},
   "outputs": [
    {
     "data": {
      "text/plain": [
       "Quiksilver Pro Gold Coast                              1473\n",
       "Quiksilver Pro France                                  1444\n",
       "Rip Curl Pro Bells Beach                               1422\n",
       "Billabong Pipe Masters                                 1176\n",
       "Billabong Pro Teahupoo                                  729\n",
       "Hurley Pro Trestles                                     614\n",
       "Oi Rio Pro                                              574\n",
       "Billabong Pro J-Bay                                     493\n",
       "Hurley Pro at Trestles                                  472\n",
       "Billabong Pro Tahiti                                    472\n",
       "Billabong Rio Pro                                       472\n",
       "Rip Curl Pro Portugal                                   472\n",
       "Drug Aware Margaret River Pro                           471\n",
       "MEO Rip Curl Pro Portugal                               456\n",
       "J-Bay Open                                              354\n",
       "Fiji Pro                                                354\n",
       "Corona Open J-Bay                                       338\n",
       "Rip Curl Search                                         329\n",
       "Hang Loose Santa Catarina Pro                           278\n",
       "Billabong Pipeline Masters                              253\n",
       "Moche Rip Curl Pro Portugal                             236\n",
       "Volcom Fiji Pro                                         236\n",
       "Billabong Pro Mundaka                                   234\n",
       "Tahiti Pro Teahupo'o                                    220\n",
       "Corona Bali Protected                                   220\n",
       "Santa Catarina Pro                                      142\n",
       "Boost Mobile Pro                                        140\n",
       "Globe Pro Fiji                                          140\n",
       "Rip Curl Pro Search Bali                                139\n",
       "Outerknown Fiji Pro                                     118\n",
       "Quiksilver Pro New York                                 118\n",
       "Oakley Pro Bali                                         118\n",
       "O'Neill Coldwater Classic Santa Cruz                    118\n",
       "Boost Mobile Margaret River Pro presented by Corona     110\n",
       "Hurley Pro Sunset Beach                                 110\n",
       "Billabong Pro Pipeline                                  110\n",
       "Corona Open Mexico presented by Quiksilver              110\n",
       "Rip Curl Rottnest Search presented by Corona            110\n",
       "Billabong Pipe Masters presented by Hydro Flask         110\n",
       "Rip Curl Narrabeen Classic presented by Corona          110\n",
       "Rip Curl Newcastle Cup presented by Corona              110\n",
       "Margaret River Pro                                      110\n",
       "Uluwatu CT Margaret River Pro                           110\n",
       "MEO Pro Portugal                                        110\n",
       "Name: event, dtype: int64"
      ]
     },
     "execution_count": 13,
     "metadata": {},
     "output_type": "execute_result"
    }
   ],
   "source": [
    "df['event'].value_counts()"
   ]
  },
  {
   "cell_type": "code",
   "execution_count": 12,
   "metadata": {},
   "outputs": [
    {
     "data": {
      "text/plain": [
       "1473"
      ]
     },
     "execution_count": 12,
     "metadata": {},
     "output_type": "execute_result"
    }
   ],
   "source": [
    "df['event'].value_counts()[0]"
   ]
  },
  {
   "cell_type": "markdown",
   "metadata": {},
   "source": [
    "**Pipeline is the event with most data**"
   ]
  },
  {
   "cell_type": "code",
   "execution_count": 14,
   "metadata": {},
   "outputs": [],
   "source": [
    "df['year'] = df['year'].astype(str)"
   ]
  },
  {
   "cell_type": "code",
   "execution_count": 15,
   "metadata": {},
   "outputs": [
    {
     "data": {
      "text/plain": [
       "array(['Round 2', 'Round 1', 'Round 3', 'Round 4', 'Quarterfinal',\n",
       "       'Semifinal', 'Final', 'Round 5', 'Quarterfinals', 'Semifinals',\n",
       "       'Trials Quarterfinals', 'Trials Round 1', 'Trials Semifinals',\n",
       "       'Trials Final', 'Elimination Round', 'Seeding Round',\n",
       "       'Round of 32', 'Round of 16', 'Opening Round'], dtype=object)"
      ]
     },
     "execution_count": 15,
     "metadata": {},
     "output_type": "execute_result"
    }
   ],
   "source": [
    "df['round'].unique()"
   ]
  },
  {
   "cell_type": "code",
   "execution_count": 16,
   "metadata": {},
   "outputs": [],
   "source": [
    "df[\"round\"] = df[\"round\"].map(\n",
    "    {\n",
    "        \"Seeding Round\": \"Round 1\",\n",
    "        \"Round of 32\": \"Round 3\",\n",
    "        \"Quarterfinal\": \"Quarterfinals\",\n",
    "        \"Round of 16\": \"Round 4\",\n",
    "        \"Elimination Round\": \"Round 2\",\n",
    "        \"Opening Round\": \"Round 1\",\n",
    "        \"Round 1\": \"Round 1\",\n",
    "        \"Round 2\": \"Round 2\",\n",
    "        \"Round 3\": \"Round 3\",\n",
    "        \"Round 4\": \"Round 4\",\n",
    "        \"Round 5\": \"Round 5\",\n",
    "        \"Quarterfinals\": \"Quarterfinals\",\n",
    "        \"Final\": \"Final\",\n",
    "        \"Semifinal\": \"Semifinals\",\n",
    "        \"Semifinals\": \"Semifinals\",\n",
    "        \"Trials Quarterfinals\": \"Trials Quarterfinals\",\n",
    "        \"Trials Round 1\": \"Trials Round 1\",\n",
    "        \"Trials Semifinals\": \"Trials Semifinals\",\n",
    "        \"Trials Final\": \"Trials Final\",\n",
    "    }\n",
    ")\n"
   ]
  },
  {
   "cell_type": "code",
   "execution_count": 17,
   "metadata": {},
   "outputs": [
    {
     "data": {
      "text/plain": [
       "array(['Heat 1 ', 'Heat 2 ', 'Heat 3 ', 'Heat 4 ', 'Heat 5 ', 'Heat 6 ',\n",
       "       'Heat 7 ', 'Heat 8 ', 'Heat 9 ', 'Heat 10 ', 'Heat 11 ',\n",
       "       'Heat 12 ', 'Heat 13 ', 'Heat 14 ', 'Heat 15 ', 'Heat 16 ',\n",
       "       'Heat 8 Watch replay', 'Heat 6 Watch replay',\n",
       "       'Heat 2 Watch replay', 'Heat 1 Watch replay',\n",
       "       'Heat 4 Watch replay', 'Heat 10 Watch replay',\n",
       "       'Heat 11 Watch replay', 'Heat 12 Watch replay',\n",
       "       'Heat 3 Watch replay', 'Heat 5 Watch replay',\n",
       "       'Heat 7 Watch replay', 'Heat 9 Watch replay',\n",
       "       'Heat 13 Watch replay', 'Heat 14 Watch replay',\n",
       "       'Heat 15 Watch replay', 'Heat 16 Watch replay'], dtype=object)"
      ]
     },
     "execution_count": 17,
     "metadata": {},
     "output_type": "execute_result"
    }
   ],
   "source": [
    "df['heat'].unique()"
   ]
  },
  {
   "cell_type": "code",
   "execution_count": 18,
   "metadata": {},
   "outputs": [],
   "source": [
    "df[\"heat\"] = df[\"heat\"].map(\n",
    "    {\n",
    "        \"Heat 1 \": \"Heat 1\",\n",
    "        \"Heat 2 \": \"Heat 2\",\n",
    "        \"Heat 3 \": \"Heat 3\",\n",
    "        \"Heat 4 \": \"Heat 4\",\n",
    "        \"Heat 5 \": \"Heat 5\",\n",
    "        \"Heat 6 \": \"Heat 6\",\n",
    "        \"Heat 7 \": \"Heat 7\",\n",
    "        \"Heat 8 \": \"Heat 8\",\n",
    "        \"Heat 9 \": \"Heat 9\",\n",
    "        \"Heat 10 \": \"Heat 10\",\n",
    "        \"Heat 11 \": \"Heat 11\",\n",
    "        \"Heat 12 \": \"Heat 12\",\n",
    "        \"Heat 13 \": \"Heat 13\",\n",
    "        \"Heat 14 \": \"Heat 14\",\n",
    "        \"Heat 15 \": \"Heat 15\",\n",
    "        \"Heat 16 \": \"Heat 16\",\n",
    "        \"Heat 8 Watch replay\": \"Heat 8\",\n",
    "        \"Heat 6 Watch replay\": \"Heat 6\",\n",
    "        \"Heat 2 Watch replay\": \"Heat 2\",\n",
    "        \"Heat 1 Watch replay\": \"Heat 1\",\n",
    "        \"Heat 4 Watch replay\": \"Heat 4\",\n",
    "        \"Heat 10 Watch replay\": \"Heat 10\",\n",
    "        \"Heat 11 Watch replay\": \"Heat 11\",\n",
    "        \"Heat 12 Watch replay\": \"Heat 12\",\n",
    "        \"Heat 3 Watch replay\": \"Heat 3\",\n",
    "        \"Heat 5 Watch replay\": \"Heat 5\",\n",
    "        \"Heat 7 Watch replay\": \"Heat 7\",\n",
    "        \"Heat 9 Watch replay\": \"Heat 9\",\n",
    "        \"Heat 13 Watch replay\": \"Heat 13\",\n",
    "        \"Heat 14 Watch replay\": \"Heat 14\",\n",
    "        \"Heat 15 Watch replay\": \"Heat 15\",\n",
    "        \"Heat 16 Watch replay\": \"Heat 16\",\n",
    "    }\n",
    ")\n"
   ]
  },
  {
   "cell_type": "code",
   "execution_count": 19,
   "metadata": {},
   "outputs": [
    {
     "data": {
      "text/html": [
       "<div>\n",
       "<style scoped>\n",
       "    .dataframe tbody tr th:only-of-type {\n",
       "        vertical-align: middle;\n",
       "    }\n",
       "\n",
       "    .dataframe tbody tr th {\n",
       "        vertical-align: top;\n",
       "    }\n",
       "\n",
       "    .dataframe thead th {\n",
       "        text-align: right;\n",
       "    }\n",
       "</style>\n",
       "<table border=\"1\" class=\"dataframe\">\n",
       "  <thead>\n",
       "    <tr style=\"text-align: right;\">\n",
       "      <th></th>\n",
       "      <th>year</th>\n",
       "      <th>event</th>\n",
       "      <th>round</th>\n",
       "      <th>heat</th>\n",
       "      <th>name</th>\n",
       "      <th>top_two_waves_total</th>\n",
       "    </tr>\n",
       "  </thead>\n",
       "  <tbody>\n",
       "    <tr>\n",
       "      <th>0</th>\n",
       "      <td>2008</td>\n",
       "      <td>Billabong Pipeline Masters</td>\n",
       "      <td>Round 2</td>\n",
       "      <td>Heat 1</td>\n",
       "      <td>Kamalei Alexander</td>\n",
       "      <td>11.90</td>\n",
       "    </tr>\n",
       "    <tr>\n",
       "      <th>1</th>\n",
       "      <td>2008</td>\n",
       "      <td>Billabong Pipeline Masters</td>\n",
       "      <td>Round 2</td>\n",
       "      <td>Heat 1</td>\n",
       "      <td>Mikael Picon</td>\n",
       "      <td>11.67</td>\n",
       "    </tr>\n",
       "    <tr>\n",
       "      <th>2</th>\n",
       "      <td>2008</td>\n",
       "      <td>Billabong Pipeline Masters</td>\n",
       "      <td>Round 2</td>\n",
       "      <td>Heat 2</td>\n",
       "      <td>Evan Valiere</td>\n",
       "      <td>14.57</td>\n",
       "    </tr>\n",
       "    <tr>\n",
       "      <th>3</th>\n",
       "      <td>2008</td>\n",
       "      <td>Billabong Pipeline Masters</td>\n",
       "      <td>Round 2</td>\n",
       "      <td>Heat 2</td>\n",
       "      <td>Mick Campbell</td>\n",
       "      <td>14.34</td>\n",
       "    </tr>\n",
       "    <tr>\n",
       "      <th>4</th>\n",
       "      <td>2008</td>\n",
       "      <td>Billabong Pipeline Masters</td>\n",
       "      <td>Round 2</td>\n",
       "      <td>Heat 3</td>\n",
       "      <td>Jamie O'Brien</td>\n",
       "      <td>15.00</td>\n",
       "    </tr>\n",
       "    <tr>\n",
       "      <th>...</th>\n",
       "      <td>...</td>\n",
       "      <td>...</td>\n",
       "      <td>...</td>\n",
       "      <td>...</td>\n",
       "      <td>...</td>\n",
       "      <td>...</td>\n",
       "    </tr>\n",
       "    <tr>\n",
       "      <th>105</th>\n",
       "      <td>2022</td>\n",
       "      <td>Billabong Pro Pipeline</td>\n",
       "      <td>Semifinals</td>\n",
       "      <td>Heat 1</td>\n",
       "      <td>Miguel Pupo</td>\n",
       "      <td>9.50</td>\n",
       "    </tr>\n",
       "    <tr>\n",
       "      <th>106</th>\n",
       "      <td>2022</td>\n",
       "      <td>Billabong Pro Pipeline</td>\n",
       "      <td>Semifinals</td>\n",
       "      <td>Heat 2</td>\n",
       "      <td>Seth Moniz</td>\n",
       "      <td>13.50</td>\n",
       "    </tr>\n",
       "    <tr>\n",
       "      <th>107</th>\n",
       "      <td>2022</td>\n",
       "      <td>Billabong Pro Pipeline</td>\n",
       "      <td>Semifinals</td>\n",
       "      <td>Heat 2</td>\n",
       "      <td>Caio Ibelli</td>\n",
       "      <td>6.33</td>\n",
       "    </tr>\n",
       "    <tr>\n",
       "      <th>108</th>\n",
       "      <td>2022</td>\n",
       "      <td>Billabong Pro Pipeline</td>\n",
       "      <td>Final</td>\n",
       "      <td>Heat 1</td>\n",
       "      <td>Kelly Slater</td>\n",
       "      <td>18.77</td>\n",
       "    </tr>\n",
       "    <tr>\n",
       "      <th>109</th>\n",
       "      <td>2022</td>\n",
       "      <td>Billabong Pro Pipeline</td>\n",
       "      <td>Final</td>\n",
       "      <td>Heat 1</td>\n",
       "      <td>Seth Moniz</td>\n",
       "      <td>12.53</td>\n",
       "    </tr>\n",
       "  </tbody>\n",
       "</table>\n",
       "<p>1649 rows × 6 columns</p>\n",
       "</div>"
      ],
      "text/plain": [
       "     year                       event       round    heat               name  \\\n",
       "0    2008  Billabong Pipeline Masters     Round 2  Heat 1  Kamalei Alexander   \n",
       "1    2008  Billabong Pipeline Masters     Round 2  Heat 1       Mikael Picon   \n",
       "2    2008  Billabong Pipeline Masters     Round 2  Heat 2       Evan Valiere   \n",
       "3    2008  Billabong Pipeline Masters     Round 2  Heat 2      Mick Campbell   \n",
       "4    2008  Billabong Pipeline Masters     Round 2  Heat 3      Jamie O'Brien   \n",
       "..    ...                         ...         ...     ...                ...   \n",
       "105  2022      Billabong Pro Pipeline  Semifinals  Heat 1        Miguel Pupo   \n",
       "106  2022      Billabong Pro Pipeline  Semifinals  Heat 2         Seth Moniz   \n",
       "107  2022      Billabong Pro Pipeline  Semifinals  Heat 2        Caio Ibelli   \n",
       "108  2022      Billabong Pro Pipeline       Final  Heat 1       Kelly Slater   \n",
       "109  2022      Billabong Pro Pipeline       Final  Heat 1         Seth Moniz   \n",
       "\n",
       "     top_two_waves_total  \n",
       "0                  11.90  \n",
       "1                  11.67  \n",
       "2                  14.57  \n",
       "3                  14.34  \n",
       "4                  15.00  \n",
       "..                   ...  \n",
       "105                 9.50  \n",
       "106                13.50  \n",
       "107                 6.33  \n",
       "108                18.77  \n",
       "109                12.53  \n",
       "\n",
       "[1649 rows x 6 columns]"
      ]
     },
     "execution_count": 19,
     "metadata": {},
     "output_type": "execute_result"
    }
   ],
   "source": [
    "df_pipe = df.loc[df['event'].isin(pipe)].reindex()\n",
    "df_pipe"
   ]
  },
  {
   "cell_type": "code",
   "execution_count": 50,
   "metadata": {},
   "outputs": [
    {
     "data": {
      "text/html": [
       "<div>\n",
       "<style scoped>\n",
       "    .dataframe tbody tr th:only-of-type {\n",
       "        vertical-align: middle;\n",
       "    }\n",
       "\n",
       "    .dataframe tbody tr th {\n",
       "        vertical-align: top;\n",
       "    }\n",
       "\n",
       "    .dataframe thead th {\n",
       "        text-align: right;\n",
       "    }\n",
       "</style>\n",
       "<table border=\"1\" class=\"dataframe\">\n",
       "  <thead>\n",
       "    <tr style=\"text-align: right;\">\n",
       "      <th></th>\n",
       "      <th>year</th>\n",
       "      <th>event</th>\n",
       "      <th>round</th>\n",
       "      <th>heat</th>\n",
       "      <th>date</th>\n",
       "    </tr>\n",
       "  </thead>\n",
       "  <tbody>\n",
       "    <tr>\n",
       "      <th>0</th>\n",
       "      <td>2008</td>\n",
       "      <td>Billabong Pipeline Masters</td>\n",
       "      <td>Round 1</td>\n",
       "      <td>Heat 1</td>\n",
       "      <td></td>\n",
       "    </tr>\n",
       "    <tr>\n",
       "      <th>1</th>\n",
       "      <td>2008</td>\n",
       "      <td>Billabong Pipeline Masters</td>\n",
       "      <td>Round 1</td>\n",
       "      <td>Heat 2</td>\n",
       "      <td></td>\n",
       "    </tr>\n",
       "    <tr>\n",
       "      <th>2</th>\n",
       "      <td>2008</td>\n",
       "      <td>Billabong Pipeline Masters</td>\n",
       "      <td>Round 1</td>\n",
       "      <td>Heat 3</td>\n",
       "      <td></td>\n",
       "    </tr>\n",
       "    <tr>\n",
       "      <th>3</th>\n",
       "      <td>2008</td>\n",
       "      <td>Billabong Pipeline Masters</td>\n",
       "      <td>Round 1</td>\n",
       "      <td>Heat 4</td>\n",
       "      <td></td>\n",
       "    </tr>\n",
       "    <tr>\n",
       "      <th>4</th>\n",
       "      <td>2008</td>\n",
       "      <td>Billabong Pipeline Masters</td>\n",
       "      <td>Round 1</td>\n",
       "      <td>Heat 5</td>\n",
       "      <td></td>\n",
       "    </tr>\n",
       "  </tbody>\n",
       "</table>\n",
       "</div>"
      ],
      "text/plain": [
       "   year                       event    round    heat date\n",
       "0  2008  Billabong Pipeline Masters  Round 1  Heat 1     \n",
       "1  2008  Billabong Pipeline Masters  Round 1  Heat 2     \n",
       "2  2008  Billabong Pipeline Masters  Round 1  Heat 3     \n",
       "3  2008  Billabong Pipeline Masters  Round 1  Heat 4     \n",
       "4  2008  Billabong Pipeline Masters  Round 1  Heat 5     "
      ]
     },
     "execution_count": 50,
     "metadata": {},
     "output_type": "execute_result"
    }
   ],
   "source": [
    "event_dates = pd.read_csv('./data/wsl/pipe_masters_heat_dates.csv', index_col=0)\n",
    "event_dates.head()"
   ]
  },
  {
   "cell_type": "code",
   "execution_count": 51,
   "metadata": {},
   "outputs": [
    {
     "data": {
      "text/plain": [
       "                      330\n",
       " December 19, 2014     27\n",
       " February 1, 2022      24\n",
       " December 16, 2018     24\n",
       " December 17, 2017     24\n",
       " December 18, 2016     23\n",
       " December 17, 2020     22\n",
       " December 16, 2015     19\n",
       " January 29, 2022      16\n",
       " December 11, 2019     16\n",
       " December 19, 2016     16\n",
       " December 10, 2019     16\n",
       " December 12, 2018     15\n",
       " December 19, 2019     15\n",
       " December 18, 2017     15\n",
       " December 12, 2014     12\n",
       " December 13, 2018     12\n",
       " December 14, 2016     12\n",
       " December 9, 2020      12\n",
       " December 11, 2015     12\n",
       " December 20, 2020     12\n",
       " December 10, 2015     12\n",
       " December 13, 2014     12\n",
       " December 17, 2018     11\n",
       " December 11, 2017      9\n",
       " December 17, 2015      8\n",
       " February 5, 2022       7\n",
       " December 16, 2017      3\n",
       " December 14, 2020      1\n",
       "Name: date, dtype: int64"
      ]
     },
     "execution_count": 51,
     "metadata": {},
     "output_type": "execute_result"
    }
   ],
   "source": [
    "event_dates['date'].value_counts()"
   ]
  },
  {
   "cell_type": "code",
   "execution_count": 52,
   "metadata": {},
   "outputs": [
    {
     "data": {
      "text/plain": [
       "Round of 32          16\n",
       "Opening Round        12\n",
       "Round of 16           8\n",
       "Elimination Round     4\n",
       "Quarterfinals         4\n",
       "Semifinals            2\n",
       "Final                 1\n",
       "Name: round, dtype: int64"
      ]
     },
     "execution_count": 52,
     "metadata": {},
     "output_type": "execute_result"
    }
   ],
   "source": [
    "event_dates[event_dates['year'] == 2022]['round'].value_counts()"
   ]
  },
  {
   "cell_type": "code",
   "execution_count": 53,
   "metadata": {},
   "outputs": [
    {
     "data": {
      "text/plain": [
       "array(['Round 1', 'Round 2', 'Round 3', 'Round 4', 'Quarterfinal',\n",
       "       'Semifinal', 'Final', 'Round 5', 'Quarterfinals', 'Semifinals',\n",
       "       'Trials Round 1', 'Trials Quarterfinals', 'Trials Semifinals',\n",
       "       'Trials Final', 'Seeding Round', 'Elimination Round',\n",
       "       'Round of 32', 'Round of 16', 'Opening Round'], dtype=object)"
      ]
     },
     "execution_count": 53,
     "metadata": {},
     "output_type": "execute_result"
    }
   ],
   "source": [
    "event_dates['round'].unique()"
   ]
  },
  {
   "cell_type": "code",
   "execution_count": 54,
   "metadata": {},
   "outputs": [
    {
     "data": {
      "text/plain": [
       "array(['Round 2', 'Round 1', 'Round 3', 'Round 4', 'Quarterfinals',\n",
       "       'Semifinals', 'Final', 'Round 5', 'Trials Quarterfinals',\n",
       "       'Trials Round 1', 'Trials Semifinals', 'Trials Final'],\n",
       "      dtype=object)"
      ]
     },
     "execution_count": 54,
     "metadata": {},
     "output_type": "execute_result"
    }
   ],
   "source": [
    "df_pipe['round'].unique()"
   ]
  },
  {
   "cell_type": "code",
   "execution_count": 55,
   "metadata": {},
   "outputs": [],
   "source": [
    "event_dates[\"round\"] = event_dates[\"round\"].map(\n",
    "    {\n",
    "        \"Seeding Round\": \"Round 1\",\n",
    "        \"Round of 32\": \"Round 3\",\n",
    "        \"Quarterfinal\": \"Quarterfinals\",\n",
    "        \"Round of 16\": \"Round 4\",\n",
    "        \"Elimination Round\": \"Round 2\",\n",
    "        \"Opening Round\": \"Round 1\",\n",
    "        \"Round 1\": \"Round 1\",\n",
    "        \"Round 2\": \"Round 2\",\n",
    "        \"Round 3\": \"Round 3\",\n",
    "        \"Round 4\": \"Round 4\",\n",
    "        \"Round 5\": \"Round 5\",\n",
    "        \"Quarterfinals\": \"Quarterfinals\",\n",
    "        \"Final\": \"Final\",\n",
    "        \"Semifinal\": \"Semifinals\",\n",
    "        \"Semifinals\": \"Semifinals\",\n",
    "        \"Trials Quarterfinals\": \"Trials Quarterfinals\",\n",
    "        \"Trials Round 1\": \"Trials Round 1\",\n",
    "        \"Trials Semifinals\": \"Trials Semifinals\",\n",
    "        \"Trials Final\": \"Trials Final\",\n",
    "    }\n",
    ")\n"
   ]
  },
  {
   "cell_type": "code",
   "execution_count": 56,
   "metadata": {},
   "outputs": [
    {
     "data": {
      "text/plain": [
       "array(['Heat 1', 'Heat 2', 'Heat 3', 'Heat 4', 'Heat 5', 'Heat 6',\n",
       "       'Heat 7', 'Heat 8', 'Heat 9', 'Heat 10', 'Heat 11', 'Heat 12',\n",
       "       'Heat 13', 'Heat 14', 'Heat 15', 'Heat 16'], dtype=object)"
      ]
     },
     "execution_count": 56,
     "metadata": {},
     "output_type": "execute_result"
    }
   ],
   "source": [
    "event_dates['heat'].unique()"
   ]
  },
  {
   "cell_type": "code",
   "execution_count": 57,
   "metadata": {},
   "outputs": [
    {
     "data": {
      "text/plain": [
       "array(['Heat 1', 'Heat 2', 'Heat 3', 'Heat 4', 'Heat 5', 'Heat 6',\n",
       "       'Heat 7', 'Heat 8', 'Heat 9', 'Heat 10', 'Heat 11', 'Heat 12',\n",
       "       'Heat 13', 'Heat 14', 'Heat 15', 'Heat 16'], dtype=object)"
      ]
     },
     "execution_count": 57,
     "metadata": {},
     "output_type": "execute_result"
    }
   ],
   "source": [
    "df_pipe['heat'].unique()"
   ]
  },
  {
   "cell_type": "code",
   "execution_count": 58,
   "metadata": {},
   "outputs": [
    {
     "data": {
      "text/plain": [
       "array([ True,  True,  True,  True,  True,  True,  True,  True,  True,\n",
       "        True,  True,  True,  True,  True,  True,  True])"
      ]
     },
     "execution_count": 58,
     "metadata": {},
     "output_type": "execute_result"
    }
   ],
   "source": [
    "df_pipe['heat'].unique() == event_dates['heat'].unique()"
   ]
  },
  {
   "cell_type": "code",
   "execution_count": 59,
   "metadata": {},
   "outputs": [
    {
     "data": {
      "text/plain": [
       "array([False, False,  True,  True,  True,  True,  True,  True, False,\n",
       "       False,  True,  True])"
      ]
     },
     "execution_count": 59,
     "metadata": {},
     "output_type": "execute_result"
    }
   ],
   "source": [
    "df_pipe['round'].unique() == event_dates['round'].unique()"
   ]
  },
  {
   "cell_type": "code",
   "execution_count": 60,
   "metadata": {},
   "outputs": [
    {
     "data": {
      "text/plain": [
       "array([' ', ' December 12, 2014', ' December 13, 2014',\n",
       "       ' December 19, 2014', ' December 10, 2015', ' December 11, 2015',\n",
       "       ' December 16, 2015', ' December 17, 2015', ' December 14, 2016',\n",
       "       ' December 18, 2016', ' December 19, 2016', ' December 11, 2017',\n",
       "       ' December 16, 2017', ' December 17, 2017', ' December 18, 2017',\n",
       "       ' December 12, 2018', ' December 13, 2018', ' December 16, 2018',\n",
       "       ' December 17, 2018', ' December 10, 2019', ' December 11, 2019',\n",
       "       ' December 19, 2019', ' December 9, 2020', ' December 14, 2020',\n",
       "       ' December 17, 2020', ' December 20, 2020', ' January 29, 2022',\n",
       "       ' February 1, 2022', ' February 5, 2022'], dtype=object)"
      ]
     },
     "execution_count": 60,
     "metadata": {},
     "output_type": "execute_result"
    }
   ],
   "source": [
    "event_dates['date'].unique()"
   ]
  },
  {
   "cell_type": "code",
   "execution_count": 64,
   "metadata": {},
   "outputs": [],
   "source": [
    "event_dates['date'] = event_dates['date'].str[1:]"
   ]
  },
  {
   "cell_type": "code",
   "execution_count": 68,
   "metadata": {},
   "outputs": [],
   "source": [
    "event_dates = event_dates[event_dates['date'] != '']"
   ]
  },
  {
   "cell_type": "code",
   "execution_count": 71,
   "metadata": {},
   "outputs": [
    {
     "data": {
      "text/plain": [
       "array(['2014-12-12T00:00:00.000000000', '2014-12-13T00:00:00.000000000',\n",
       "       '2014-12-19T00:00:00.000000000', '2015-12-10T00:00:00.000000000',\n",
       "       '2015-12-11T00:00:00.000000000', '2015-12-16T00:00:00.000000000',\n",
       "       '2015-12-17T00:00:00.000000000', '2016-12-14T00:00:00.000000000',\n",
       "       '2016-12-18T00:00:00.000000000', '2016-12-19T00:00:00.000000000',\n",
       "       '2017-12-11T00:00:00.000000000', '2017-12-16T00:00:00.000000000',\n",
       "       '2017-12-17T00:00:00.000000000', '2017-12-18T00:00:00.000000000',\n",
       "       '2018-12-12T00:00:00.000000000', '2018-12-13T00:00:00.000000000',\n",
       "       '2018-12-16T00:00:00.000000000', '2018-12-17T00:00:00.000000000',\n",
       "       '2019-12-10T00:00:00.000000000', '2019-12-11T00:00:00.000000000',\n",
       "       '2019-12-19T00:00:00.000000000', '2020-12-09T00:00:00.000000000',\n",
       "       '2020-12-14T00:00:00.000000000', '2020-12-17T00:00:00.000000000',\n",
       "       '2020-12-20T00:00:00.000000000', '2022-01-29T00:00:00.000000000',\n",
       "       '2022-02-01T00:00:00.000000000', '2022-02-05T00:00:00.000000000'],\n",
       "      dtype='datetime64[ns]')"
      ]
     },
     "execution_count": 71,
     "metadata": {},
     "output_type": "execute_result"
    }
   ],
   "source": [
    "event_dates['date'] = pd.to_datetime(event_dates['date'], infer_datetime_format=True)\n",
    "event_dates['date'].unique()"
   ]
  },
  {
   "cell_type": "code",
   "execution_count": 74,
   "metadata": {},
   "outputs": [
    {
     "data": {
      "text/html": [
       "<div>\n",
       "<style scoped>\n",
       "    .dataframe tbody tr th:only-of-type {\n",
       "        vertical-align: middle;\n",
       "    }\n",
       "\n",
       "    .dataframe tbody tr th {\n",
       "        vertical-align: top;\n",
       "    }\n",
       "\n",
       "    .dataframe thead th {\n",
       "        text-align: right;\n",
       "    }\n",
       "</style>\n",
       "<table border=\"1\" class=\"dataframe\">\n",
       "  <thead>\n",
       "    <tr style=\"text-align: right;\">\n",
       "      <th></th>\n",
       "      <th>year</th>\n",
       "      <th>event</th>\n",
       "      <th>round</th>\n",
       "      <th>heat</th>\n",
       "      <th>date</th>\n",
       "    </tr>\n",
       "  </thead>\n",
       "  <tbody>\n",
       "    <tr>\n",
       "      <th>0</th>\n",
       "      <td>2014</td>\n",
       "      <td>Billabong Pipe Masters</td>\n",
       "      <td>Round 1</td>\n",
       "      <td>Heat 1</td>\n",
       "      <td>2014-12-12</td>\n",
       "    </tr>\n",
       "    <tr>\n",
       "      <th>1</th>\n",
       "      <td>2014</td>\n",
       "      <td>Billabong Pipe Masters</td>\n",
       "      <td>Round 1</td>\n",
       "      <td>Heat 2</td>\n",
       "      <td>2014-12-12</td>\n",
       "    </tr>\n",
       "    <tr>\n",
       "      <th>2</th>\n",
       "      <td>2014</td>\n",
       "      <td>Billabong Pipe Masters</td>\n",
       "      <td>Round 1</td>\n",
       "      <td>Heat 3</td>\n",
       "      <td>2014-12-12</td>\n",
       "    </tr>\n",
       "    <tr>\n",
       "      <th>3</th>\n",
       "      <td>2014</td>\n",
       "      <td>Billabong Pipe Masters</td>\n",
       "      <td>Round 1</td>\n",
       "      <td>Heat 4</td>\n",
       "      <td>2014-12-12</td>\n",
       "    </tr>\n",
       "    <tr>\n",
       "      <th>4</th>\n",
       "      <td>2014</td>\n",
       "      <td>Billabong Pipe Masters</td>\n",
       "      <td>Round 1</td>\n",
       "      <td>Heat 5</td>\n",
       "      <td>2014-12-12</td>\n",
       "    </tr>\n",
       "    <tr>\n",
       "      <th>5</th>\n",
       "      <td>2014</td>\n",
       "      <td>Billabong Pipe Masters</td>\n",
       "      <td>Round 1</td>\n",
       "      <td>Heat 6</td>\n",
       "      <td>2014-12-12</td>\n",
       "    </tr>\n",
       "    <tr>\n",
       "      <th>6</th>\n",
       "      <td>2014</td>\n",
       "      <td>Billabong Pipe Masters</td>\n",
       "      <td>Round 1</td>\n",
       "      <td>Heat 7</td>\n",
       "      <td>2014-12-12</td>\n",
       "    </tr>\n",
       "    <tr>\n",
       "      <th>7</th>\n",
       "      <td>2014</td>\n",
       "      <td>Billabong Pipe Masters</td>\n",
       "      <td>Round 1</td>\n",
       "      <td>Heat 8</td>\n",
       "      <td>2014-12-12</td>\n",
       "    </tr>\n",
       "    <tr>\n",
       "      <th>8</th>\n",
       "      <td>2014</td>\n",
       "      <td>Billabong Pipe Masters</td>\n",
       "      <td>Round 1</td>\n",
       "      <td>Heat 9</td>\n",
       "      <td>2014-12-12</td>\n",
       "    </tr>\n",
       "    <tr>\n",
       "      <th>9</th>\n",
       "      <td>2014</td>\n",
       "      <td>Billabong Pipe Masters</td>\n",
       "      <td>Round 1</td>\n",
       "      <td>Heat 10</td>\n",
       "      <td>2014-12-12</td>\n",
       "    </tr>\n",
       "    <tr>\n",
       "      <th>10</th>\n",
       "      <td>2014</td>\n",
       "      <td>Billabong Pipe Masters</td>\n",
       "      <td>Round 1</td>\n",
       "      <td>Heat 11</td>\n",
       "      <td>2014-12-12</td>\n",
       "    </tr>\n",
       "    <tr>\n",
       "      <th>11</th>\n",
       "      <td>2014</td>\n",
       "      <td>Billabong Pipe Masters</td>\n",
       "      <td>Round 1</td>\n",
       "      <td>Heat 12</td>\n",
       "      <td>2014-12-12</td>\n",
       "    </tr>\n",
       "  </tbody>\n",
       "</table>\n",
       "</div>"
      ],
      "text/plain": [
       "    year                   event    round     heat       date\n",
       "0   2014  Billabong Pipe Masters  Round 1   Heat 1 2014-12-12\n",
       "1   2014  Billabong Pipe Masters  Round 1   Heat 2 2014-12-12\n",
       "2   2014  Billabong Pipe Masters  Round 1   Heat 3 2014-12-12\n",
       "3   2014  Billabong Pipe Masters  Round 1   Heat 4 2014-12-12\n",
       "4   2014  Billabong Pipe Masters  Round 1   Heat 5 2014-12-12\n",
       "5   2014  Billabong Pipe Masters  Round 1   Heat 6 2014-12-12\n",
       "6   2014  Billabong Pipe Masters  Round 1   Heat 7 2014-12-12\n",
       "7   2014  Billabong Pipe Masters  Round 1   Heat 8 2014-12-12\n",
       "8   2014  Billabong Pipe Masters  Round 1   Heat 9 2014-12-12\n",
       "9   2014  Billabong Pipe Masters  Round 1  Heat 10 2014-12-12\n",
       "10  2014  Billabong Pipe Masters  Round 1  Heat 11 2014-12-12\n",
       "11  2014  Billabong Pipe Masters  Round 1  Heat 12 2014-12-12"
      ]
     },
     "execution_count": 74,
     "metadata": {},
     "output_type": "execute_result"
    }
   ],
   "source": [
    "event_dates[event_dates['date'] == '2014-12-12T00:00:00.000000000']"
   ]
  },
  {
   "cell_type": "code",
   "execution_count": null,
   "metadata": {},
   "outputs": [],
   "source": []
  }
 ],
 "metadata": {
  "interpreter": {
   "hash": "f7a0f9bb49171c226bccce8a0987518af550515ba22b4949d7abe766c3680a51"
  },
  "kernelspec": {
   "display_name": "Python 3.9.7 ('base')",
   "language": "python",
   "name": "python3"
  },
  "language_info": {
   "codemirror_mode": {
    "name": "ipython",
    "version": 3
   },
   "file_extension": ".py",
   "mimetype": "text/x-python",
   "name": "python",
   "nbconvert_exporter": "python",
   "pygments_lexer": "ipython3",
   "version": "3.9.7"
  },
  "orig_nbformat": 4
 },
 "nbformat": 4,
 "nbformat_minor": 2
}
