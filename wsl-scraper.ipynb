{
 "cells": [
  {
   "cell_type": "markdown",
   "metadata": {},
   "source": [
    "# World Surf League Scores Web Scraper"
   ]
  },
  {
   "cell_type": "markdown",
   "metadata": {},
   "source": [
    "## Imports"
   ]
  },
  {
   "cell_type": "code",
   "execution_count": 41,
   "metadata": {},
   "outputs": [],
   "source": [
    "import pandas as pd\n",
    "import numpy as np\n",
    "from requests import get\n",
    "import json\n",
    "from bs4 import BeautifulSoup\n",
    "import time\n",
    "\n"
   ]
  },
  {
   "cell_type": "markdown",
   "metadata": {},
   "source": [
    "## World Surf League Scores\n",
    "\n",
    "I'm going to focus on the Pipeline Masters first. It is the marquee event of the Championship Tour and is run every year (**verify**)."
   ]
  },
  {
   "cell_type": "markdown",
   "metadata": {},
   "source": [
    "### Get HTML soup and review\n",
    "\n",
    "Use Beautiful Soup to get html from World Surf League event pages. Each page has the final result and a 'carousel' that links to previous rounds."
   ]
  },
  {
   "cell_type": "code",
   "execution_count": 42,
   "metadata": {},
   "outputs": [],
   "source": [
    "# Starting URLs\n",
    "pipe_2008_url = \"https://www.worldsurfleague.com/events/2008/mct/75/billabong-pipeline-masters\"\n",
    "res = get(pipe_2008_url)\n",
    "soup = BeautifulSoup(res.content)\n"
   ]
  },
  {
   "cell_type": "markdown",
   "metadata": {},
   "source": [
    "From inspecting page source I have found an unordered list with useful urls to get all scores from each event"
   ]
  },
  {
   "cell_type": "code",
   "execution_count": 43,
   "metadata": {},
   "outputs": [],
   "source": [
    "# Find all list items within the event rounds div\n",
    "carousel = soup.find('div', id='event-rounds').find_all('li')"
   ]
  },
  {
   "cell_type": "code",
   "execution_count": 44,
   "metadata": {},
   "outputs": [
    {
     "name": "stdout",
     "output_type": "stream",
     "text": [
      "[<a class=\"next\" data-no-scroll=\"true\" data-request-name=\"eventRound\" href=\"/events/2008/mct/75/billabong-pipeline-masters?roundId=4\">Round 2</a>]\n",
      "[<a class=\"previous\" data-no-scroll=\"true\" data-request-name=\"eventRound\" href=\"/events/2008/mct/75/billabong-pipeline-masters?roundId=3\">Round 1</a>, <a class=\"next\" data-no-scroll=\"true\" data-request-name=\"eventRound\" href=\"/events/2008/mct/75/billabong-pipeline-masters?roundId=5\">Round 3</a>]\n",
      "[<a class=\"previous\" data-no-scroll=\"true\" data-request-name=\"eventRound\" href=\"/events/2008/mct/75/billabong-pipeline-masters?roundId=4\">Round 2</a>, <a class=\"next\" data-no-scroll=\"true\" data-request-name=\"eventRound\" href=\"/events/2008/mct/75/billabong-pipeline-masters?roundId=6\">Round 4</a>]\n",
      "[<a class=\"previous\" data-no-scroll=\"true\" data-request-name=\"eventRound\" href=\"/events/2008/mct/75/billabong-pipeline-masters?roundId=5\">Round 3</a>, <a class=\"next\" data-no-scroll=\"true\" data-request-name=\"eventRound\" href=\"/events/2008/mct/75/billabong-pipeline-masters?roundId=7\">Quarterfinal</a>]\n",
      "[<a class=\"previous\" data-no-scroll=\"true\" data-request-name=\"eventRound\" href=\"/events/2008/mct/75/billabong-pipeline-masters?roundId=6\">Round 4</a>, <a class=\"next\" data-no-scroll=\"true\" data-request-name=\"eventRound\" href=\"/events/2008/mct/75/billabong-pipeline-masters?roundId=52\">Semifinal</a>]\n",
      "[<a class=\"previous\" data-no-scroll=\"true\" data-request-name=\"eventRound\" href=\"/events/2008/mct/75/billabong-pipeline-masters?roundId=7\">Quarterfinal</a>, <a class=\"next\" data-no-scroll=\"true\" data-request-name=\"eventRound\" href=\"/events/2008/mct/75/billabong-pipeline-masters?roundId=77\">Final</a>]\n",
      "[<a class=\"previous\" data-no-scroll=\"true\" data-request-name=\"eventRound\" href=\"/events/2008/mct/75/billabong-pipeline-masters?roundId=52\">Semifinal</a>]\n"
     ]
    }
   ],
   "source": [
    "# Visual check of event round urls and round names/numbers\n",
    "for horse in carousel:\n",
    "    link_elements = horse.find_all('a')\n",
    "    print(link_elements)"
   ]
  },
  {
   "cell_type": "code",
   "execution_count": 45,
   "metadata": {},
   "outputs": [
    {
     "name": "stdout",
     "output_type": "stream",
     "text": [
      "/events/2008/mct/75/billabong-pipeline-masters?roundId=4 Round 2\n",
      "/events/2008/mct/75/billabong-pipeline-masters?roundId=3 Round 1\n",
      "/events/2008/mct/75/billabong-pipeline-masters?roundId=5 Round 3\n",
      "/events/2008/mct/75/billabong-pipeline-masters?roundId=4 Round 2\n",
      "/events/2008/mct/75/billabong-pipeline-masters?roundId=6 Round 4\n",
      "/events/2008/mct/75/billabong-pipeline-masters?roundId=5 Round 3\n",
      "/events/2008/mct/75/billabong-pipeline-masters?roundId=7 Quarterfinal\n",
      "/events/2008/mct/75/billabong-pipeline-masters?roundId=6 Round 4\n",
      "/events/2008/mct/75/billabong-pipeline-masters?roundId=52 Semifinal\n",
      "/events/2008/mct/75/billabong-pipeline-masters?roundId=7 Quarterfinal\n",
      "/events/2008/mct/75/billabong-pipeline-masters?roundId=77 Final\n",
      "/events/2008/mct/75/billabong-pipeline-masters?roundId=52 Semifinal\n"
     ]
    }
   ],
   "source": [
    "# Build a dict of urls and round names\n",
    "round_urls = []\n",
    "for horse in carousel:\n",
    "    link_elements = horse.find_all('a')\n",
    "    for link in link_elements:\n",
    "        url_dict = {}\n",
    "        url_dict['round'] = link.text\n",
    "        # Add endpoint for ease of use later\n",
    "        url_dict['url'] = \"https://www.worldsurfleague.com\" + link['href']\n",
    "        print(link['href'], link.text)\n",
    "        round_urls.append(url_dict)"
   ]
  },
  {
   "cell_type": "code",
   "execution_count": 46,
   "metadata": {},
   "outputs": [
    {
     "data": {
      "text/plain": [
       "[{'round': 'Round 2',\n",
       "  'url': 'https://www.worldsurfleague.com/events/2008/mct/75/billabong-pipeline-masters?roundId=4'},\n",
       " {'round': 'Round 1',\n",
       "  'url': 'https://www.worldsurfleague.com/events/2008/mct/75/billabong-pipeline-masters?roundId=3'},\n",
       " {'round': 'Round 3',\n",
       "  'url': 'https://www.worldsurfleague.com/events/2008/mct/75/billabong-pipeline-masters?roundId=5'},\n",
       " {'round': 'Round 4',\n",
       "  'url': 'https://www.worldsurfleague.com/events/2008/mct/75/billabong-pipeline-masters?roundId=6'},\n",
       " {'round': 'Quarterfinal',\n",
       "  'url': 'https://www.worldsurfleague.com/events/2008/mct/75/billabong-pipeline-masters?roundId=7'},\n",
       " {'round': 'Semifinal',\n",
       "  'url': 'https://www.worldsurfleague.com/events/2008/mct/75/billabong-pipeline-masters?roundId=52'},\n",
       " {'round': 'Final',\n",
       "  'url': 'https://www.worldsurfleague.com/events/2008/mct/75/billabong-pipeline-masters?roundId=77'}]"
      ]
     },
     "execution_count": 46,
     "metadata": {},
     "output_type": "execute_result"
    }
   ],
   "source": [
    "# With help from https://stackoverflow.com/questions/11092511/list-of-unique-dictionaries\n",
    "# Keep only unique values\n",
    "round_urls_unique = list({unique['url']:unique for unique in round_urls}.values())\n",
    "round_urls_unique"
   ]
  },
  {
   "cell_type": "markdown",
   "metadata": {},
   "source": [
    "### Get scores for every round in an event"
   ]
  },
  {
   "cell_type": "code",
   "execution_count": 47,
   "metadata": {},
   "outputs": [],
   "source": [
    "# Get scores function takes the url dict and gets scores for each round of the event\n",
    "def get_scores(url_list_of_dicts, event_year, event_name):\n",
    "    data = []\n",
    "    # Iterate through event rounds\n",
    "    for round in url_list_of_dicts:\n",
    "        # Get html soup\n",
    "        res = get(round['url'])\n",
    "        round_soup = BeautifulSoup(res.content)\n",
    "        # Get list of athlete names\n",
    "        athletes = round_soup.find_all(\"span\", class_=\"athlete-name\")\n",
    "\n",
    "        # Get list of scores lists\n",
    "        scores = round_soup.find_all(\"div\", class_=\"all-waves all-waves-grid\")\n",
    "\n",
    "        # Go through athletes\n",
    "        for i in range(len(athletes)):\n",
    "\n",
    "            # Create dict to save scores\n",
    "            athlete_scores = {}\n",
    "\n",
    "            # Save event name and year\n",
    "            athlete_scores['year'] = event_year\n",
    "            athlete_scores[\"event\"] = event_name\n",
    "\n",
    "            # Save round name\n",
    "            athlete_scores[\"round\"] = round['round']\n",
    "\n",
    "            # Save heat number\n",
    "            athlete_scores[\"heat\"] = (\n",
    "                athletes[i]\n",
    "                .find_parent(\"div\", class_=\"bd new-heat-bd\")\n",
    "                .find_previous_sibling()\n",
    "                .find(\"span\", class_=\"new-heat-hd-name\")\n",
    "                .text\n",
    "            )\n",
    "\n",
    "            # Athlete name\n",
    "            athlete_scores[\"name\"] = athletes[i].text\n",
    "\n",
    "            # Empty list for athletes scores in that heat\n",
    "            athlete_scores[\"scores\"] = []\n",
    "\n",
    "            # Scores list\n",
    "            per_wave_scores = scores[i].find_all(\"span\", class_=\"score\")\n",
    "\n",
    "            # Append scores\n",
    "            for b in range(len(per_wave_scores)):\n",
    "                try:\n",
    "                    athlete_scores[\"scores\"].append(float(per_wave_scores[b].text))\n",
    "                except:\n",
    "                    continue\n",
    "\n",
    "            # Add to data list\n",
    "            data.append(athlete_scores)\n",
    "\n",
    "        # Sleep\n",
    "        time.sleep(1)\n",
    "\n",
    "    return data"
   ]
  },
  {
   "cell_type": "code",
   "execution_count": 49,
   "metadata": {},
   "outputs": [],
   "source": [
    "pipe_2008_scores = get_scores(round_urls_unique, '2008', 'pipe')"
   ]
  },
  {
   "cell_type": "code",
   "execution_count": 50,
   "metadata": {},
   "outputs": [
    {
     "data": {
      "text/html": [
       "<div>\n",
       "<style scoped>\n",
       "    .dataframe tbody tr th:only-of-type {\n",
       "        vertical-align: middle;\n",
       "    }\n",
       "\n",
       "    .dataframe tbody tr th {\n",
       "        vertical-align: top;\n",
       "    }\n",
       "\n",
       "    .dataframe thead th {\n",
       "        text-align: right;\n",
       "    }\n",
       "</style>\n",
       "<table border=\"1\" class=\"dataframe\">\n",
       "  <thead>\n",
       "    <tr style=\"text-align: right;\">\n",
       "      <th></th>\n",
       "      <th>year</th>\n",
       "      <th>event</th>\n",
       "      <th>round</th>\n",
       "      <th>heat</th>\n",
       "      <th>name</th>\n",
       "      <th>scores</th>\n",
       "    </tr>\n",
       "  </thead>\n",
       "  <tbody>\n",
       "    <tr>\n",
       "      <th>0</th>\n",
       "      <td>2008</td>\n",
       "      <td>pipe</td>\n",
       "      <td>Round 2</td>\n",
       "      <td>Heat 1</td>\n",
       "      <td>Kamalei Alexander</td>\n",
       "      <td>[6.33, 3.0, 5.57, 5.07, 0.67]</td>\n",
       "    </tr>\n",
       "    <tr>\n",
       "      <th>1</th>\n",
       "      <td>2008</td>\n",
       "      <td>pipe</td>\n",
       "      <td>Round 2</td>\n",
       "      <td>Heat 1</td>\n",
       "      <td>Mikael Picon</td>\n",
       "      <td>[2.67, 1.0, 5.17, 5.77, 5.9, 4.43]</td>\n",
       "    </tr>\n",
       "    <tr>\n",
       "      <th>2</th>\n",
       "      <td>2008</td>\n",
       "      <td>pipe</td>\n",
       "      <td>Round 2</td>\n",
       "      <td>Heat 2</td>\n",
       "      <td>Evan Valiere</td>\n",
       "      <td>[2.67, 0.57, 1.57, 5.5, 1.67, 1.37, 9.07]</td>\n",
       "    </tr>\n",
       "    <tr>\n",
       "      <th>3</th>\n",
       "      <td>2008</td>\n",
       "      <td>pipe</td>\n",
       "      <td>Round 2</td>\n",
       "      <td>Heat 2</td>\n",
       "      <td>Mick Campbell</td>\n",
       "      <td>[1.5, 3.17, 5.67, 1.0, 8.67]</td>\n",
       "    </tr>\n",
       "    <tr>\n",
       "      <th>4</th>\n",
       "      <td>2008</td>\n",
       "      <td>pipe</td>\n",
       "      <td>Round 2</td>\n",
       "      <td>Heat 3</td>\n",
       "      <td>Jamie O'Brien</td>\n",
       "      <td>[5.0, 6.0, 1.33, 3.83, 1.73, 2.23, 5.73, 9.0]</td>\n",
       "    </tr>\n",
       "    <tr>\n",
       "      <th>...</th>\n",
       "      <td>...</td>\n",
       "      <td>...</td>\n",
       "      <td>...</td>\n",
       "      <td>...</td>\n",
       "      <td>...</td>\n",
       "      <td>...</td>\n",
       "    </tr>\n",
       "    <tr>\n",
       "      <th>122</th>\n",
       "      <td>2008</td>\n",
       "      <td>pipe</td>\n",
       "      <td>Semifinal</td>\n",
       "      <td>Heat 1</td>\n",
       "      <td>Tim Reyes</td>\n",
       "      <td>[2.07, 2.57, 6.5, 9.1, 5.67]</td>\n",
       "    </tr>\n",
       "    <tr>\n",
       "      <th>123</th>\n",
       "      <td>2008</td>\n",
       "      <td>pipe</td>\n",
       "      <td>Semifinal</td>\n",
       "      <td>Heat 2</td>\n",
       "      <td>Chris Ward</td>\n",
       "      <td>[6.83, 1.13, 1.23, 9.63, 4.5, 1.5]</td>\n",
       "    </tr>\n",
       "    <tr>\n",
       "      <th>124</th>\n",
       "      <td>2008</td>\n",
       "      <td>pipe</td>\n",
       "      <td>Semifinal</td>\n",
       "      <td>Heat 2</td>\n",
       "      <td>Adrian Buchan</td>\n",
       "      <td>[4.33, 1.0, 1.43, 1.4, 3.5, 5.83, 2.67, 0.2]</td>\n",
       "    </tr>\n",
       "    <tr>\n",
       "      <th>125</th>\n",
       "      <td>2008</td>\n",
       "      <td>pipe</td>\n",
       "      <td>Final</td>\n",
       "      <td>Heat 1</td>\n",
       "      <td>Kelly Slater</td>\n",
       "      <td>[1.4, 2.0, 7.17, 0.73, 1.1, 1.0, 6.83]</td>\n",
       "    </tr>\n",
       "    <tr>\n",
       "      <th>126</th>\n",
       "      <td>2008</td>\n",
       "      <td>pipe</td>\n",
       "      <td>Final</td>\n",
       "      <td>Heat 1</td>\n",
       "      <td>Chris Ward</td>\n",
       "      <td>[0.87, 2.33, 3.5, 3.73, 0.67]</td>\n",
       "    </tr>\n",
       "  </tbody>\n",
       "</table>\n",
       "<p>127 rows × 6 columns</p>\n",
       "</div>"
      ],
      "text/plain": [
       "     year event      round     heat               name  \\\n",
       "0    2008  pipe    Round 2  Heat 1   Kamalei Alexander   \n",
       "1    2008  pipe    Round 2  Heat 1        Mikael Picon   \n",
       "2    2008  pipe    Round 2  Heat 2        Evan Valiere   \n",
       "3    2008  pipe    Round 2  Heat 2       Mick Campbell   \n",
       "4    2008  pipe    Round 2  Heat 3       Jamie O'Brien   \n",
       "..    ...   ...        ...      ...                ...   \n",
       "122  2008  pipe  Semifinal  Heat 1           Tim Reyes   \n",
       "123  2008  pipe  Semifinal  Heat 2          Chris Ward   \n",
       "124  2008  pipe  Semifinal  Heat 2       Adrian Buchan   \n",
       "125  2008  pipe      Final  Heat 1        Kelly Slater   \n",
       "126  2008  pipe      Final  Heat 1          Chris Ward   \n",
       "\n",
       "                                            scores  \n",
       "0                    [6.33, 3.0, 5.57, 5.07, 0.67]  \n",
       "1               [2.67, 1.0, 5.17, 5.77, 5.9, 4.43]  \n",
       "2        [2.67, 0.57, 1.57, 5.5, 1.67, 1.37, 9.07]  \n",
       "3                     [1.5, 3.17, 5.67, 1.0, 8.67]  \n",
       "4    [5.0, 6.0, 1.33, 3.83, 1.73, 2.23, 5.73, 9.0]  \n",
       "..                                             ...  \n",
       "122                   [2.07, 2.57, 6.5, 9.1, 5.67]  \n",
       "123             [6.83, 1.13, 1.23, 9.63, 4.5, 1.5]  \n",
       "124   [4.33, 1.0, 1.43, 1.4, 3.5, 5.83, 2.67, 0.2]  \n",
       "125         [1.4, 2.0, 7.17, 0.73, 1.1, 1.0, 6.83]  \n",
       "126                  [0.87, 2.33, 3.5, 3.73, 0.67]  \n",
       "\n",
       "[127 rows x 6 columns]"
      ]
     },
     "execution_count": 50,
     "metadata": {},
     "output_type": "execute_result"
    }
   ],
   "source": [
    "pd.DataFrame(pipe_2008_scores)"
   ]
  },
  {
   "cell_type": "markdown",
   "metadata": {},
   "source": [
    "### Get all scores for all Pipeline events in all years"
   ]
  },
  {
   "cell_type": "code",
   "execution_count": 51,
   "metadata": {},
   "outputs": [],
   "source": [
    "# Get urls for each year's events page\n",
    "yearly_urls = []\n",
    "for year in range(2008, 2023):\n",
    "    # Exclude 2020, all events were cancelled\n",
    "    if year != 2020:\n",
    "        dict_list = {}\n",
    "        dict_list['year'] = year\n",
    "        dict_list['url'] = f'https://www.worldsurfleague.com/events/{year}/mct?all=1'\n",
    "        yearly_urls.append(dict_list)"
   ]
  },
  {
   "cell_type": "code",
   "execution_count": 52,
   "metadata": {},
   "outputs": [
    {
     "data": {
      "text/plain": [
       "[{'year': 2008,\n",
       "  'name': 'Billabong Pipeline Masters',\n",
       "  'url': 'https://www.worldsurfleague.com/events/2008/mct/75/billabong-pipeline-masters'},\n",
       " {'year': 2009,\n",
       "  'name': 'Billabong Pipeline Masters',\n",
       "  'url': 'https://www.worldsurfleague.com/events/2009/mct/138/billabong-pipeline-masters'},\n",
       " {'year': 2010,\n",
       "  'name': 'Billabong Pipe Masters',\n",
       "  'url': 'https://www.worldsurfleague.com/events/2010/mct/220/billabong-pipe-masters'},\n",
       " {'year': 2011,\n",
       "  'name': 'Billabong Pipe Masters',\n",
       "  'url': 'https://www.worldsurfleague.com/events/2011/mct/368/billabong-pipe-masters'},\n",
       " {'year': 2012,\n",
       "  'name': 'Billabong Pipe Masters',\n",
       "  'url': 'https://www.worldsurfleague.com/events/2012/mct/504/billabong-pipe-masters'},\n",
       " {'year': 2013,\n",
       "  'name': 'Billabong Pipe Masters',\n",
       "  'url': 'https://www.worldsurfleague.com/events/2013/mct/615/billabong-pipe-masters'},\n",
       " {'year': 2014,\n",
       "  'name': 'Billabong Pipe Masters',\n",
       "  'url': 'https://www.worldsurfleague.com/events/2014/mct/730/billabong-pipe-masters'},\n",
       " {'year': 2015,\n",
       "  'name': 'Billabong Pipe Masters',\n",
       "  'url': 'https://www.worldsurfleague.com/events/2015/mct/1317/billabong-pipe-masters'},\n",
       " {'year': 2016,\n",
       "  'name': 'Billabong Pipe Masters',\n",
       "  'url': 'https://www.worldsurfleague.com/events/2016/mct/1540/billabong-pipe-masters'},\n",
       " {'year': 2017,\n",
       "  'name': 'Billabong Pipe Masters',\n",
       "  'url': 'https://www.worldsurfleague.com/events/2017/mct/1979/billabong-pipe-masters'},\n",
       " {'year': 2018,\n",
       "  'name': 'Billabong Pipe Masters',\n",
       "  'url': 'https://www.worldsurfleague.com/events/2018/mct/2856/billabong-pipe-masters'},\n",
       " {'year': 2019,\n",
       "  'name': 'Billabong Pipe Masters',\n",
       "  'url': 'https://www.worldsurfleague.com/events/2019/mct/2927/billabong-pipe-masters'},\n",
       " {'year': 2021,\n",
       "  'name': 'Billabong Pipe Masters presented by Hydro Flask',\n",
       "  'url': 'https://www.worldsurfleague.com/events/2021/mct/3616/billabong-pipe-masters-presented-by-hydro-flask'},\n",
       " {'year': 2022,\n",
       "  'name': 'Billabong Pro Pipeline',\n",
       "  'url': 'https://www.worldsurfleague.com/events/2022/mct/3885/billabong-pro-pipeline'}]"
      ]
     },
     "execution_count": 52,
     "metadata": {},
     "output_type": "execute_result"
    }
   ],
   "source": [
    "# Get URL for each event accross years\n",
    "event_urls = []\n",
    "for year in yearly_urls:\n",
    "    res = get(year['url'])\n",
    "    soup = BeautifulSoup(res.content)\n",
    "    for each in soup.find_all(\"a\", class_=\"event-schedule-details__event-name\"):\n",
    "        # Only get pipeline events\n",
    "        if 'Pipe' in each.text.replace('/',''):\n",
    "            event = {}\n",
    "            event['year'] = year['year']\n",
    "            event['name'] = each.text.replace('/','')\n",
    "            event['url'] = each['href']\n",
    "            event_urls.append(event)\n",
    "        else:\n",
    "            continue\n",
    "    time.sleep(1)\n",
    "\n",
    "event_urls"
   ]
  },
  {
   "cell_type": "code",
   "execution_count": 53,
   "metadata": {},
   "outputs": [
    {
     "name": "stdout",
     "output_type": "stream",
     "text": [
      "Getting 2008 Billabong Pipeline Masters...\n",
      "... got 2008 Billabong Pipeline Masters\n",
      "Getting 2009 Billabong Pipeline Masters...\n",
      "... got 2009 Billabong Pipeline Masters\n",
      "Getting 2010 Billabong Pipe Masters...\n",
      "... got 2010 Billabong Pipe Masters\n",
      "Getting 2011 Billabong Pipe Masters...\n",
      "... got 2011 Billabong Pipe Masters\n",
      "Getting 2012 Billabong Pipe Masters...\n",
      "... got 2012 Billabong Pipe Masters\n",
      "Getting 2013 Billabong Pipe Masters...\n",
      "... got 2013 Billabong Pipe Masters\n",
      "Getting 2014 Billabong Pipe Masters...\n",
      "... got 2014 Billabong Pipe Masters\n",
      "Getting 2015 Billabong Pipe Masters...\n",
      "... got 2015 Billabong Pipe Masters\n",
      "Getting 2016 Billabong Pipe Masters...\n",
      "... got 2016 Billabong Pipe Masters\n",
      "Getting 2017 Billabong Pipe Masters...\n",
      "... got 2017 Billabong Pipe Masters\n",
      "Getting 2018 Billabong Pipe Masters...\n",
      "... got 2018 Billabong Pipe Masters\n",
      "Getting 2019 Billabong Pipe Masters...\n",
      "... got 2019 Billabong Pipe Masters\n",
      "Getting 2021 Billabong Pipe Masters presented by Hydro Flask...\n",
      "... got 2021 Billabong Pipe Masters presented by Hydro Flask\n",
      "Getting 2022 Billabong Pro Pipeline...\n",
      "... got 2022 Billabong Pro Pipeline\n"
     ]
    }
   ],
   "source": [
    "# Get all scores and save them as a list of df\n",
    "df_list = []\n",
    "for event in event_urls:\n",
    "    print(f\"Getting {event['year']} {event['name']}...\")\n",
    "    res = get(event[\"url\"])\n",
    "    soup = BeautifulSoup(res.content)\n",
    "    # Find all list items within the event rounds div\n",
    "    try:\n",
    "        carousel = soup.find(\"div\", id=\"event-rounds\").find_all(\"li\")\n",
    "    except:\n",
    "        print(f\"FAILED {event['year']} {event['name']}\")\n",
    "        continue\n",
    "\n",
    "    # Build a dict of urls and round names\n",
    "    round_urls = []\n",
    "    for horse in carousel:\n",
    "        link_elements = horse.find_all(\"a\")\n",
    "        for link in link_elements:\n",
    "            url_dict = {}\n",
    "            url_dict[\"round\"] = link.text\n",
    "            # Add endpoint for ease of use later\n",
    "            url_dict[\"url\"] = \"https://www.worldsurfleague.com\" + link[\"href\"]\n",
    "            round_urls.append(url_dict)\n",
    "\n",
    "    # Keep only unique values\n",
    "    round_urls_unique = list({unique[\"url\"]: unique for unique in round_urls}.values())\n",
    "\n",
    "    # Run get scores function and assign result to a variable\n",
    "    event_scores = get_scores(\n",
    "        round_urls_unique, event_year=event[\"year\"], event_name=event[\"name\"]\n",
    "    )\n",
    "\n",
    "    # Convert scores data to DataFrame and append to df_list\n",
    "    # pd.DataFrame(event_scores).to_csv(\n",
    "    #     f\"./data/{event['name']} {event['year']}.csv\", index=False\n",
    "    # )\n",
    "    df_list.append(pd.DataFrame(event_scores))\n",
    "    print(f\"... got {event['year']} {event['name']}\")\n"
   ]
  },
  {
   "cell_type": "code",
   "execution_count": 54,
   "metadata": {},
   "outputs": [
    {
     "data": {
      "text/html": [
       "<div>\n",
       "<style scoped>\n",
       "    .dataframe tbody tr th:only-of-type {\n",
       "        vertical-align: middle;\n",
       "    }\n",
       "\n",
       "    .dataframe tbody tr th {\n",
       "        vertical-align: top;\n",
       "    }\n",
       "\n",
       "    .dataframe thead th {\n",
       "        text-align: right;\n",
       "    }\n",
       "</style>\n",
       "<table border=\"1\" class=\"dataframe\">\n",
       "  <thead>\n",
       "    <tr style=\"text-align: right;\">\n",
       "      <th></th>\n",
       "      <th>year</th>\n",
       "      <th>event</th>\n",
       "      <th>round</th>\n",
       "      <th>heat</th>\n",
       "      <th>name</th>\n",
       "      <th>scores</th>\n",
       "    </tr>\n",
       "  </thead>\n",
       "  <tbody>\n",
       "    <tr>\n",
       "      <th>0</th>\n",
       "      <td>2008</td>\n",
       "      <td>Billabong Pipeline Masters</td>\n",
       "      <td>Round 2</td>\n",
       "      <td>Heat 1</td>\n",
       "      <td>Kamalei Alexander</td>\n",
       "      <td>[6.33, 3.0, 5.57, 5.07, 0.67]</td>\n",
       "    </tr>\n",
       "    <tr>\n",
       "      <th>1</th>\n",
       "      <td>2008</td>\n",
       "      <td>Billabong Pipeline Masters</td>\n",
       "      <td>Round 2</td>\n",
       "      <td>Heat 1</td>\n",
       "      <td>Mikael Picon</td>\n",
       "      <td>[2.67, 1.0, 5.17, 5.77, 5.9, 4.43]</td>\n",
       "    </tr>\n",
       "    <tr>\n",
       "      <th>2</th>\n",
       "      <td>2008</td>\n",
       "      <td>Billabong Pipeline Masters</td>\n",
       "      <td>Round 2</td>\n",
       "      <td>Heat 2</td>\n",
       "      <td>Evan Valiere</td>\n",
       "      <td>[2.67, 0.57, 1.57, 5.5, 1.67, 1.37, 9.07]</td>\n",
       "    </tr>\n",
       "    <tr>\n",
       "      <th>3</th>\n",
       "      <td>2008</td>\n",
       "      <td>Billabong Pipeline Masters</td>\n",
       "      <td>Round 2</td>\n",
       "      <td>Heat 2</td>\n",
       "      <td>Mick Campbell</td>\n",
       "      <td>[1.5, 3.17, 5.67, 1.0, 8.67]</td>\n",
       "    </tr>\n",
       "    <tr>\n",
       "      <th>4</th>\n",
       "      <td>2008</td>\n",
       "      <td>Billabong Pipeline Masters</td>\n",
       "      <td>Round 2</td>\n",
       "      <td>Heat 3</td>\n",
       "      <td>Jamie O'Brien</td>\n",
       "      <td>[5.0, 6.0, 1.33, 3.83, 1.73, 2.23, 5.73, 9.0]</td>\n",
       "    </tr>\n",
       "    <tr>\n",
       "      <th>...</th>\n",
       "      <td>...</td>\n",
       "      <td>...</td>\n",
       "      <td>...</td>\n",
       "      <td>...</td>\n",
       "      <td>...</td>\n",
       "      <td>...</td>\n",
       "    </tr>\n",
       "    <tr>\n",
       "      <th>105</th>\n",
       "      <td>2022</td>\n",
       "      <td>Billabong Pro Pipeline</td>\n",
       "      <td>Semifinals</td>\n",
       "      <td>Heat 1 Watch replay</td>\n",
       "      <td>Miguel Pupo</td>\n",
       "      <td>[2.25, 6.33, 3.17]</td>\n",
       "    </tr>\n",
       "    <tr>\n",
       "      <th>106</th>\n",
       "      <td>2022</td>\n",
       "      <td>Billabong Pro Pipeline</td>\n",
       "      <td>Semifinals</td>\n",
       "      <td>Heat 2 Watch replay</td>\n",
       "      <td>Seth Moniz</td>\n",
       "      <td>[1.77, 5.67, 0.8, 7.83, 0.2, 1.23, 0.33]</td>\n",
       "    </tr>\n",
       "    <tr>\n",
       "      <th>107</th>\n",
       "      <td>2022</td>\n",
       "      <td>Billabong Pro Pipeline</td>\n",
       "      <td>Semifinals</td>\n",
       "      <td>Heat 2 Watch replay</td>\n",
       "      <td>Caio Ibelli</td>\n",
       "      <td>[1.23, 1.2, 4.83, 0.63, 1.5, 1.0, 0.23]</td>\n",
       "    </tr>\n",
       "    <tr>\n",
       "      <th>108</th>\n",
       "      <td>2022</td>\n",
       "      <td>Billabong Pro Pipeline</td>\n",
       "      <td>Final</td>\n",
       "      <td>Heat 1 Watch replay</td>\n",
       "      <td>Kelly Slater</td>\n",
       "      <td>[1.77, 1.37, 9.0, 7.17, 8.17, 9.77]</td>\n",
       "    </tr>\n",
       "    <tr>\n",
       "      <th>109</th>\n",
       "      <td>2022</td>\n",
       "      <td>Billabong Pro Pipeline</td>\n",
       "      <td>Final</td>\n",
       "      <td>Heat 1 Watch replay</td>\n",
       "      <td>Seth Moniz</td>\n",
       "      <td>[0.4, 1.0, 1.03, 1.53, 3.1, 0.37, 9.43]</td>\n",
       "    </tr>\n",
       "  </tbody>\n",
       "</table>\n",
       "<p>1649 rows × 6 columns</p>\n",
       "</div>"
      ],
      "text/plain": [
       "     year                       event       round                 heat  \\\n",
       "0    2008  Billabong Pipeline Masters     Round 2              Heat 1    \n",
       "1    2008  Billabong Pipeline Masters     Round 2              Heat 1    \n",
       "2    2008  Billabong Pipeline Masters     Round 2              Heat 2    \n",
       "3    2008  Billabong Pipeline Masters     Round 2              Heat 2    \n",
       "4    2008  Billabong Pipeline Masters     Round 2              Heat 3    \n",
       "..    ...                         ...         ...                  ...   \n",
       "105  2022      Billabong Pro Pipeline  Semifinals  Heat 1 Watch replay   \n",
       "106  2022      Billabong Pro Pipeline  Semifinals  Heat 2 Watch replay   \n",
       "107  2022      Billabong Pro Pipeline  Semifinals  Heat 2 Watch replay   \n",
       "108  2022      Billabong Pro Pipeline       Final  Heat 1 Watch replay   \n",
       "109  2022      Billabong Pro Pipeline       Final  Heat 1 Watch replay   \n",
       "\n",
       "                  name                                         scores  \n",
       "0    Kamalei Alexander                  [6.33, 3.0, 5.57, 5.07, 0.67]  \n",
       "1         Mikael Picon             [2.67, 1.0, 5.17, 5.77, 5.9, 4.43]  \n",
       "2         Evan Valiere      [2.67, 0.57, 1.57, 5.5, 1.67, 1.37, 9.07]  \n",
       "3        Mick Campbell                   [1.5, 3.17, 5.67, 1.0, 8.67]  \n",
       "4        Jamie O'Brien  [5.0, 6.0, 1.33, 3.83, 1.73, 2.23, 5.73, 9.0]  \n",
       "..                 ...                                            ...  \n",
       "105        Miguel Pupo                             [2.25, 6.33, 3.17]  \n",
       "106         Seth Moniz       [1.77, 5.67, 0.8, 7.83, 0.2, 1.23, 0.33]  \n",
       "107        Caio Ibelli        [1.23, 1.2, 4.83, 0.63, 1.5, 1.0, 0.23]  \n",
       "108       Kelly Slater            [1.77, 1.37, 9.0, 7.17, 8.17, 9.77]  \n",
       "109         Seth Moniz        [0.4, 1.0, 1.03, 1.53, 3.1, 0.37, 9.43]  \n",
       "\n",
       "[1649 rows x 6 columns]"
      ]
     },
     "execution_count": 54,
     "metadata": {},
     "output_type": "execute_result"
    }
   ],
   "source": [
    "pd.concat(df_list)"
   ]
  },
  {
   "cell_type": "code",
   "execution_count": 55,
   "metadata": {},
   "outputs": [],
   "source": [
    "pd.concat(df_list).to_csv('./data/wsl/pipeline_scores_all_years.csv')"
   ]
  },
  {
   "cell_type": "markdown",
   "metadata": {},
   "source": [
    "## World Surf League Dates and Times of Rounds\n",
    "\n",
    "Using a similar loop as before, get dates for event heats where possible"
   ]
  },
  {
   "cell_type": "code",
   "execution_count": 24,
   "metadata": {},
   "outputs": [],
   "source": [
    "res = get(event_urls[-4][\"url\"] + \"/results\")\n",
    "soup = BeautifulSoup(res.content)\n",
    "results_grid = soup.find(\n",
    "    \"div\", class_=\"post-event-watch-heat-grid__body post-event-watch-module-body\"\n",
    ")\n",
    "round_name = results_grid.find(\n",
    "    \"div\", class_=\"post-event-watch-heat-grid__round-header\"\n",
    ").text.strip()\n",
    "heats = results_grid.find_all(\"div\", class_=\"hot-heat__hd\")\n"
   ]
  },
  {
   "cell_type": "code",
   "execution_count": 25,
   "metadata": {},
   "outputs": [
    {
     "data": {
      "text/plain": [
       "'Heat 1'"
      ]
     },
     "execution_count": 25,
     "metadata": {},
     "output_type": "execute_result"
    }
   ],
   "source": [
    "heats[0].find(\"span\", class_=\"heat-name\").text\n"
   ]
  },
  {
   "cell_type": "code",
   "execution_count": 26,
   "metadata": {},
   "outputs": [
    {
     "data": {
      "text/plain": [
       "'Ended February 15, 2022'"
      ]
     },
     "execution_count": 26,
     "metadata": {},
     "output_type": "execute_result"
    }
   ],
   "source": [
    "heats[0].find(\"span\", class_=\"hot-heat__status hot-heat__status--over\").text\n"
   ]
  },
  {
   "cell_type": "code",
   "execution_count": 37,
   "metadata": {},
   "outputs": [
    {
     "name": "stdout",
     "output_type": "stream",
     "text": [
      "Getting 2008 Billabong Pipeline Masters...\n",
      "... got 2008 Billabong Pipeline Masters\n",
      "Getting 2009 Billabong Pipeline Masters...\n",
      "... got 2009 Billabong Pipeline Masters\n",
      "Getting 2010 Billabong Pipe Masters...\n",
      "... got 2010 Billabong Pipe Masters\n",
      "Getting 2011 Billabong Pipe Masters...\n",
      "... got 2011 Billabong Pipe Masters\n",
      "Getting 2012 Billabong Pipe Masters...\n",
      "... got 2012 Billabong Pipe Masters\n",
      "Getting 2013 Billabong Pipe Masters...\n",
      "... got 2013 Billabong Pipe Masters\n",
      "Getting 2014 Billabong Pipe Masters...\n",
      "... got 2014 Billabong Pipe Masters\n",
      "Getting 2015 Billabong Pipe Masters...\n",
      "... got 2015 Billabong Pipe Masters\n",
      "Getting 2016 Billabong Pipe Masters...\n",
      "... got 2016 Billabong Pipe Masters\n",
      "Getting 2017 Billabong Pipe Masters...\n",
      "... got 2017 Billabong Pipe Masters\n",
      "Getting 2018 Billabong Pipe Masters...\n",
      "... got 2018 Billabong Pipe Masters\n",
      "Getting 2019 Billabong Pipe Masters...\n",
      "... got 2019 Billabong Pipe Masters\n",
      "Getting 2021 Billabong Pipe Masters presented by Hydro Flask...\n",
      "... got 2021 Billabong Pipe Masters presented by Hydro Flask\n",
      "Getting 2022 Billabong Pro Pipeline...\n",
      "... got 2022 Billabong Pro Pipeline\n"
     ]
    }
   ],
   "source": [
    "# Build a data frame with year,event,round,heat,date columns for all events all years\n",
    "df_list = []\n",
    "for event in event_urls:\n",
    "    data = []\n",
    "    print(f\"Getting {event['year']} {event['name']}...\")\n",
    "    res = get(event[\"url\"] + \"/results\")\n",
    "    soup = BeautifulSoup(res.content)\n",
    "    results_grid = soup.find(\n",
    "        \"div\", class_=\"post-event-watch-heat-grid__body post-event-watch-module-body\"\n",
    "    )\n",
    "\n",
    "    if results_grid:\n",
    "        round_name = results_grid.find(\n",
    "            \"div\", class_=\"post-event-watch-heat-grid__round-header\"\n",
    "        ).text.strip()\n",
    "        heats = results_grid.find_all(\"div\", class_=\"hot-heat__hd\")\n",
    "        for heat in heats:\n",
    "            heat_data = {}\n",
    "            try:\n",
    "                heat_data[\"year\"] = event[\"year\"]\n",
    "                heat_data[\"event\"] = event[\"name\"]\n",
    "                heat_data[\"round\"] = results_grid.find(\n",
    "                    \"div\", class_=\"post-event-watch-heat-grid__round-header\"\n",
    "                ).text.strip()\n",
    "                heat_data[\"heat\"] = heat.find(\"span\", class_=\"heat-name\").text\n",
    "                heat_data[\"date\"] = heat.find(\n",
    "                    \"span\", class_=\"hot-heat__status hot-heat__status--over\"\n",
    "                ).text\n",
    "                data.append(heat_data)\n",
    "            except:\n",
    "                print(f\"something wrong in heat data for {event['year']} {event['name']}\")\n",
    "                continue\n",
    "        print(f\"... got {event['year']} {event['name']}\")\n",
    "\n",
    "    else:\n",
    "        print(f\"FAILED {event['year']} {event['name']}\")\n",
    "        continue\n",
    "\n",
    "    df_list.append(pd.DataFrame(data))\n",
    "    time.sleep(2)\n"
   ]
  },
  {
   "cell_type": "code",
   "execution_count": 40,
   "metadata": {},
   "outputs": [],
   "source": [
    "pd.concat(df_list).to_csv('./data/wsl/pipe_masters_heat_dates.csv')"
   ]
  },
  {
   "cell_type": "code",
   "execution_count": null,
   "metadata": {},
   "outputs": [],
   "source": []
  }
 ],
 "metadata": {
  "interpreter": {
   "hash": "f7a0f9bb49171c226bccce8a0987518af550515ba22b4949d7abe766c3680a51"
  },
  "kernelspec": {
   "display_name": "Python 3.9.7 ('base')",
   "language": "python",
   "name": "python3"
  },
  "language_info": {
   "codemirror_mode": {
    "name": "ipython",
    "version": 3
   },
   "file_extension": ".py",
   "mimetype": "text/x-python",
   "name": "python",
   "nbconvert_exporter": "python",
   "pygments_lexer": "ipython3",
   "version": "3.9.7"
  },
  "orig_nbformat": 4
 },
 "nbformat": 4,
 "nbformat_minor": 2
}
