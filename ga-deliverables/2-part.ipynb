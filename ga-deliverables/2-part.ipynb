{
 "cells": [
  {
   "cell_type": "markdown",
   "metadata": {},
   "source": [
    "# Part 2: Problem Statement, EDA and Dataset\n",
    "\n",
    "As previously discussed, for my capstone I will be building a prediciton model of wave scores in World Surf League competitions based on ocean conditions during past events."
   ]
  },
  {
   "cell_type": "markdown",
   "metadata": {},
   "source": [
    "## Problem Statement\n",
    "\n",
    "**Can scores per heat be realiably predicted, in order to aid in the selection of competition days for World Surf League (WSL) events?**\n",
    "\n",
    "## Proposed methods and models\n",
    "\n",
    "- Individual wave scores by athlete, heat, round and event will be scraped from the WSL website for all events on the Men's Championship Tour from 2008 to 2022, excluding 2020 as competition was cancelled all year. This data will be my target in prediciton models.\n",
    "- Initially I will focus on data for the \"Pipeline\" event, held on the North Shore of Oahu and considered the main event in the WSL's yealy calendar. Since this event is held every year, it has the most data. There is also the necessary oceanic historical data necessary.\n",
    "- Event score data will be merged with oceanic conditions data from NOAA buoys. This buoy data will be my modelling data.\n",
    "- Wave score is a continuos variable, so regression models are necessary.\n",
    "- The WSL has a scale for wave score classification, from poor scores to good, excellent and perfect. Using this scale can allow for the use of classification models as well."
   ]
  },
  {
   "cell_type": "markdown",
   "metadata": {},
   "source": [
    "## Risks and assumptions of the data\n",
    "- Wave scores data does not include the exact time of each heat, this is a challenge in merging with NOAA buoy data. I will manualy add dates and times for pipeline events if necessary, but to include all events in the future a better solution is required.\n",
    "- NOAA data must be lagged to account for waves reaching the beach later than measurements are made at the buoy.\n",
    "- NOAA buoy data are time series data that must be averaged for each data point in the WSL data."
   ]
  },
  {
   "cell_type": "markdown",
   "metadata": {},
   "source": [
    "## Initial goals and success criteria\n",
    "\n",
    "- Goal: To produce a high scoring model for the \"pipeline\" competition with a webapp that can take oceanic conditions as inputs and predict scores.\n",
    "- Success criteria: Significant improvement over baseline predictions"
   ]
  },
  {
   "cell_type": "markdown",
   "metadata": {},
   "source": [
    "## Data Source\n",
    "- Wave scores are obtained from the WSL's individual event websites, using the scraping file in this repo.\n",
    "- NOAA historical data is obtained from thier website as text files."
   ]
  },
  {
   "cell_type": "markdown",
   "metadata": {},
   "source": [
    "## Preliminary EDA"
   ]
  },
  {
   "cell_type": "markdown",
   "metadata": {},
   "source": []
  }
 ],
 "metadata": {
  "language_info": {
   "name": "python"
  },
  "orig_nbformat": 4
 },
 "nbformat": 4,
 "nbformat_minor": 2
}
